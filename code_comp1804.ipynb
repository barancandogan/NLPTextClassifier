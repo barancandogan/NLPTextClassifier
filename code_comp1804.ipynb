{
  "cells": [
    {
      "cell_type": "markdown",
      "metadata": {
        "id": "MtefUlQjtOwv"
      },
      "source": [
        "# Data Exploration\n"
      ]
    },
    {
      "cell_type": "code",
      "execution_count": null,
      "metadata": {
        "colab": {
          "base_uri": "https://localhost:8080/"
        },
        "id": "AaHgWwJttEfY",
        "outputId": "df56fb03-7330-459a-c0c0-ff280dcb6514"
      },
      "outputs": [
        {
          "output_type": "stream",
          "name": "stdout",
          "text": [
            "Drive already mounted at /content/drive; to attempt to forcibly remount, call drive.mount(\"/content/drive\", force_remount=True).\n"
          ]
        }
      ],
      "source": [
        "# loading necessary libraries\n",
        "import sys\n",
        "from sklearn.compose import ColumnTransformer\n",
        "from sklearn.feature_extraction.text import TfidfVectorizer\n",
        "from sklearn.pipeline import Pipeline\n",
        "from sklearn.neural_network import MLPClassifier\n",
        "from sklearn.model_selection import train_test_split, GridSearchCV\n",
        "import warnings\n",
        "warnings.simplefilter(\"ignore\") # to ignore the warning\n",
        "import numpy as np\n",
        "import matplotlib.pyplot as plt\n",
        "import pandas as pd\n",
        "\n",
        "\n",
        "from google.colab import drive\n",
        "drive.mount('/content/drive')\n"
      ]
    },
    {
      "cell_type": "markdown",
      "metadata": {
        "id": "oKvSWhZCtfLc"
      },
      "source": [
        "Reading the data from Google Drive After making connection. To understand the data, its data types and column names. The given dataset has 8 columns. 'par_id' , 'lexicon_count', and 'difficult_words' are numerical columns."
      ]
    },
    {
      "cell_type": "markdown",
      "source": [
        "**Important Note:** The dataset named as 'dataset_cw' for clear coding purposes."
      ],
      "metadata": {
        "id": "rgvURrz6soCi"
      }
    },
    {
      "cell_type": "code",
      "execution_count": null,
      "metadata": {
        "colab": {
          "base_uri": "https://localhost:8080/"
        },
        "id": "zXokuQ2ItjfE",
        "outputId": "33c98116-3fe2-440a-9704-1ec29b5fb206"
      },
      "outputs": [
        {
          "output_type": "stream",
          "name": "stdout",
          "text": [
            "Dataset Columns: Index(['par_id', 'paragraph', 'has_entity', 'lexicon_count', 'difficult_words',\n",
            "       'last_editor_gender', 'category', 'text_clarity'],\n",
            "      dtype='object')\n",
            "------------------------------------------------------------\n",
            "Data a: \n",
            "par_id                  int64\n",
            "paragraph              object\n",
            "has_entity             object\n",
            "lexicon_count           int64\n",
            "difficult_words       float64\n",
            "last_editor_gender     object\n",
            "category               object\n",
            "text_clarity           object\n",
            "dtype: object\n"
          ]
        }
      ],
      "source": [
        "data = pd.read_csv('/content/drive/MyDrive/dataset_cw.csv')\n",
        "print('Dataset Columns:' , data.columns)\n",
        "print('--'*30)\n",
        "print('Data a: ')\n",
        "print(data.dtypes)\n",
        "# data.describe()"
      ]
    },
    {
      "cell_type": "code",
      "execution_count": null,
      "metadata": {
        "colab": {
          "base_uri": "https://localhost:8080/"
        },
        "id": "0eX1ge1utoUK",
        "outputId": "b39158b0-6f84-4b26-dd1f-5e4bad5d5cff"
      },
      "outputs": [
        {
          "output_type": "stream",
          "name": "stdout",
          "text": [
            "<class 'pandas.core.frame.DataFrame'>\n",
            "RangeIndex: 9347 entries, 0 to 9346\n",
            "Data columns (total 8 columns):\n",
            " #   Column              Non-Null Count  Dtype  \n",
            "---  ------              --------------  -----  \n",
            " 0   par_id              9347 non-null   int64  \n",
            " 1   paragraph           9347 non-null   object \n",
            " 2   has_entity          9347 non-null   object \n",
            " 3   lexicon_count       9347 non-null   int64  \n",
            " 4   difficult_words     9329 non-null   float64\n",
            " 5   last_editor_gender  9347 non-null   object \n",
            " 6   category            9286 non-null   object \n",
            " 7   text_clarity        9 non-null      object \n",
            "dtypes: float64(1), int64(2), object(5)\n",
            "memory usage: 584.3+ KB\n"
          ]
        }
      ],
      "source": [
        "data.info()"
      ]
    },
    {
      "cell_type": "markdown",
      "metadata": {
        "id": "y4Uh93rPtrDV"
      },
      "source": [
        "## Missing Values\n",
        "Checking the missing value before proceed the creation of the algorithm is necessary.\n",
        "\n",
        "'difficult_words' has 18 missing values I have decided to drop all the rows which have missing values."
      ]
    },
    {
      "cell_type": "code",
      "execution_count": null,
      "metadata": {
        "colab": {
          "base_uri": "https://localhost:8080/"
        },
        "id": "IMP4GdMyttIt",
        "outputId": "c9962762-50e4-4ada-90a6-805b6b6f28d9"
      },
      "outputs": [
        {
          "output_type": "stream",
          "name": "stdout",
          "text": [
            "par_id                   0\n",
            "paragraph                0\n",
            "has_entity               0\n",
            "lexicon_count            0\n",
            "difficult_words         18\n",
            "last_editor_gender       0\n",
            "category                61\n",
            "text_clarity          9338\n",
            "dtype: int64\n",
            "------------------------------------------------------------------------------------------\n",
            "par_id                   0\n",
            "paragraph                0\n",
            "has_entity               0\n",
            "lexicon_count            0\n",
            "difficult_words          0\n",
            "last_editor_gender       0\n",
            "category                61\n",
            "text_clarity          9320\n",
            "dtype: int64\n"
          ]
        }
      ],
      "source": [
        "print(data.isna().sum())\n",
        "print('---'*30)\n",
        "data = data.dropna(subset=['difficult_words'])\n",
        "\n",
        "print(data.isna().sum())"
      ]
    },
    {
      "cell_type": "markdown",
      "metadata": {
        "id": "T7soKQm2uNpJ"
      },
      "source": [
        "## Duplicates"
      ]
    },
    {
      "cell_type": "code",
      "execution_count": null,
      "metadata": {
        "colab": {
          "base_uri": "https://localhost:8080/"
        },
        "id": "Or7hn5fbuJOt",
        "outputId": "178037ae-774a-43ad-9e1e-a7308defc0c5"
      },
      "outputs": [
        {
          "output_type": "stream",
          "name": "stdout",
          "text": [
            "215\n",
            "----------------------------------------\n",
            "0\n",
            "----------------------------------------\n"
          ]
        },
        {
          "output_type": "stream",
          "name": "stderr",
          "text": [
            "<ipython-input-10-2e19b1b71fc7>:5: SettingWithCopyWarning: \n",
            "A value is trying to be set on a copy of a slice from a DataFrame\n",
            "\n",
            "See the caveats in the documentation: https://pandas.pydata.org/pandas-docs/stable/user_guide/indexing.html#returning-a-view-versus-a-copy\n",
            "  data.drop_duplicates(inplace=True) #dropping duplicates\n"
          ]
        }
      ],
      "source": [
        "duplicated_rows = data.duplicated()\n",
        "\n",
        "print(duplicated_rows.sum())\n",
        "print('--'*20)\n",
        "data.drop_duplicates(inplace=True) #dropping duplicates\n",
        "\n",
        "\n",
        "print(data.duplicated().sum())\n",
        "print('--'*20)"
      ]
    },
    {
      "cell_type": "code",
      "execution_count": null,
      "metadata": {
        "colab": {
          "base_uri": "https://localhost:8080/"
        },
        "id": "Gz0xITqYulks",
        "outputId": "58beb62a-1d90-4261-d7c8-d8ba61bdcc9a"
      },
      "outputs": [
        {
          "output_type": "stream",
          "name": "stdout",
          "text": [
            "biographies                             2881\n",
            "philosophy                              2506\n",
            "programming                             1935\n",
            "artificial intelligence                 1522\n",
            "movies about artificial intelligence     162\n",
            "Philosophy                                13\n",
            "Biographies                               13\n",
            "Programming                               10\n",
            "Artificial intelligence                   10\n",
            "Movies about artificial intelligence       1\n",
            "Name: category, dtype: int64\n",
            "------------------------------------------------------------------------------------------\n"
          ]
        }
      ],
      "source": [
        "# distribution of the category\n",
        "print(data['category'].value_counts())\n",
        "data['category'].isna().value_counts()\n",
        "print('---'*30)\n",
        "# pd.DataFrame(data['category'].value_counts()).plot(kind='bar', figsize=(10,10))\n"
      ]
    },
    {
      "cell_type": "markdown",
      "metadata": {
        "id": "edx6eBsIupy5"
      },
      "source": [
        "As we can notice that there is some confusion because of some of the values have upper case. To get rid of this problem we can make all values lower cases."
      ]
    },
    {
      "cell_type": "code",
      "execution_count": null,
      "metadata": {
        "colab": {
          "base_uri": "https://localhost:8080/"
        },
        "id": "F1B2z8mNurl9",
        "outputId": "7f1bd3dd-af59-45a3-c9ee-4d418be26f4c"
      },
      "outputs": [
        {
          "output_type": "stream",
          "name": "stdout",
          "text": [
            "biographies                             2894\n",
            "philosophy                              2519\n",
            "programming                             1945\n",
            "artificial intelligence                 1532\n",
            "movies about artificial intelligence     163\n",
            "Name: category, dtype: int64\n"
          ]
        }
      ],
      "source": [
        "data['category'] = data['category'].str.lower()\n",
        "\n",
        "print(data['category'].value_counts())"
      ]
    },
    {
      "cell_type": "markdown",
      "metadata": {
        "id": "qLCTjzCiu8WR"
      },
      "source": [
        "As we can see values 'data missing' in 'has_entity' column I guess the best solution to drop all the rows that has 'data missing' values. And deleting underscore would be good solution to make the values more simple."
      ]
    },
    {
      "cell_type": "code",
      "execution_count": null,
      "metadata": {
        "colab": {
          "base_uri": "https://localhost:8080/"
        },
        "id": "tqIj3Toeu-Zz",
        "outputId": "1757c3d6-3900-4818-97bb-fab4038b6d1a"
      },
      "outputs": [
        {
          "output_type": "stream",
          "name": "stdout",
          "text": [
            "ORG_YES_PRODUCT_NO_PERSON_YES_     2987\n",
            "ORG_NO_PRODUCT_NO_PERSON_NO_       2788\n",
            "ORG_YES_PRODUCT_NO_PERSON_NO_      1445\n",
            "ORG_NO_PRODUCT_NO_PERSON_YES_      1348\n",
            "ORG_YES_PRODUCT_YES_PERSON_YES_     292\n",
            "ORG_YES_PRODUCT_YES_PERSON_NO_      124\n",
            "ORG_NO_PRODUCT_YES_PERSON_YES_       64\n",
            "ORG_NO_PRODUCT_YES_PERSON_NO_        42\n",
            "data missing                         24\n",
            "Name: has_entity, dtype: int64\n",
            "------------------------------------------------------------\n",
            "ORGYESPRODUCTNOPERSONYES     2987\n",
            "ORGNOPRODUCTNOPERSONNO       2788\n",
            "ORGYESPRODUCTNOPERSONNO      1445\n",
            "ORGNOPRODUCTNOPERSONYES      1348\n",
            "ORGYESPRODUCTYESPERSONYES     292\n",
            "ORGYESPRODUCTYESPERSONNO      124\n",
            "ORGNOPRODUCTYESPERSONYES       64\n",
            "ORGNOPRODUCTYESPERSONNO        42\n",
            "Name: has_entity, dtype: int64\n"
          ]
        },
        {
          "output_type": "stream",
          "name": "stderr",
          "text": [
            "<ipython-input-13-c1bc1f74ee2d>:5: SettingWithCopyWarning: \n",
            "A value is trying to be set on a copy of a slice from a DataFrame.\n",
            "Try using .loc[row_indexer,col_indexer] = value instead\n",
            "\n",
            "See the caveats in the documentation: https://pandas.pydata.org/pandas-docs/stable/user_guide/indexing.html#returning-a-view-versus-a-copy\n",
            "  data['has_entity'] = data['has_entity'].str.replace('_', '')\n"
          ]
        }
      ],
      "source": [
        "print(data['has_entity'].value_counts())\n",
        "print('--'*30)\n",
        "data = data[data['has_entity'] != 'data missing']\n",
        "\n",
        "data['has_entity'] = data['has_entity'].str.replace('_', '')\n",
        "print(data['has_entity'].value_counts())"
      ]
    },
    {
      "cell_type": "markdown",
      "metadata": {
        "id": "BTJQvDjLvWEH"
      },
      "source": [
        "## Imputing the missing values for 'category' column\n",
        "\n",
        "The 61 missing values imputed with most frequent values."
      ]
    },
    {
      "cell_type": "code",
      "execution_count": null,
      "metadata": {
        "colab": {
          "base_uri": "https://localhost:8080/"
        },
        "id": "PIrhFvp8vf00",
        "outputId": "3426469d-d6cb-4bfa-b302-708f6eb20d25"
      },
      "outputs": [
        {
          "output_type": "stream",
          "name": "stdout",
          "text": [
            "category    61\n",
            "dtype: int64\n",
            "--------------------------------------------------------------------------------\n",
            "category    0\n",
            "dtype: int64\n"
          ]
        }
      ],
      "source": [
        "from sklearn.impute import SimpleImputer\n",
        "\n",
        "c = ['category']\n",
        "print(data[c].isna().sum())\n",
        "\n",
        "print('----'*20)\n",
        "imptr_cat = SimpleImputer(missing_values= np.nan, strategy= 'most_frequent')\n",
        "imptr_cat = imptr_cat.fit(data[c])\n",
        "\n",
        "data[c] = imptr_cat.transform(data[c])\n",
        "\n",
        "print(data[c].isna().sum())"
      ]
    },
    {
      "cell_type": "markdown",
      "metadata": {
        "id": "DNYA2rIDwld2"
      },
      "source": [
        "# Label Encoding\n",
        "\n",
        "## 'has_entity' column is needed to be encoded using one hot encode.\n",
        "\n"
      ]
    },
    {
      "cell_type": "code",
      "execution_count": null,
      "metadata": {
        "colab": {
          "base_uri": "https://localhost:8080/"
        },
        "id": "NPjNziN1wuXv",
        "outputId": "8c113728-ac57-476d-b13a-fc156c9e11ff"
      },
      "outputs": [
        {
          "output_type": "stream",
          "name": "stdout",
          "text": [
            "['has_entity_ORGNOPRODUCTNOPERSONNO' 'has_entity_ORGNOPRODUCTNOPERSONYES'\n",
            " 'has_entity_ORGNOPRODUCTYESPERSONNO'\n",
            " 'has_entity_ORGNOPRODUCTYESPERSONYES'\n",
            " 'has_entity_ORGYESPRODUCTNOPERSONNO'\n",
            " 'has_entity_ORGYESPRODUCTNOPERSONYES'\n",
            " 'has_entity_ORGYESPRODUCTYESPERSONNO'\n",
            " 'has_entity_ORGYESPRODUCTYESPERSONYES' 'par_id' 'paragraph'\n",
            " 'lexicon_count' 'difficult_words' 'last_editor_gender' 'category'\n",
            " 'text_clarity']\n",
            "\n",
            "  has_entity_ORGNOPRODUCTNOPERSONNO has_entity_ORGNOPRODUCTNOPERSONYES  \\\n",
            "0                               0.0                                0.0   \n",
            "1                               0.0                                0.0   \n",
            "2                               0.0                                0.0   \n",
            "3                               0.0                                0.0   \n",
            "4                               0.0                                0.0   \n",
            "\n",
            "  has_entity_ORGNOPRODUCTYESPERSONNO has_entity_ORGNOPRODUCTYESPERSONYES  \\\n",
            "0                                0.0                                 0.0   \n",
            "1                                0.0                                 0.0   \n",
            "2                                0.0                                 0.0   \n",
            "3                                1.0                                 0.0   \n",
            "4                                0.0                                 0.0   \n",
            "\n",
            "  has_entity_ORGYESPRODUCTNOPERSONNO has_entity_ORGYESPRODUCTNOPERSONYES  \\\n",
            "0                                0.0                                 1.0   \n",
            "1                                1.0                                 0.0   \n",
            "2                                1.0                                 0.0   \n",
            "3                                0.0                                 0.0   \n",
            "4                                0.0                                 0.0   \n",
            "\n",
            "  has_entity_ORGYESPRODUCTYESPERSONNO has_entity_ORGYESPRODUCTYESPERSONYES  \\\n",
            "0                                 0.0                                  0.0   \n",
            "1                                 0.0                                  0.0   \n",
            "2                                 0.0                                  0.0   \n",
            "3                                 0.0                                  0.0   \n",
            "4                                 0.0                                  1.0   \n",
            "\n",
            "         par_id                                          paragraph  \\\n",
            "0  428209002237  Ramsay was born in Glasgow on 2 October 1852. ...   \n",
            "1  564218010072  It has been widely estimated for at least the ...   \n",
            "2  291401001672  He went on to win the Royal Medal of the Royal...   \n",
            "3   31548004883  The changes have altered many underlying assum...   \n",
            "4   50634005146  After these novels were published, Disraeli de...   \n",
            "\n",
            "  lexicon_count difficult_words last_editor_gender                 category  \\\n",
            "0            49            12.0                man              biographies   \n",
            "1           166            47.0                man  artificial intelligence   \n",
            "2            69            18.0         non-binary              biographies   \n",
            "3            76            27.0         non-binary              programming   \n",
            "4           200            47.0                man              biographies   \n",
            "\n",
            "       text_clarity  \n",
            "0      clear_enough  \n",
            "1  not_clear_enough  \n",
            "2      clear_enough  \n",
            "3      clear_enough  \n",
            "4  not_clear_enough  \n"
          ]
        }
      ],
      "source": [
        "from sklearn.compose import ColumnTransformer\n",
        "from sklearn.preprocessing import OneHotEncoder\n",
        "\n",
        "ct = ColumnTransformer(\n",
        "    [\n",
        "        (\n",
        "            \"onehot_categorical\",\n",
        "            OneHotEncoder(),\n",
        "            [\"has_entity\"],\n",
        "        ),\n",
        "    ],\n",
        "    remainder=\"passthrough\",\n",
        "    verbose_feature_names_out=False\n",
        ")\n",
        "\n",
        "\n",
        "temp_dataset = data.copy()\n",
        "\n",
        "\n",
        "encoded_array= ct.fit_transform(temp_dataset)\n",
        "\n",
        "encoded_col_names= ct.get_feature_names_out()\n",
        "print(encoded_col_names)\n",
        "\n",
        "temp_dataset = pd.DataFrame(encoded_array, columns=encoded_col_names)\n",
        "\n",
        "print()\n",
        "print(temp_dataset.head(5))"
      ]
    },
    {
      "cell_type": "code",
      "execution_count": null,
      "metadata": {
        "id": "qtofNKaK2RAD"
      },
      "outputs": [],
      "source": []
    },
    {
      "cell_type": "markdown",
      "metadata": {
        "id": "Cd_hpGC4he70"
      },
      "source": [
        "## Label Encoder for 'category' column\n",
        "\n",
        "Important note : For the \"category\" column that represents the target variable in my classification task, LabelEncoder is appropriate and recommended because machine learning models expect the target variable to be numerical (integers) for classification problems."
      ]
    },
    {
      "cell_type": "code",
      "execution_count": null,
      "metadata": {
        "colab": {
          "base_uri": "https://localhost:8080/"
        },
        "id": "9S5-Jpf7heSS",
        "outputId": "dfafaf6d-686c-4e86-fcf5-2fa49f86495c"
      },
      "outputs": [
        {
          "output_type": "stream",
          "name": "stdout",
          "text": [
            "biographies                             2945\n",
            "philosophy                              2514\n",
            "programming                             1940\n",
            "artificial intelligence                 1529\n",
            "movies about artificial intelligence     162\n",
            "Name: category, dtype: int64\n"
          ]
        }
      ],
      "source": [
        "print(temp_dataset['category'].value_counts())"
      ]
    },
    {
      "cell_type": "code",
      "execution_count": null,
      "metadata": {
        "colab": {
          "base_uri": "https://localhost:8080/"
        },
        "id": "pujykKmZiHJn",
        "outputId": "651f1155-393c-472d-f385-90640a4118df"
      },
      "outputs": [
        {
          "output_type": "stream",
          "name": "stdout",
          "text": [
            "[1 0 1 ... 1 4 3]\n",
            "{0: 'artificial intelligence', 1: 'biographies', 2: 'movies about artificial intelligence', 3: 'philosophy', 4: 'programming'}\n"
          ]
        }
      ],
      "source": [
        "from sklearn.preprocessing import LabelEncoder\n",
        "lblEncoder = LabelEncoder()\n",
        "encoded_category = lblEncoder.fit_transform(temp_dataset['category'])\n",
        "print(encoded_category)\n",
        "\n",
        "temp_dataset['category'] = encoded_category\n",
        "\n",
        "label_mapping = {label: category for label, category in enumerate(lblEncoder.classes_)}\n",
        "print(label_mapping)"
      ]
    },
    {
      "cell_type": "code",
      "execution_count": null,
      "metadata": {
        "colab": {
          "base_uri": "https://localhost:8080/"
        },
        "id": "MxPrvaoVjl_9",
        "outputId": "9a9c974c-18b4-4785-ca54-6a546d3debca"
      },
      "outputs": [
        {
          "output_type": "execute_result",
          "data": {
            "text/plain": [
              "0       1\n",
              "1       0\n",
              "2       1\n",
              "3       4\n",
              "4       1\n",
              "       ..\n",
              "9085    1\n",
              "9086    1\n",
              "9087    1\n",
              "9088    4\n",
              "9089    3\n",
              "Name: category, Length: 9090, dtype: int64"
            ]
          },
          "metadata": {},
          "execution_count": 18
        }
      ],
      "source": [
        "temp_dataset['category']"
      ]
    },
    {
      "cell_type": "markdown",
      "metadata": {
        "id": "a1kIyBXJw9V3"
      },
      "source": [
        "# Text Pre-Processing"
      ]
    },
    {
      "cell_type": "code",
      "execution_count": null,
      "metadata": {
        "colab": {
          "base_uri": "https://localhost:8080/"
        },
        "id": "bOOufxndlszG",
        "outputId": "236e0d12-4bd6-4e35-a5c7-1e0ac05c0a2f"
      },
      "outputs": [
        {
          "output_type": "execute_result",
          "data": {
            "text/plain": [
              "Index(['has_entity_ORGNOPRODUCTNOPERSONNO',\n",
              "       'has_entity_ORGNOPRODUCTNOPERSONYES',\n",
              "       'has_entity_ORGNOPRODUCTYESPERSONNO',\n",
              "       'has_entity_ORGNOPRODUCTYESPERSONYES',\n",
              "       'has_entity_ORGYESPRODUCTNOPERSONNO',\n",
              "       'has_entity_ORGYESPRODUCTNOPERSONYES',\n",
              "       'has_entity_ORGYESPRODUCTYESPERSONNO',\n",
              "       'has_entity_ORGYESPRODUCTYESPERSONYES', 'par_id', 'paragraph',\n",
              "       'lexicon_count', 'difficult_words', 'last_editor_gender', 'category',\n",
              "       'text_clarity'],\n",
              "      dtype='object')"
            ]
          },
          "metadata": {},
          "execution_count": 19
        }
      ],
      "source": [
        "temp_dataset.columns"
      ]
    },
    {
      "cell_type": "code",
      "execution_count": null,
      "metadata": {
        "id": "aQtCTGeFldro"
      },
      "outputs": [],
      "source": [
        "task1_data =pd.DataFrame(temp_dataset, columns=['paragraph','category',\n",
        "       'has_entity_ORGNOPRODUCTNOPERSONNO',\n",
        "       'has_entity_ORGNOPRODUCTNOPERSONYES',\n",
        "       'has_entity_ORGNOPRODUCTYESPERSONNO',\n",
        "       'has_entity_ORGNOPRODUCTYESPERSONYES',\n",
        "       'has_entity_ORGYESPRODUCTNOPERSONNO',\n",
        "       'has_entity_ORGYESPRODUCTNOPERSONYES',\n",
        "       'has_entity_ORGYESPRODUCTYESPERSONNO',\n",
        "       'has_entity_ORGYESPRODUCTYESPERSONYES',])"
      ]
    },
    {
      "cell_type": "code",
      "execution_count": null,
      "metadata": {
        "colab": {
          "base_uri": "https://localhost:8080/",
          "height": 660
        },
        "id": "ZIX2Olemm1ol",
        "outputId": "1d07ab9e-8db8-44b3-ac91-422fbde13095"
      },
      "outputs": [
        {
          "output_type": "execute_result",
          "data": {
            "text/plain": [
              "                                           paragraph  category  \\\n",
              "0  Ramsay was born in Glasgow on 2 October 1852. ...         1   \n",
              "1  It has been widely estimated for at least the ...         0   \n",
              "2  He went on to win the Royal Medal of the Royal...         1   \n",
              "3  The changes have altered many underlying assum...         4   \n",
              "4  After these novels were published, Disraeli de...         1   \n",
              "\n",
              "  has_entity_ORGNOPRODUCTNOPERSONNO has_entity_ORGNOPRODUCTNOPERSONYES  \\\n",
              "0                               0.0                                0.0   \n",
              "1                               0.0                                0.0   \n",
              "2                               0.0                                0.0   \n",
              "3                               0.0                                0.0   \n",
              "4                               0.0                                0.0   \n",
              "\n",
              "  has_entity_ORGNOPRODUCTYESPERSONNO has_entity_ORGNOPRODUCTYESPERSONYES  \\\n",
              "0                                0.0                                 0.0   \n",
              "1                                0.0                                 0.0   \n",
              "2                                0.0                                 0.0   \n",
              "3                                1.0                                 0.0   \n",
              "4                                0.0                                 0.0   \n",
              "\n",
              "  has_entity_ORGYESPRODUCTNOPERSONNO has_entity_ORGYESPRODUCTNOPERSONYES  \\\n",
              "0                                0.0                                 1.0   \n",
              "1                                1.0                                 0.0   \n",
              "2                                1.0                                 0.0   \n",
              "3                                0.0                                 0.0   \n",
              "4                                0.0                                 0.0   \n",
              "\n",
              "  has_entity_ORGYESPRODUCTYESPERSONNO has_entity_ORGYESPRODUCTYESPERSONYES  \n",
              "0                                 0.0                                  0.0  \n",
              "1                                 0.0                                  0.0  \n",
              "2                                 0.0                                  0.0  \n",
              "3                                 0.0                                  0.0  \n",
              "4                                 0.0                                  1.0  "
            ],
            "text/html": [
              "\n",
              "  <div id=\"df-4c323878-9697-4d5c-a6a8-5c08083c8008\" class=\"colab-df-container\">\n",
              "    <div>\n",
              "<style scoped>\n",
              "    .dataframe tbody tr th:only-of-type {\n",
              "        vertical-align: middle;\n",
              "    }\n",
              "\n",
              "    .dataframe tbody tr th {\n",
              "        vertical-align: top;\n",
              "    }\n",
              "\n",
              "    .dataframe thead th {\n",
              "        text-align: right;\n",
              "    }\n",
              "</style>\n",
              "<table border=\"1\" class=\"dataframe\">\n",
              "  <thead>\n",
              "    <tr style=\"text-align: right;\">\n",
              "      <th></th>\n",
              "      <th>paragraph</th>\n",
              "      <th>category</th>\n",
              "      <th>has_entity_ORGNOPRODUCTNOPERSONNO</th>\n",
              "      <th>has_entity_ORGNOPRODUCTNOPERSONYES</th>\n",
              "      <th>has_entity_ORGNOPRODUCTYESPERSONNO</th>\n",
              "      <th>has_entity_ORGNOPRODUCTYESPERSONYES</th>\n",
              "      <th>has_entity_ORGYESPRODUCTNOPERSONNO</th>\n",
              "      <th>has_entity_ORGYESPRODUCTNOPERSONYES</th>\n",
              "      <th>has_entity_ORGYESPRODUCTYESPERSONNO</th>\n",
              "      <th>has_entity_ORGYESPRODUCTYESPERSONYES</th>\n",
              "    </tr>\n",
              "  </thead>\n",
              "  <tbody>\n",
              "    <tr>\n",
              "      <th>0</th>\n",
              "      <td>Ramsay was born in Glasgow on 2 October 1852. ...</td>\n",
              "      <td>1</td>\n",
              "      <td>0.0</td>\n",
              "      <td>0.0</td>\n",
              "      <td>0.0</td>\n",
              "      <td>0.0</td>\n",
              "      <td>0.0</td>\n",
              "      <td>1.0</td>\n",
              "      <td>0.0</td>\n",
              "      <td>0.0</td>\n",
              "    </tr>\n",
              "    <tr>\n",
              "      <th>1</th>\n",
              "      <td>It has been widely estimated for at least the ...</td>\n",
              "      <td>0</td>\n",
              "      <td>0.0</td>\n",
              "      <td>0.0</td>\n",
              "      <td>0.0</td>\n",
              "      <td>0.0</td>\n",
              "      <td>1.0</td>\n",
              "      <td>0.0</td>\n",
              "      <td>0.0</td>\n",
              "      <td>0.0</td>\n",
              "    </tr>\n",
              "    <tr>\n",
              "      <th>2</th>\n",
              "      <td>He went on to win the Royal Medal of the Royal...</td>\n",
              "      <td>1</td>\n",
              "      <td>0.0</td>\n",
              "      <td>0.0</td>\n",
              "      <td>0.0</td>\n",
              "      <td>0.0</td>\n",
              "      <td>1.0</td>\n",
              "      <td>0.0</td>\n",
              "      <td>0.0</td>\n",
              "      <td>0.0</td>\n",
              "    </tr>\n",
              "    <tr>\n",
              "      <th>3</th>\n",
              "      <td>The changes have altered many underlying assum...</td>\n",
              "      <td>4</td>\n",
              "      <td>0.0</td>\n",
              "      <td>0.0</td>\n",
              "      <td>1.0</td>\n",
              "      <td>0.0</td>\n",
              "      <td>0.0</td>\n",
              "      <td>0.0</td>\n",
              "      <td>0.0</td>\n",
              "      <td>0.0</td>\n",
              "    </tr>\n",
              "    <tr>\n",
              "      <th>4</th>\n",
              "      <td>After these novels were published, Disraeli de...</td>\n",
              "      <td>1</td>\n",
              "      <td>0.0</td>\n",
              "      <td>0.0</td>\n",
              "      <td>0.0</td>\n",
              "      <td>0.0</td>\n",
              "      <td>0.0</td>\n",
              "      <td>0.0</td>\n",
              "      <td>0.0</td>\n",
              "      <td>1.0</td>\n",
              "    </tr>\n",
              "  </tbody>\n",
              "</table>\n",
              "</div>\n",
              "    <div class=\"colab-df-buttons\">\n",
              "\n",
              "  <div class=\"colab-df-container\">\n",
              "    <button class=\"colab-df-convert\" onclick=\"convertToInteractive('df-4c323878-9697-4d5c-a6a8-5c08083c8008')\"\n",
              "            title=\"Convert this dataframe to an interactive table.\"\n",
              "            style=\"display:none;\">\n",
              "\n",
              "  <svg xmlns=\"http://www.w3.org/2000/svg\" height=\"24px\" viewBox=\"0 -960 960 960\">\n",
              "    <path d=\"M120-120v-720h720v720H120Zm60-500h600v-160H180v160Zm220 220h160v-160H400v160Zm0 220h160v-160H400v160ZM180-400h160v-160H180v160Zm440 0h160v-160H620v160ZM180-180h160v-160H180v160Zm440 0h160v-160H620v160Z\"/>\n",
              "  </svg>\n",
              "    </button>\n",
              "\n",
              "  <style>\n",
              "    .colab-df-container {\n",
              "      display:flex;\n",
              "      gap: 12px;\n",
              "    }\n",
              "\n",
              "    .colab-df-convert {\n",
              "      background-color: #E8F0FE;\n",
              "      border: none;\n",
              "      border-radius: 50%;\n",
              "      cursor: pointer;\n",
              "      display: none;\n",
              "      fill: #1967D2;\n",
              "      height: 32px;\n",
              "      padding: 0 0 0 0;\n",
              "      width: 32px;\n",
              "    }\n",
              "\n",
              "    .colab-df-convert:hover {\n",
              "      background-color: #E2EBFA;\n",
              "      box-shadow: 0px 1px 2px rgba(60, 64, 67, 0.3), 0px 1px 3px 1px rgba(60, 64, 67, 0.15);\n",
              "      fill: #174EA6;\n",
              "    }\n",
              "\n",
              "    .colab-df-buttons div {\n",
              "      margin-bottom: 4px;\n",
              "    }\n",
              "\n",
              "    [theme=dark] .colab-df-convert {\n",
              "      background-color: #3B4455;\n",
              "      fill: #D2E3FC;\n",
              "    }\n",
              "\n",
              "    [theme=dark] .colab-df-convert:hover {\n",
              "      background-color: #434B5C;\n",
              "      box-shadow: 0px 1px 3px 1px rgba(0, 0, 0, 0.15);\n",
              "      filter: drop-shadow(0px 1px 2px rgba(0, 0, 0, 0.3));\n",
              "      fill: #FFFFFF;\n",
              "    }\n",
              "  </style>\n",
              "\n",
              "    <script>\n",
              "      const buttonEl =\n",
              "        document.querySelector('#df-4c323878-9697-4d5c-a6a8-5c08083c8008 button.colab-df-convert');\n",
              "      buttonEl.style.display =\n",
              "        google.colab.kernel.accessAllowed ? 'block' : 'none';\n",
              "\n",
              "      async function convertToInteractive(key) {\n",
              "        const element = document.querySelector('#df-4c323878-9697-4d5c-a6a8-5c08083c8008');\n",
              "        const dataTable =\n",
              "          await google.colab.kernel.invokeFunction('convertToInteractive',\n",
              "                                                    [key], {});\n",
              "        if (!dataTable) return;\n",
              "\n",
              "        const docLinkHtml = 'Like what you see? Visit the ' +\n",
              "          '<a target=\"_blank\" href=https://colab.research.google.com/notebooks/data_table.ipynb>data table notebook</a>'\n",
              "          + ' to learn more about interactive tables.';\n",
              "        element.innerHTML = '';\n",
              "        dataTable['output_type'] = 'display_data';\n",
              "        await google.colab.output.renderOutput(dataTable, element);\n",
              "        const docLink = document.createElement('div');\n",
              "        docLink.innerHTML = docLinkHtml;\n",
              "        element.appendChild(docLink);\n",
              "      }\n",
              "    </script>\n",
              "  </div>\n",
              "\n",
              "\n",
              "<div id=\"df-5fc2da27-b81c-42c6-b795-b4bc6a74087c\">\n",
              "  <button class=\"colab-df-quickchart\" onclick=\"quickchart('df-5fc2da27-b81c-42c6-b795-b4bc6a74087c')\"\n",
              "            title=\"Suggest charts\"\n",
              "            style=\"display:none;\">\n",
              "\n",
              "<svg xmlns=\"http://www.w3.org/2000/svg\" height=\"24px\"viewBox=\"0 0 24 24\"\n",
              "     width=\"24px\">\n",
              "    <g>\n",
              "        <path d=\"M19 3H5c-1.1 0-2 .9-2 2v14c0 1.1.9 2 2 2h14c1.1 0 2-.9 2-2V5c0-1.1-.9-2-2-2zM9 17H7v-7h2v7zm4 0h-2V7h2v10zm4 0h-2v-4h2v4z\"/>\n",
              "    </g>\n",
              "</svg>\n",
              "  </button>\n",
              "\n",
              "<style>\n",
              "  .colab-df-quickchart {\n",
              "      --bg-color: #E8F0FE;\n",
              "      --fill-color: #1967D2;\n",
              "      --hover-bg-color: #E2EBFA;\n",
              "      --hover-fill-color: #174EA6;\n",
              "      --disabled-fill-color: #AAA;\n",
              "      --disabled-bg-color: #DDD;\n",
              "  }\n",
              "\n",
              "  [theme=dark] .colab-df-quickchart {\n",
              "      --bg-color: #3B4455;\n",
              "      --fill-color: #D2E3FC;\n",
              "      --hover-bg-color: #434B5C;\n",
              "      --hover-fill-color: #FFFFFF;\n",
              "      --disabled-bg-color: #3B4455;\n",
              "      --disabled-fill-color: #666;\n",
              "  }\n",
              "\n",
              "  .colab-df-quickchart {\n",
              "    background-color: var(--bg-color);\n",
              "    border: none;\n",
              "    border-radius: 50%;\n",
              "    cursor: pointer;\n",
              "    display: none;\n",
              "    fill: var(--fill-color);\n",
              "    height: 32px;\n",
              "    padding: 0;\n",
              "    width: 32px;\n",
              "  }\n",
              "\n",
              "  .colab-df-quickchart:hover {\n",
              "    background-color: var(--hover-bg-color);\n",
              "    box-shadow: 0 1px 2px rgba(60, 64, 67, 0.3), 0 1px 3px 1px rgba(60, 64, 67, 0.15);\n",
              "    fill: var(--button-hover-fill-color);\n",
              "  }\n",
              "\n",
              "  .colab-df-quickchart-complete:disabled,\n",
              "  .colab-df-quickchart-complete:disabled:hover {\n",
              "    background-color: var(--disabled-bg-color);\n",
              "    fill: var(--disabled-fill-color);\n",
              "    box-shadow: none;\n",
              "  }\n",
              "\n",
              "  .colab-df-spinner {\n",
              "    border: 2px solid var(--fill-color);\n",
              "    border-color: transparent;\n",
              "    border-bottom-color: var(--fill-color);\n",
              "    animation:\n",
              "      spin 1s steps(1) infinite;\n",
              "  }\n",
              "\n",
              "  @keyframes spin {\n",
              "    0% {\n",
              "      border-color: transparent;\n",
              "      border-bottom-color: var(--fill-color);\n",
              "      border-left-color: var(--fill-color);\n",
              "    }\n",
              "    20% {\n",
              "      border-color: transparent;\n",
              "      border-left-color: var(--fill-color);\n",
              "      border-top-color: var(--fill-color);\n",
              "    }\n",
              "    30% {\n",
              "      border-color: transparent;\n",
              "      border-left-color: var(--fill-color);\n",
              "      border-top-color: var(--fill-color);\n",
              "      border-right-color: var(--fill-color);\n",
              "    }\n",
              "    40% {\n",
              "      border-color: transparent;\n",
              "      border-right-color: var(--fill-color);\n",
              "      border-top-color: var(--fill-color);\n",
              "    }\n",
              "    60% {\n",
              "      border-color: transparent;\n",
              "      border-right-color: var(--fill-color);\n",
              "    }\n",
              "    80% {\n",
              "      border-color: transparent;\n",
              "      border-right-color: var(--fill-color);\n",
              "      border-bottom-color: var(--fill-color);\n",
              "    }\n",
              "    90% {\n",
              "      border-color: transparent;\n",
              "      border-bottom-color: var(--fill-color);\n",
              "    }\n",
              "  }\n",
              "</style>\n",
              "\n",
              "  <script>\n",
              "    async function quickchart(key) {\n",
              "      const quickchartButtonEl =\n",
              "        document.querySelector('#' + key + ' button');\n",
              "      quickchartButtonEl.disabled = true;  // To prevent multiple clicks.\n",
              "      quickchartButtonEl.classList.add('colab-df-spinner');\n",
              "      try {\n",
              "        const charts = await google.colab.kernel.invokeFunction(\n",
              "            'suggestCharts', [key], {});\n",
              "      } catch (error) {\n",
              "        console.error('Error during call to suggestCharts:', error);\n",
              "      }\n",
              "      quickchartButtonEl.classList.remove('colab-df-spinner');\n",
              "      quickchartButtonEl.classList.add('colab-df-quickchart-complete');\n",
              "    }\n",
              "    (() => {\n",
              "      let quickchartButtonEl =\n",
              "        document.querySelector('#df-5fc2da27-b81c-42c6-b795-b4bc6a74087c button');\n",
              "      quickchartButtonEl.style.display =\n",
              "        google.colab.kernel.accessAllowed ? 'block' : 'none';\n",
              "    })();\n",
              "  </script>\n",
              "</div>\n",
              "    </div>\n",
              "  </div>\n"
            ],
            "application/vnd.google.colaboratory.intrinsic+json": {
              "type": "dataframe",
              "variable_name": "task1_data",
              "summary": "{\n  \"name\": \"task1_data\",\n  \"rows\": 9090,\n  \"fields\": [\n    {\n      \"column\": \"paragraph\",\n      \"properties\": {\n        \"dtype\": \"string\",\n        \"num_unique_values\": 8950,\n        \"samples\": [\n          \"it includes in its comprehension an affirmative recognition of the existing state of things, at the same time, also, the recognition of the negation of that state, of its inevitable breaking up; because it regards every historically developed social form as in fluid movement, and therefore takes into account its transient nature not less than its momentary existence; because it lets nothing impose upon it, and is in its essence critical and revolutionary.\",\n          \" He visited many places around the globe on extensive travel tours starting from 1908 with a trip to Australia and New Zealand which he visited again in 1938\\u20131939.Aston was a skilled photographer and interested in astronomy. He joined several expeditions to study solar eclipses in Benkoeben in 1925, Sumatra in 1932, Magog in Canada on 31 August 1932 and Kamishari Hokkaido, Japan on June19th 1936. He also planned to attend expeditions to South Africa in 1940 and Brazil in 1945 in later life. He never married.\",\n          \"In 1934, at the age of 24, Dorothy began experiencing pain in her hands causing them to become swollen and distorted. She was diagnosed with rheumatoid arthritis, and went to a clinic in Buxton for thermal baths and gold treatments. After some treatment, Hodgkin returned to the lab, where she struggled to use the main switch on the x-ray equipment due to the condition of her hands. She had to create a lever on her own in order to utilize the switch. Her condition would become progressively worse and crippling over time, with deformities in both her hands and feet, and prolonged periods of pain. While Hodgkin spent a great deal of time in a wheelchair in her later years, she remained scientifically active in her career.\"\n        ],\n        \"semantic_type\": \"\",\n        \"description\": \"\"\n      }\n    },\n    {\n      \"column\": \"category\",\n      \"properties\": {\n        \"dtype\": \"number\",\n        \"std\": 1,\n        \"min\": 0,\n        \"max\": 4,\n        \"num_unique_values\": 5,\n        \"samples\": [\n          0,\n          2,\n          4\n        ],\n        \"semantic_type\": \"\",\n        \"description\": \"\"\n      }\n    },\n    {\n      \"column\": \"has_entity_ORGNOPRODUCTNOPERSONNO\",\n      \"properties\": {\n        \"dtype\": \"date\",\n        \"min\": 0.0,\n        \"max\": 1.0,\n        \"num_unique_values\": 2,\n        \"samples\": [\n          1.0,\n          0.0\n        ],\n        \"semantic_type\": \"\",\n        \"description\": \"\"\n      }\n    },\n    {\n      \"column\": \"has_entity_ORGNOPRODUCTNOPERSONYES\",\n      \"properties\": {\n        \"dtype\": \"date\",\n        \"min\": 0.0,\n        \"max\": 1.0,\n        \"num_unique_values\": 2,\n        \"samples\": [\n          1.0,\n          0.0\n        ],\n        \"semantic_type\": \"\",\n        \"description\": \"\"\n      }\n    },\n    {\n      \"column\": \"has_entity_ORGNOPRODUCTYESPERSONNO\",\n      \"properties\": {\n        \"dtype\": \"date\",\n        \"min\": 0.0,\n        \"max\": 1.0,\n        \"num_unique_values\": 2,\n        \"samples\": [\n          1.0,\n          0.0\n        ],\n        \"semantic_type\": \"\",\n        \"description\": \"\"\n      }\n    },\n    {\n      \"column\": \"has_entity_ORGNOPRODUCTYESPERSONYES\",\n      \"properties\": {\n        \"dtype\": \"date\",\n        \"min\": 0.0,\n        \"max\": 1.0,\n        \"num_unique_values\": 2,\n        \"samples\": [\n          1.0,\n          0.0\n        ],\n        \"semantic_type\": \"\",\n        \"description\": \"\"\n      }\n    },\n    {\n      \"column\": \"has_entity_ORGYESPRODUCTNOPERSONNO\",\n      \"properties\": {\n        \"dtype\": \"date\",\n        \"min\": 0.0,\n        \"max\": 1.0,\n        \"num_unique_values\": 2,\n        \"samples\": [\n          1.0,\n          0.0\n        ],\n        \"semantic_type\": \"\",\n        \"description\": \"\"\n      }\n    },\n    {\n      \"column\": \"has_entity_ORGYESPRODUCTNOPERSONYES\",\n      \"properties\": {\n        \"dtype\": \"date\",\n        \"min\": 0.0,\n        \"max\": 1.0,\n        \"num_unique_values\": 2,\n        \"samples\": [\n          0.0,\n          1.0\n        ],\n        \"semantic_type\": \"\",\n        \"description\": \"\"\n      }\n    },\n    {\n      \"column\": \"has_entity_ORGYESPRODUCTYESPERSONNO\",\n      \"properties\": {\n        \"dtype\": \"date\",\n        \"min\": 0.0,\n        \"max\": 1.0,\n        \"num_unique_values\": 2,\n        \"samples\": [\n          1.0,\n          0.0\n        ],\n        \"semantic_type\": \"\",\n        \"description\": \"\"\n      }\n    },\n    {\n      \"column\": \"has_entity_ORGYESPRODUCTYESPERSONYES\",\n      \"properties\": {\n        \"dtype\": \"date\",\n        \"min\": 0.0,\n        \"max\": 1.0,\n        \"num_unique_values\": 2,\n        \"samples\": [\n          1.0,\n          0.0\n        ],\n        \"semantic_type\": \"\",\n        \"description\": \"\"\n      }\n    }\n  ]\n}"
            }
          },
          "metadata": {},
          "execution_count": 21
        }
      ],
      "source": [
        "task1_data.head()"
      ]
    },
    {
      "cell_type": "code",
      "execution_count": null,
      "metadata": {
        "colab": {
          "base_uri": "https://localhost:8080/"
        },
        "id": "_sVEarm9n0PE",
        "outputId": "39f6b459-fc6e-4137-93b4-bdf2809e863b"
      },
      "outputs": [
        {
          "output_type": "stream",
          "name": "stdout",
          "text": [
            "Collecting en-core-web-lg==3.7.1\n",
            "  Downloading https://github.com/explosion/spacy-models/releases/download/en_core_web_lg-3.7.1/en_core_web_lg-3.7.1-py3-none-any.whl (587.7 MB)\n",
            "\u001b[2K     \u001b[90m━━━━━━━━━━━━━━━━━━━━━━━━━━━━━━━━━━━━━━━━\u001b[0m \u001b[32m587.7/587.7 MB\u001b[0m \u001b[31m2.2 MB/s\u001b[0m eta \u001b[36m0:00:00\u001b[0m\n",
            "\u001b[?25hRequirement already satisfied: spacy<3.8.0,>=3.7.2 in /usr/local/lib/python3.10/dist-packages (from en-core-web-lg==3.7.1) (3.7.4)\n",
            "Requirement already satisfied: spacy-legacy<3.1.0,>=3.0.11 in /usr/local/lib/python3.10/dist-packages (from spacy<3.8.0,>=3.7.2->en-core-web-lg==3.7.1) (3.0.12)\n",
            "Requirement already satisfied: spacy-loggers<2.0.0,>=1.0.0 in /usr/local/lib/python3.10/dist-packages (from spacy<3.8.0,>=3.7.2->en-core-web-lg==3.7.1) (1.0.5)\n",
            "Requirement already satisfied: murmurhash<1.1.0,>=0.28.0 in /usr/local/lib/python3.10/dist-packages (from spacy<3.8.0,>=3.7.2->en-core-web-lg==3.7.1) (1.0.10)\n",
            "Requirement already satisfied: cymem<2.1.0,>=2.0.2 in /usr/local/lib/python3.10/dist-packages (from spacy<3.8.0,>=3.7.2->en-core-web-lg==3.7.1) (2.0.8)\n",
            "Requirement already satisfied: preshed<3.1.0,>=3.0.2 in /usr/local/lib/python3.10/dist-packages (from spacy<3.8.0,>=3.7.2->en-core-web-lg==3.7.1) (3.0.9)\n",
            "Requirement already satisfied: thinc<8.3.0,>=8.2.2 in /usr/local/lib/python3.10/dist-packages (from spacy<3.8.0,>=3.7.2->en-core-web-lg==3.7.1) (8.2.3)\n",
            "Requirement already satisfied: wasabi<1.2.0,>=0.9.1 in /usr/local/lib/python3.10/dist-packages (from spacy<3.8.0,>=3.7.2->en-core-web-lg==3.7.1) (1.1.2)\n",
            "Requirement already satisfied: srsly<3.0.0,>=2.4.3 in /usr/local/lib/python3.10/dist-packages (from spacy<3.8.0,>=3.7.2->en-core-web-lg==3.7.1) (2.4.8)\n",
            "Requirement already satisfied: catalogue<2.1.0,>=2.0.6 in /usr/local/lib/python3.10/dist-packages (from spacy<3.8.0,>=3.7.2->en-core-web-lg==3.7.1) (2.0.10)\n",
            "Requirement already satisfied: weasel<0.4.0,>=0.1.0 in /usr/local/lib/python3.10/dist-packages (from spacy<3.8.0,>=3.7.2->en-core-web-lg==3.7.1) (0.3.4)\n",
            "Requirement already satisfied: typer<0.10.0,>=0.3.0 in /usr/local/lib/python3.10/dist-packages (from spacy<3.8.0,>=3.7.2->en-core-web-lg==3.7.1) (0.9.0)\n",
            "Requirement already satisfied: smart-open<7.0.0,>=5.2.1 in /usr/local/lib/python3.10/dist-packages (from spacy<3.8.0,>=3.7.2->en-core-web-lg==3.7.1) (6.4.0)\n",
            "Requirement already satisfied: tqdm<5.0.0,>=4.38.0 in /usr/local/lib/python3.10/dist-packages (from spacy<3.8.0,>=3.7.2->en-core-web-lg==3.7.1) (4.66.2)\n",
            "Requirement already satisfied: requests<3.0.0,>=2.13.0 in /usr/local/lib/python3.10/dist-packages (from spacy<3.8.0,>=3.7.2->en-core-web-lg==3.7.1) (2.31.0)\n",
            "Requirement already satisfied: pydantic!=1.8,!=1.8.1,<3.0.0,>=1.7.4 in /usr/local/lib/python3.10/dist-packages (from spacy<3.8.0,>=3.7.2->en-core-web-lg==3.7.1) (2.6.4)\n",
            "Requirement already satisfied: jinja2 in /usr/local/lib/python3.10/dist-packages (from spacy<3.8.0,>=3.7.2->en-core-web-lg==3.7.1) (3.1.3)\n",
            "Requirement already satisfied: setuptools in /usr/local/lib/python3.10/dist-packages (from spacy<3.8.0,>=3.7.2->en-core-web-lg==3.7.1) (67.7.2)\n",
            "Requirement already satisfied: packaging>=20.0 in /usr/local/lib/python3.10/dist-packages (from spacy<3.8.0,>=3.7.2->en-core-web-lg==3.7.1) (24.0)\n",
            "Requirement already satisfied: langcodes<4.0.0,>=3.2.0 in /usr/local/lib/python3.10/dist-packages (from spacy<3.8.0,>=3.7.2->en-core-web-lg==3.7.1) (3.3.0)\n",
            "Requirement already satisfied: numpy>=1.19.0 in /usr/local/lib/python3.10/dist-packages (from spacy<3.8.0,>=3.7.2->en-core-web-lg==3.7.1) (1.25.2)\n",
            "Requirement already satisfied: annotated-types>=0.4.0 in /usr/local/lib/python3.10/dist-packages (from pydantic!=1.8,!=1.8.1,<3.0.0,>=1.7.4->spacy<3.8.0,>=3.7.2->en-core-web-lg==3.7.1) (0.6.0)\n",
            "Requirement already satisfied: pydantic-core==2.16.3 in /usr/local/lib/python3.10/dist-packages (from pydantic!=1.8,!=1.8.1,<3.0.0,>=1.7.4->spacy<3.8.0,>=3.7.2->en-core-web-lg==3.7.1) (2.16.3)\n",
            "Requirement already satisfied: typing-extensions>=4.6.1 in /usr/local/lib/python3.10/dist-packages (from pydantic!=1.8,!=1.8.1,<3.0.0,>=1.7.4->spacy<3.8.0,>=3.7.2->en-core-web-lg==3.7.1) (4.10.0)\n",
            "Requirement already satisfied: charset-normalizer<4,>=2 in /usr/local/lib/python3.10/dist-packages (from requests<3.0.0,>=2.13.0->spacy<3.8.0,>=3.7.2->en-core-web-lg==3.7.1) (3.3.2)\n",
            "Requirement already satisfied: idna<4,>=2.5 in /usr/local/lib/python3.10/dist-packages (from requests<3.0.0,>=2.13.0->spacy<3.8.0,>=3.7.2->en-core-web-lg==3.7.1) (3.6)\n",
            "Requirement already satisfied: urllib3<3,>=1.21.1 in /usr/local/lib/python3.10/dist-packages (from requests<3.0.0,>=2.13.0->spacy<3.8.0,>=3.7.2->en-core-web-lg==3.7.1) (2.0.7)\n",
            "Requirement already satisfied: certifi>=2017.4.17 in /usr/local/lib/python3.10/dist-packages (from requests<3.0.0,>=2.13.0->spacy<3.8.0,>=3.7.2->en-core-web-lg==3.7.1) (2024.2.2)\n",
            "Requirement already satisfied: blis<0.8.0,>=0.7.8 in /usr/local/lib/python3.10/dist-packages (from thinc<8.3.0,>=8.2.2->spacy<3.8.0,>=3.7.2->en-core-web-lg==3.7.1) (0.7.11)\n",
            "Requirement already satisfied: confection<1.0.0,>=0.0.1 in /usr/local/lib/python3.10/dist-packages (from thinc<8.3.0,>=8.2.2->spacy<3.8.0,>=3.7.2->en-core-web-lg==3.7.1) (0.1.4)\n",
            "Requirement already satisfied: click<9.0.0,>=7.1.1 in /usr/local/lib/python3.10/dist-packages (from typer<0.10.0,>=0.3.0->spacy<3.8.0,>=3.7.2->en-core-web-lg==3.7.1) (8.1.7)\n",
            "Requirement already satisfied: cloudpathlib<0.17.0,>=0.7.0 in /usr/local/lib/python3.10/dist-packages (from weasel<0.4.0,>=0.1.0->spacy<3.8.0,>=3.7.2->en-core-web-lg==3.7.1) (0.16.0)\n",
            "Requirement already satisfied: MarkupSafe>=2.0 in /usr/local/lib/python3.10/dist-packages (from jinja2->spacy<3.8.0,>=3.7.2->en-core-web-lg==3.7.1) (2.1.5)\n",
            "Installing collected packages: en-core-web-lg\n",
            "Successfully installed en-core-web-lg-3.7.1\n",
            "\u001b[38;5;2m✔ Download and installation successful\u001b[0m\n",
            "You can now load the package via spacy.load('en_core_web_lg')\n",
            "\u001b[38;5;3m⚠ Restart to reload dependencies\u001b[0m\n",
            "If you are in a Jupyter or Colab notebook, you may need to restart Python in\n",
            "order to load all the package's dependencies. You can do this by selecting the\n",
            "'Restart kernel' or 'Restart runtime' option.\n"
          ]
        }
      ],
      "source": [
        "!python -m spacy download en_core_web_lg"
      ]
    },
    {
      "cell_type": "code",
      "execution_count": null,
      "metadata": {
        "id": "TKqtVDEfxDmn"
      },
      "outputs": [],
      "source": [
        "\n",
        "import spacy\n",
        "import numpy as np\n",
        "nlp = spacy.load('en_core_web_lg')\n",
        "\n"
      ]
    },
    {
      "cell_type": "code",
      "execution_count": null,
      "metadata": {
        "id": "amyiRxEGxX-2"
      },
      "outputs": [],
      "source": [
        "%%capture\n",
        "\n",
        "!pip install --upgrade spacy\n",
        "\n",
        "!pip install clean-text"
      ]
    },
    {
      "cell_type": "markdown",
      "metadata": {
        "id": "DqdkaYAZxntK"
      },
      "source": [
        "## Lemmatize"
      ]
    },
    {
      "cell_type": "code",
      "execution_count": null,
      "metadata": {
        "colab": {
          "base_uri": "https://localhost:8080/"
        },
        "id": "mL5suIV-xqvu",
        "outputId": "eecfc7e5-57db-4edc-8794-836e7b9e92b7"
      },
      "outputs": [
        {
          "output_type": "stream",
          "name": "stderr",
          "text": [
            "WARNING:root:Since the GPL-licensed package `unidecode` is not installed, using Python's `unicodedata` package which yields worse results.\n"
          ]
        },
        {
          "output_type": "stream",
          "name": "stdout",
          "text": [
            "Processing the entire  data took 253.16 seconds\n"
          ]
        }
      ],
      "source": [
        "from cleantext import clean\n",
        "from time import time\n",
        "t_start= time()\n",
        "nlp = spacy.load(\"en_core_web_lg\")\n",
        "def clean_lemmatize(text):\n",
        "\n",
        "    cleaned_text = clean(text,\n",
        "                         fix_unicode=True,               # fix various unicode errors\n",
        "                         lower=True,                     # change all text to lowercase\n",
        "                         no_line_breaks=True,            # remove occurrences of the newline character \"\\n\"\n",
        "                         no_punct=False,                 # do not remove punctuations for now\n",
        "                         no_urls=True,                   # replace all URLs with nothing\n",
        "                         no_emails=True,                 # replace all email addresses with nothing\n",
        "                         no_phone_numbers=True,          # replace all phone numbers with nothing\n",
        "                         lang=\"en\")                      # set language to English\n",
        "\n",
        "\n",
        "    doc = nlp(cleaned_text)\n",
        "    lemmatized_tokens = [token.lemma_ for token in doc if not token.is_stop and not token.is_punct and not token.is_space]\n",
        "\n",
        "\n",
        "    return ' '.join(lemmatized_tokens)\n",
        "\n",
        "\n",
        "task1_data['clean_lemmatized_text'] = task1_data['paragraph'].apply(clean_lemmatize)\n",
        "\n",
        "task1_data[['paragraph', 'clean_lemmatized_text']].head()\n",
        "\n",
        "print(f'Processing the entire  data took {time()-t_start:.2f} seconds')"
      ]
    },
    {
      "cell_type": "code",
      "execution_count": null,
      "metadata": {
        "colab": {
          "base_uri": "https://localhost:8080/"
        },
        "id": "9KeO6XEWbeiP",
        "outputId": "5cd9757e-6087-44c1-a691-bd40f983cbd6"
      },
      "outputs": [
        {
          "output_type": "stream",
          "name": "stdout",
          "text": [
            "                                              paragraph  \\\n",
            "0     Ramsay was born in Glasgow on 2 October 1852. ...   \n",
            "1     It has been widely estimated for at least the ...   \n",
            "2     He went on to win the Royal Medal of the Royal...   \n",
            "3     The changes have altered many underlying assum...   \n",
            "4     After these novels were published, Disraeli de...   \n",
            "...                                                 ...   \n",
            "9085  Sir Joseph Dalton Hooker  was a British botani...   \n",
            "9086  As successful invasions of India generally cam...   \n",
            "9087  Hawking was born on 8 January 1942 in Oxford t...   \n",
            "9088  More complex tasks can be making custom data e...   \n",
            "9089  Governments, and especially the police and cou...   \n",
            "\n",
            "                                                 tokens  \n",
            "0     [ramsay, bear, glasgow, 2, october, 1852, neph...  \n",
            "1     [widely, estimate, generation, program, resour...  \n",
            "2     [go, win, royal, medal, royal, society, 1971, ...  \n",
            "3     [change, alter, underlying, assumption, right,...  \n",
            "4     [novel, publish, disraeli, declare, write, tur...  \n",
            "...                                                 ...  \n",
            "9085  [sir, joseph, dalton, hooker, british, botanis...  \n",
            "9086  [successful, invasion, india, generally, come,...  \n",
            "9087  [hawk, bear, 8, january, 1942, oxford, frank, ...  \n",
            "9088  [complex, task, make, custom, datum, entry, fo...  \n",
            "9089  [government, especially, police, court, law, o...  \n",
            "\n",
            "[9090 rows x 2 columns]\n",
            "Processing the entire  data took 154.00 seconds\n"
          ]
        }
      ],
      "source": [
        "t_start= time()\n",
        "\n",
        "def tokenize_text(text):\n",
        "\n",
        "    doc = nlp(text)\n",
        "\n",
        "    tokens = [token.text for token in doc]\n",
        "    return tokens\n",
        "\n",
        "task1_data['tokens'] = task1_data['clean_lemmatized_text'].apply(tokenize_text)\n",
        "print(task1_data[['paragraph', 'tokens']])\n",
        "\n",
        "print(f'Processing the entire  data took {time()-t_start:.2f} seconds')"
      ]
    },
    {
      "cell_type": "code",
      "execution_count": null,
      "metadata": {
        "id": "VkJjeAWTtYxv"
      },
      "outputs": [],
      "source": [
        "task1_data.drop('paragraph', axis=1, inplace=True) #removing paragraph column"
      ]
    },
    {
      "cell_type": "code",
      "execution_count": null,
      "metadata": {
        "id": "ohNIo8-AM3Au"
      },
      "outputs": [],
      "source": [
        "task1_data['text_length'] = task1_data['clean_lemmatized_text'].apply(lambda x: len(x.split()))"
      ]
    },
    {
      "cell_type": "code",
      "execution_count": null,
      "metadata": {
        "colab": {
          "base_uri": "https://localhost:8080/"
        },
        "id": "bbUwVy5tN0Pi",
        "outputId": "d33741be-5f47-4d19-8d10-c50eed7c54ee"
      },
      "outputs": [
        {
          "output_type": "execute_result",
          "data": {
            "text/plain": [
              "0    27\n",
              "1    97\n",
              "2    40\n",
              "3    39\n",
              "4    97\n",
              "Name: text_length, dtype: int64"
            ]
          },
          "metadata": {},
          "execution_count": 29
        }
      ],
      "source": [
        "task1_data['text_length'].head()"
      ]
    },
    {
      "cell_type": "code",
      "execution_count": null,
      "metadata": {
        "colab": {
          "base_uri": "https://localhost:8080/"
        },
        "id": "dASoq-zbJO8z",
        "outputId": "a403256e-d586-4f01-a647-a79b75ded906"
      },
      "outputs": [
        {
          "output_type": "execute_result",
          "data": {
            "text/plain": [
              "category                                 int64\n",
              "has_entity_ORGNOPRODUCTNOPERSONNO       object\n",
              "has_entity_ORGNOPRODUCTNOPERSONYES      object\n",
              "has_entity_ORGNOPRODUCTYESPERSONNO      object\n",
              "has_entity_ORGNOPRODUCTYESPERSONYES     object\n",
              "has_entity_ORGYESPRODUCTNOPERSONNO      object\n",
              "has_entity_ORGYESPRODUCTNOPERSONYES     object\n",
              "has_entity_ORGYESPRODUCTYESPERSONNO     object\n",
              "has_entity_ORGYESPRODUCTYESPERSONYES    object\n",
              "clean_lemmatized_text                   object\n",
              "tokens                                  object\n",
              "text_length                              int64\n",
              "dtype: object"
            ]
          },
          "metadata": {},
          "execution_count": 30
        }
      ],
      "source": [
        "task1_data.dtypes"
      ]
    },
    {
      "cell_type": "markdown",
      "metadata": {
        "id": "KverISiA75hh"
      },
      "source": [
        "## Data *Splitting*"
      ]
    },
    {
      "cell_type": "code",
      "execution_count": null,
      "metadata": {
        "colab": {
          "base_uri": "https://localhost:8080/"
        },
        "id": "PT5ZcAGS6omA",
        "outputId": "80eacd2f-3177-49ab-c0c6-bc66c0c0f406"
      },
      "outputs": [
        {
          "output_type": "stream",
          "name": "stdout",
          "text": [
            "Training Set Size: 6363\n",
            "Validation Set Size: 909\n",
            "Test Set Size: 1818\n"
          ]
        }
      ],
      "source": [
        "\n",
        "from sklearn.model_selection import train_test_split\n",
        "\n",
        "\n",
        "\n",
        "train_task1, test_task1 = train_test_split(task1_data, test_size=0.2, random_state=42, stratify=task1_data['category'])\n",
        "\n",
        "train_task1, val_df = train_test_split(train_task1, test_size=0.125, random_state=42, stratify=train_task1['category']) # 0.125 x 0.8 = 0.1\n",
        "\n",
        "print(f\"Training Set Size: {len(train_task1)}\")\n",
        "print(f\"Validation Set Size: {len(val_df)}\")\n",
        "print(f\"Test Set Size: {len(test_task1)}\")"
      ]
    },
    {
      "cell_type": "code",
      "execution_count": null,
      "metadata": {
        "colab": {
          "base_uri": "https://localhost:8080/"
        },
        "id": "DX2--ISlORD7",
        "outputId": "5566aa0d-0f15-4fee-a69e-6359995e3c54"
      },
      "outputs": [
        {
          "output_type": "stream",
          "name": "stdout",
          "text": [
            "Time elapsed is 98.56 seconds\n"
          ]
        }
      ],
      "source": [
        "from time import time as tt\n",
        "import pandas as pd\n",
        "\n",
        "\n",
        "def get_spacy_doc_embedding(text):\n",
        "    return nlp(text).vector\n",
        "\n",
        "t0 = tt()\n",
        "train_task1_emb = train_task1['clean_lemmatized_text'].apply(lambda x: pd.Series(get_spacy_doc_embedding(x)))\n",
        "\n",
        "train_task1_new = train_task1_emb.join(train_task1[['text_length', 'category']])\n",
        "\n",
        "\n",
        "train_task1_new.columns = train_task1_new.columns.astype(str)\n",
        "\n",
        "print(f'Time elapsed is {(tt() - t0):.2f} seconds')\n"
      ]
    },
    {
      "cell_type": "code",
      "execution_count": null,
      "metadata": {
        "colab": {
          "base_uri": "https://localhost:8080/"
        },
        "id": "meX1hZ7KO44u",
        "outputId": "be3f12ed-8ab8-4d49-de8c-dd208642693f"
      },
      "outputs": [
        {
          "output_type": "stream",
          "name": "stdout",
          "text": [
            "Time elapsed for processing validation data: 14.44 seconds\n"
          ]
        }
      ],
      "source": [
        "t0 = tt()\n",
        "\n",
        "val_df_emb = val_df['clean_lemmatized_text'].apply(lambda x: pd.Series(get_spacy_doc_embedding(x)))\n",
        "\n",
        "val_df_new = val_df_emb.join(val_df[['category']])\n",
        "val_df_new.columns = val_df_new.columns.astype(str)\n",
        "\n",
        "print(f'Time elapsed for processing validation data: {(tt() - t0):.2f} seconds')\n"
      ]
    },
    {
      "cell_type": "code",
      "execution_count": null,
      "metadata": {
        "colab": {
          "base_uri": "https://localhost:8080/"
        },
        "id": "udznVNGEO7Eq",
        "outputId": "93134da8-261a-4a85-886c-b4c6fd367242"
      },
      "outputs": [
        {
          "output_type": "stream",
          "name": "stdout",
          "text": [
            "Time elapsed for processing validation data: 31.16 seconds\n"
          ]
        }
      ],
      "source": [
        "t0 = tt()\n",
        "\n",
        "\n",
        "test_task1_emb = test_task1['clean_lemmatized_text'].apply(lambda x: pd.Series(get_spacy_doc_embedding(x)))\n",
        "\n",
        "\n",
        "test_task1_new = test_task1_emb.join(test_task1[['category']])\n",
        "\n",
        "test_task1_new.columns = test_task1_new.columns.astype(str)\n",
        "\n",
        "print(f'Time elapsed for processing validation data: {(tt() - t0):.2f} seconds')\n"
      ]
    },
    {
      "cell_type": "code",
      "execution_count": null,
      "metadata": {
        "colab": {
          "base_uri": "https://localhost:8080/"
        },
        "id": "oBfYeHlGRZYl",
        "outputId": "c10935ce-57c6-4136-f6ce-8785b4e6b7a7"
      },
      "outputs": [
        {
          "output_type": "execute_result",
          "data": {
            "text/plain": [
              "Index(['category', 'has_entity_ORGNOPRODUCTNOPERSONNO',\n",
              "       'has_entity_ORGNOPRODUCTNOPERSONYES',\n",
              "       'has_entity_ORGNOPRODUCTYESPERSONNO',\n",
              "       'has_entity_ORGNOPRODUCTYESPERSONYES',\n",
              "       'has_entity_ORGYESPRODUCTNOPERSONNO',\n",
              "       'has_entity_ORGYESPRODUCTNOPERSONYES',\n",
              "       'has_entity_ORGYESPRODUCTYESPERSONNO',\n",
              "       'has_entity_ORGYESPRODUCTYESPERSONYES', 'clean_lemmatized_text',\n",
              "       'tokens', 'text_length'],\n",
              "      dtype='object')"
            ]
          },
          "metadata": {},
          "execution_count": 35
        }
      ],
      "source": [
        "train_task1.columns"
      ]
    },
    {
      "cell_type": "code",
      "execution_count": null,
      "metadata": {
        "colab": {
          "base_uri": "https://localhost:8080/"
        },
        "id": "m43_TWljgNzs",
        "outputId": "62b6e982-6a00-4f2c-b307-9179fca1296d"
      },
      "outputs": [
        {
          "output_type": "execute_result",
          "data": {
            "text/plain": [
              "Index(['0', '1', '2', '3', '4', '5', '6', '7', '8', '9',\n",
              "       ...\n",
              "       '292', '293', '294', '295', '296', '297', '298', '299', 'text_length',\n",
              "       'category'],\n",
              "      dtype='object', length=302)"
            ]
          },
          "metadata": {},
          "execution_count": 36
        }
      ],
      "source": [
        "train_task1_new.columns"
      ]
    },
    {
      "cell_type": "code",
      "source": [
        "train_task1.head()"
      ],
      "metadata": {
        "colab": {
          "base_uri": "https://localhost:8080/",
          "height": 539
        },
        "id": "ay8ZSCsZF6GP",
        "outputId": "874cc515-7b3d-4df5-c407-48c8d11494dd"
      },
      "execution_count": null,
      "outputs": [
        {
          "output_type": "execute_result",
          "data": {
            "text/plain": [
              "      category has_entity_ORGNOPRODUCTNOPERSONNO  \\\n",
              "6877         3                               1.0   \n",
              "7187         3                               1.0   \n",
              "7649         0                               0.0   \n",
              "8397         4                               0.0   \n",
              "4373         0                               1.0   \n",
              "\n",
              "     has_entity_ORGNOPRODUCTNOPERSONYES has_entity_ORGNOPRODUCTYESPERSONNO  \\\n",
              "6877                                0.0                                0.0   \n",
              "7187                                0.0                                0.0   \n",
              "7649                                0.0                                0.0   \n",
              "8397                                0.0                                0.0   \n",
              "4373                                0.0                                0.0   \n",
              "\n",
              "     has_entity_ORGNOPRODUCTYESPERSONYES has_entity_ORGYESPRODUCTNOPERSONNO  \\\n",
              "6877                                 0.0                                0.0   \n",
              "7187                                 0.0                                0.0   \n",
              "7649                                 0.0                                0.0   \n",
              "8397                                 0.0                                1.0   \n",
              "4373                                 0.0                                0.0   \n",
              "\n",
              "     has_entity_ORGYESPRODUCTNOPERSONYES has_entity_ORGYESPRODUCTYESPERSONNO  \\\n",
              "6877                                 0.0                                 0.0   \n",
              "7187                                 0.0                                 0.0   \n",
              "7649                                 1.0                                 0.0   \n",
              "8397                                 0.0                                 0.0   \n",
              "4373                                 0.0                                 0.0   \n",
              "\n",
              "     has_entity_ORGYESPRODUCTYESPERSONYES  \\\n",
              "6877                                  0.0   \n",
              "7187                                  0.0   \n",
              "7649                                  0.0   \n",
              "8397                                  0.0   \n",
              "4373                                  0.0   \n",
              "\n",
              "                                  clean_lemmatized_text  \\\n",
              "6877  exist idea mind reality thing equal great exis...   \n",
              "7187  spinoza assume quasi mathematical style state ...   \n",
              "7649  john searle 1980 paper mind brain program prop...   \n",
              "8397  microcode implement emulator enable computer p...   \n",
              "4373  l1 regularization common make weight vector sp...   \n",
              "\n",
              "                                                 tokens  text_length  \n",
              "6877  [exist, idea, mind, reality, thing, equal, gre...           10  \n",
              "7187  [spinoza, assume, quasi, mathematical, style, ...           13  \n",
              "7649  [john, searle, 1980, paper, mind, brain, progr...           67  \n",
              "8397  [microcode, implement, emulator, enable, compu...           29  \n",
              "4373  [l1, regularization, common, make, weight, vec...           29  "
            ],
            "text/html": [
              "\n",
              "  <div id=\"df-edd92f8e-5f17-47c3-9ba2-291887104f21\" class=\"colab-df-container\">\n",
              "    <div>\n",
              "<style scoped>\n",
              "    .dataframe tbody tr th:only-of-type {\n",
              "        vertical-align: middle;\n",
              "    }\n",
              "\n",
              "    .dataframe tbody tr th {\n",
              "        vertical-align: top;\n",
              "    }\n",
              "\n",
              "    .dataframe thead th {\n",
              "        text-align: right;\n",
              "    }\n",
              "</style>\n",
              "<table border=\"1\" class=\"dataframe\">\n",
              "  <thead>\n",
              "    <tr style=\"text-align: right;\">\n",
              "      <th></th>\n",
              "      <th>category</th>\n",
              "      <th>has_entity_ORGNOPRODUCTNOPERSONNO</th>\n",
              "      <th>has_entity_ORGNOPRODUCTNOPERSONYES</th>\n",
              "      <th>has_entity_ORGNOPRODUCTYESPERSONNO</th>\n",
              "      <th>has_entity_ORGNOPRODUCTYESPERSONYES</th>\n",
              "      <th>has_entity_ORGYESPRODUCTNOPERSONNO</th>\n",
              "      <th>has_entity_ORGYESPRODUCTNOPERSONYES</th>\n",
              "      <th>has_entity_ORGYESPRODUCTYESPERSONNO</th>\n",
              "      <th>has_entity_ORGYESPRODUCTYESPERSONYES</th>\n",
              "      <th>clean_lemmatized_text</th>\n",
              "      <th>tokens</th>\n",
              "      <th>text_length</th>\n",
              "    </tr>\n",
              "  </thead>\n",
              "  <tbody>\n",
              "    <tr>\n",
              "      <th>6877</th>\n",
              "      <td>3</td>\n",
              "      <td>1.0</td>\n",
              "      <td>0.0</td>\n",
              "      <td>0.0</td>\n",
              "      <td>0.0</td>\n",
              "      <td>0.0</td>\n",
              "      <td>0.0</td>\n",
              "      <td>0.0</td>\n",
              "      <td>0.0</td>\n",
              "      <td>exist idea mind reality thing equal great exis...</td>\n",
              "      <td>[exist, idea, mind, reality, thing, equal, gre...</td>\n",
              "      <td>10</td>\n",
              "    </tr>\n",
              "    <tr>\n",
              "      <th>7187</th>\n",
              "      <td>3</td>\n",
              "      <td>1.0</td>\n",
              "      <td>0.0</td>\n",
              "      <td>0.0</td>\n",
              "      <td>0.0</td>\n",
              "      <td>0.0</td>\n",
              "      <td>0.0</td>\n",
              "      <td>0.0</td>\n",
              "      <td>0.0</td>\n",
              "      <td>spinoza assume quasi mathematical style state ...</td>\n",
              "      <td>[spinoza, assume, quasi, mathematical, style, ...</td>\n",
              "      <td>13</td>\n",
              "    </tr>\n",
              "    <tr>\n",
              "      <th>7649</th>\n",
              "      <td>0</td>\n",
              "      <td>0.0</td>\n",
              "      <td>0.0</td>\n",
              "      <td>0.0</td>\n",
              "      <td>0.0</td>\n",
              "      <td>0.0</td>\n",
              "      <td>1.0</td>\n",
              "      <td>0.0</td>\n",
              "      <td>0.0</td>\n",
              "      <td>john searle 1980 paper mind brain program prop...</td>\n",
              "      <td>[john, searle, 1980, paper, mind, brain, progr...</td>\n",
              "      <td>67</td>\n",
              "    </tr>\n",
              "    <tr>\n",
              "      <th>8397</th>\n",
              "      <td>4</td>\n",
              "      <td>0.0</td>\n",
              "      <td>0.0</td>\n",
              "      <td>0.0</td>\n",
              "      <td>0.0</td>\n",
              "      <td>1.0</td>\n",
              "      <td>0.0</td>\n",
              "      <td>0.0</td>\n",
              "      <td>0.0</td>\n",
              "      <td>microcode implement emulator enable computer p...</td>\n",
              "      <td>[microcode, implement, emulator, enable, compu...</td>\n",
              "      <td>29</td>\n",
              "    </tr>\n",
              "    <tr>\n",
              "      <th>4373</th>\n",
              "      <td>0</td>\n",
              "      <td>1.0</td>\n",
              "      <td>0.0</td>\n",
              "      <td>0.0</td>\n",
              "      <td>0.0</td>\n",
              "      <td>0.0</td>\n",
              "      <td>0.0</td>\n",
              "      <td>0.0</td>\n",
              "      <td>0.0</td>\n",
              "      <td>l1 regularization common make weight vector sp...</td>\n",
              "      <td>[l1, regularization, common, make, weight, vec...</td>\n",
              "      <td>29</td>\n",
              "    </tr>\n",
              "  </tbody>\n",
              "</table>\n",
              "</div>\n",
              "    <div class=\"colab-df-buttons\">\n",
              "\n",
              "  <div class=\"colab-df-container\">\n",
              "    <button class=\"colab-df-convert\" onclick=\"convertToInteractive('df-edd92f8e-5f17-47c3-9ba2-291887104f21')\"\n",
              "            title=\"Convert this dataframe to an interactive table.\"\n",
              "            style=\"display:none;\">\n",
              "\n",
              "  <svg xmlns=\"http://www.w3.org/2000/svg\" height=\"24px\" viewBox=\"0 -960 960 960\">\n",
              "    <path d=\"M120-120v-720h720v720H120Zm60-500h600v-160H180v160Zm220 220h160v-160H400v160Zm0 220h160v-160H400v160ZM180-400h160v-160H180v160Zm440 0h160v-160H620v160ZM180-180h160v-160H180v160Zm440 0h160v-160H620v160Z\"/>\n",
              "  </svg>\n",
              "    </button>\n",
              "\n",
              "  <style>\n",
              "    .colab-df-container {\n",
              "      display:flex;\n",
              "      gap: 12px;\n",
              "    }\n",
              "\n",
              "    .colab-df-convert {\n",
              "      background-color: #E8F0FE;\n",
              "      border: none;\n",
              "      border-radius: 50%;\n",
              "      cursor: pointer;\n",
              "      display: none;\n",
              "      fill: #1967D2;\n",
              "      height: 32px;\n",
              "      padding: 0 0 0 0;\n",
              "      width: 32px;\n",
              "    }\n",
              "\n",
              "    .colab-df-convert:hover {\n",
              "      background-color: #E2EBFA;\n",
              "      box-shadow: 0px 1px 2px rgba(60, 64, 67, 0.3), 0px 1px 3px 1px rgba(60, 64, 67, 0.15);\n",
              "      fill: #174EA6;\n",
              "    }\n",
              "\n",
              "    .colab-df-buttons div {\n",
              "      margin-bottom: 4px;\n",
              "    }\n",
              "\n",
              "    [theme=dark] .colab-df-convert {\n",
              "      background-color: #3B4455;\n",
              "      fill: #D2E3FC;\n",
              "    }\n",
              "\n",
              "    [theme=dark] .colab-df-convert:hover {\n",
              "      background-color: #434B5C;\n",
              "      box-shadow: 0px 1px 3px 1px rgba(0, 0, 0, 0.15);\n",
              "      filter: drop-shadow(0px 1px 2px rgba(0, 0, 0, 0.3));\n",
              "      fill: #FFFFFF;\n",
              "    }\n",
              "  </style>\n",
              "\n",
              "    <script>\n",
              "      const buttonEl =\n",
              "        document.querySelector('#df-edd92f8e-5f17-47c3-9ba2-291887104f21 button.colab-df-convert');\n",
              "      buttonEl.style.display =\n",
              "        google.colab.kernel.accessAllowed ? 'block' : 'none';\n",
              "\n",
              "      async function convertToInteractive(key) {\n",
              "        const element = document.querySelector('#df-edd92f8e-5f17-47c3-9ba2-291887104f21');\n",
              "        const dataTable =\n",
              "          await google.colab.kernel.invokeFunction('convertToInteractive',\n",
              "                                                    [key], {});\n",
              "        if (!dataTable) return;\n",
              "\n",
              "        const docLinkHtml = 'Like what you see? Visit the ' +\n",
              "          '<a target=\"_blank\" href=https://colab.research.google.com/notebooks/data_table.ipynb>data table notebook</a>'\n",
              "          + ' to learn more about interactive tables.';\n",
              "        element.innerHTML = '';\n",
              "        dataTable['output_type'] = 'display_data';\n",
              "        await google.colab.output.renderOutput(dataTable, element);\n",
              "        const docLink = document.createElement('div');\n",
              "        docLink.innerHTML = docLinkHtml;\n",
              "        element.appendChild(docLink);\n",
              "      }\n",
              "    </script>\n",
              "  </div>\n",
              "\n",
              "\n",
              "<div id=\"df-e982146a-49d9-4433-9b88-f5574edfdc68\">\n",
              "  <button class=\"colab-df-quickchart\" onclick=\"quickchart('df-e982146a-49d9-4433-9b88-f5574edfdc68')\"\n",
              "            title=\"Suggest charts\"\n",
              "            style=\"display:none;\">\n",
              "\n",
              "<svg xmlns=\"http://www.w3.org/2000/svg\" height=\"24px\"viewBox=\"0 0 24 24\"\n",
              "     width=\"24px\">\n",
              "    <g>\n",
              "        <path d=\"M19 3H5c-1.1 0-2 .9-2 2v14c0 1.1.9 2 2 2h14c1.1 0 2-.9 2-2V5c0-1.1-.9-2-2-2zM9 17H7v-7h2v7zm4 0h-2V7h2v10zm4 0h-2v-4h2v4z\"/>\n",
              "    </g>\n",
              "</svg>\n",
              "  </button>\n",
              "\n",
              "<style>\n",
              "  .colab-df-quickchart {\n",
              "      --bg-color: #E8F0FE;\n",
              "      --fill-color: #1967D2;\n",
              "      --hover-bg-color: #E2EBFA;\n",
              "      --hover-fill-color: #174EA6;\n",
              "      --disabled-fill-color: #AAA;\n",
              "      --disabled-bg-color: #DDD;\n",
              "  }\n",
              "\n",
              "  [theme=dark] .colab-df-quickchart {\n",
              "      --bg-color: #3B4455;\n",
              "      --fill-color: #D2E3FC;\n",
              "      --hover-bg-color: #434B5C;\n",
              "      --hover-fill-color: #FFFFFF;\n",
              "      --disabled-bg-color: #3B4455;\n",
              "      --disabled-fill-color: #666;\n",
              "  }\n",
              "\n",
              "  .colab-df-quickchart {\n",
              "    background-color: var(--bg-color);\n",
              "    border: none;\n",
              "    border-radius: 50%;\n",
              "    cursor: pointer;\n",
              "    display: none;\n",
              "    fill: var(--fill-color);\n",
              "    height: 32px;\n",
              "    padding: 0;\n",
              "    width: 32px;\n",
              "  }\n",
              "\n",
              "  .colab-df-quickchart:hover {\n",
              "    background-color: var(--hover-bg-color);\n",
              "    box-shadow: 0 1px 2px rgba(60, 64, 67, 0.3), 0 1px 3px 1px rgba(60, 64, 67, 0.15);\n",
              "    fill: var(--button-hover-fill-color);\n",
              "  }\n",
              "\n",
              "  .colab-df-quickchart-complete:disabled,\n",
              "  .colab-df-quickchart-complete:disabled:hover {\n",
              "    background-color: var(--disabled-bg-color);\n",
              "    fill: var(--disabled-fill-color);\n",
              "    box-shadow: none;\n",
              "  }\n",
              "\n",
              "  .colab-df-spinner {\n",
              "    border: 2px solid var(--fill-color);\n",
              "    border-color: transparent;\n",
              "    border-bottom-color: var(--fill-color);\n",
              "    animation:\n",
              "      spin 1s steps(1) infinite;\n",
              "  }\n",
              "\n",
              "  @keyframes spin {\n",
              "    0% {\n",
              "      border-color: transparent;\n",
              "      border-bottom-color: var(--fill-color);\n",
              "      border-left-color: var(--fill-color);\n",
              "    }\n",
              "    20% {\n",
              "      border-color: transparent;\n",
              "      border-left-color: var(--fill-color);\n",
              "      border-top-color: var(--fill-color);\n",
              "    }\n",
              "    30% {\n",
              "      border-color: transparent;\n",
              "      border-left-color: var(--fill-color);\n",
              "      border-top-color: var(--fill-color);\n",
              "      border-right-color: var(--fill-color);\n",
              "    }\n",
              "    40% {\n",
              "      border-color: transparent;\n",
              "      border-right-color: var(--fill-color);\n",
              "      border-top-color: var(--fill-color);\n",
              "    }\n",
              "    60% {\n",
              "      border-color: transparent;\n",
              "      border-right-color: var(--fill-color);\n",
              "    }\n",
              "    80% {\n",
              "      border-color: transparent;\n",
              "      border-right-color: var(--fill-color);\n",
              "      border-bottom-color: var(--fill-color);\n",
              "    }\n",
              "    90% {\n",
              "      border-color: transparent;\n",
              "      border-bottom-color: var(--fill-color);\n",
              "    }\n",
              "  }\n",
              "</style>\n",
              "\n",
              "  <script>\n",
              "    async function quickchart(key) {\n",
              "      const quickchartButtonEl =\n",
              "        document.querySelector('#' + key + ' button');\n",
              "      quickchartButtonEl.disabled = true;  // To prevent multiple clicks.\n",
              "      quickchartButtonEl.classList.add('colab-df-spinner');\n",
              "      try {\n",
              "        const charts = await google.colab.kernel.invokeFunction(\n",
              "            'suggestCharts', [key], {});\n",
              "      } catch (error) {\n",
              "        console.error('Error during call to suggestCharts:', error);\n",
              "      }\n",
              "      quickchartButtonEl.classList.remove('colab-df-spinner');\n",
              "      quickchartButtonEl.classList.add('colab-df-quickchart-complete');\n",
              "    }\n",
              "    (() => {\n",
              "      let quickchartButtonEl =\n",
              "        document.querySelector('#df-e982146a-49d9-4433-9b88-f5574edfdc68 button');\n",
              "      quickchartButtonEl.style.display =\n",
              "        google.colab.kernel.accessAllowed ? 'block' : 'none';\n",
              "    })();\n",
              "  </script>\n",
              "</div>\n",
              "    </div>\n",
              "  </div>\n"
            ],
            "application/vnd.google.colaboratory.intrinsic+json": {
              "type": "dataframe",
              "variable_name": "train_task1",
              "summary": "{\n  \"name\": \"train_task1\",\n  \"rows\": 6363,\n  \"fields\": [\n    {\n      \"column\": \"category\",\n      \"properties\": {\n        \"dtype\": \"number\",\n        \"std\": 1,\n        \"min\": 0,\n        \"max\": 4,\n        \"num_unique_values\": 5,\n        \"samples\": [\n          0,\n          2,\n          4\n        ],\n        \"semantic_type\": \"\",\n        \"description\": \"\"\n      }\n    },\n    {\n      \"column\": \"has_entity_ORGNOPRODUCTNOPERSONNO\",\n      \"properties\": {\n        \"dtype\": \"date\",\n        \"min\": 0.0,\n        \"max\": 1.0,\n        \"num_unique_values\": 2,\n        \"samples\": [\n          0.0,\n          1.0\n        ],\n        \"semantic_type\": \"\",\n        \"description\": \"\"\n      }\n    },\n    {\n      \"column\": \"has_entity_ORGNOPRODUCTNOPERSONYES\",\n      \"properties\": {\n        \"dtype\": \"date\",\n        \"min\": 0.0,\n        \"max\": 1.0,\n        \"num_unique_values\": 2,\n        \"samples\": [\n          1.0,\n          0.0\n        ],\n        \"semantic_type\": \"\",\n        \"description\": \"\"\n      }\n    },\n    {\n      \"column\": \"has_entity_ORGNOPRODUCTYESPERSONNO\",\n      \"properties\": {\n        \"dtype\": \"date\",\n        \"min\": 0.0,\n        \"max\": 1.0,\n        \"num_unique_values\": 2,\n        \"samples\": [\n          1.0,\n          0.0\n        ],\n        \"semantic_type\": \"\",\n        \"description\": \"\"\n      }\n    },\n    {\n      \"column\": \"has_entity_ORGNOPRODUCTYESPERSONYES\",\n      \"properties\": {\n        \"dtype\": \"date\",\n        \"min\": 0.0,\n        \"max\": 1.0,\n        \"num_unique_values\": 2,\n        \"samples\": [\n          1.0,\n          0.0\n        ],\n        \"semantic_type\": \"\",\n        \"description\": \"\"\n      }\n    },\n    {\n      \"column\": \"has_entity_ORGYESPRODUCTNOPERSONNO\",\n      \"properties\": {\n        \"dtype\": \"date\",\n        \"min\": 0.0,\n        \"max\": 1.0,\n        \"num_unique_values\": 2,\n        \"samples\": [\n          1.0,\n          0.0\n        ],\n        \"semantic_type\": \"\",\n        \"description\": \"\"\n      }\n    },\n    {\n      \"column\": \"has_entity_ORGYESPRODUCTNOPERSONYES\",\n      \"properties\": {\n        \"dtype\": \"date\",\n        \"min\": 0.0,\n        \"max\": 1.0,\n        \"num_unique_values\": 2,\n        \"samples\": [\n          1.0,\n          0.0\n        ],\n        \"semantic_type\": \"\",\n        \"description\": \"\"\n      }\n    },\n    {\n      \"column\": \"has_entity_ORGYESPRODUCTYESPERSONNO\",\n      \"properties\": {\n        \"dtype\": \"date\",\n        \"min\": 0.0,\n        \"max\": 1.0,\n        \"num_unique_values\": 2,\n        \"samples\": [\n          1.0,\n          0.0\n        ],\n        \"semantic_type\": \"\",\n        \"description\": \"\"\n      }\n    },\n    {\n      \"column\": \"has_entity_ORGYESPRODUCTYESPERSONYES\",\n      \"properties\": {\n        \"dtype\": \"date\",\n        \"min\": 0.0,\n        \"max\": 1.0,\n        \"num_unique_values\": 2,\n        \"samples\": [\n          1.0,\n          0.0\n        ],\n        \"semantic_type\": \"\",\n        \"description\": \"\"\n      }\n    },\n    {\n      \"column\": \"clean_lemmatized_text\",\n      \"properties\": {\n        \"dtype\": \"string\",\n        \"num_unique_values\": 6279,\n        \"samples\": [\n          \"second si base unit minute 60 second length hour 60 minute 3600 second length day usually 24 hour 86,400 second length duration calendar day vary daylight saving time leap second\",\n          \"philosopher think mathematic important knowledge euclid founder mathematical thought write famous book geometry call euclid element\"\n        ],\n        \"semantic_type\": \"\",\n        \"description\": \"\"\n      }\n    },\n    {\n      \"column\": \"tokens\",\n      \"properties\": {\n        \"dtype\": \"object\",\n        \"semantic_type\": \"\",\n        \"description\": \"\"\n      }\n    },\n    {\n      \"column\": \"text_length\",\n      \"properties\": {\n        \"dtype\": \"number\",\n        \"std\": 34,\n        \"min\": 1,\n        \"max\": 380,\n        \"num_unique_values\": 200,\n        \"samples\": [\n          93,\n          38\n        ],\n        \"semantic_type\": \"\",\n        \"description\": \"\"\n      }\n    }\n  ]\n}"
            }
          },
          "metadata": {},
          "execution_count": 37
        }
      ]
    },
    {
      "cell_type": "code",
      "execution_count": null,
      "metadata": {
        "id": "1xH1_5OhiwtD"
      },
      "outputs": [],
      "source": [
        "from sklearn.feature_extraction.text import TfidfVectorizer\n",
        "\n",
        "\n",
        "tfidf_vectorizer = TfidfVectorizer(max_features=5000, stop_words='english')\n",
        "\n",
        "X_train_tfidf = tfidf_vectorizer.fit_transform(train_task1['clean_lemmatized_text'])\n",
        "\n",
        "X_val_tfidf = tfidf_vectorizer.transform(val_df['clean_lemmatized_text'])\n"
      ]
    },
    {
      "cell_type": "code",
      "execution_count": null,
      "metadata": {
        "colab": {
          "base_uri": "https://localhost:8080/"
        },
        "id": "WhEu7NJkkkFe",
        "outputId": "1244d7be-40be-4887-c820-0b86ee3ef068"
      },
      "outputs": [
        {
          "output_type": "execute_result",
          "data": {
            "text/plain": [
              "1    2061\n",
              "3    1760\n",
              "4    1358\n",
              "0    1070\n",
              "2     114\n",
              "Name: category, dtype: int64"
            ]
          },
          "metadata": {},
          "execution_count": 39
        }
      ],
      "source": [
        "train_task1['category'].value_counts()"
      ]
    },
    {
      "cell_type": "code",
      "execution_count": null,
      "metadata": {
        "id": "yyM568n5i0_q"
      },
      "outputs": [],
      "source": [
        "\n",
        "y_train = train_task1['category'].values\n",
        "y_val = val_df['category'].values\n",
        "y_test = test_task1['category'].values"
      ]
    },
    {
      "cell_type": "markdown",
      "metadata": {
        "id": "fyVsh69MglQM"
      },
      "source": [
        "## HyperParameters Defining and GridSearchCV"
      ]
    },
    {
      "cell_type": "code",
      "execution_count": null,
      "metadata": {
        "colab": {
          "base_uri": "https://localhost:8080/"
        },
        "id": "v2YbfDk6JAO9",
        "outputId": "2d6b41a6-0bf7-436a-b09e-da2f02f919e1"
      },
      "outputs": [
        {
          "output_type": "stream",
          "name": "stdout",
          "text": [
            "Fitting 5 folds for each of 30 candidates, totalling 150 fits\n"
          ]
        },
        {
          "output_type": "stream",
          "name": "stderr",
          "text": [
            "/usr/local/lib/python3.10/dist-packages/sklearn/model_selection/_validation.py:378: FitFailedWarning: \n",
            "75 fits failed out of a total of 150.\n",
            "The score on these train-test partitions for these parameters will be set to nan.\n",
            "If these failures are not expected, you can try to debug them by setting error_score='raise'.\n",
            "\n",
            "Below are more details about the failures:\n",
            "--------------------------------------------------------------------------------\n",
            "75 fits failed with the following error:\n",
            "Traceback (most recent call last):\n",
            "  File \"/usr/local/lib/python3.10/dist-packages/sklearn/model_selection/_validation.py\", line 686, in _fit_and_score\n",
            "    estimator.fit(X_train, y_train, **fit_params)\n",
            "  File \"/usr/local/lib/python3.10/dist-packages/sklearn/linear_model/_logistic.py\", line 1162, in fit\n",
            "    solver = _check_solver(self.solver, self.penalty, self.dual)\n",
            "  File \"/usr/local/lib/python3.10/dist-packages/sklearn/linear_model/_logistic.py\", line 54, in _check_solver\n",
            "    raise ValueError(\n",
            "ValueError: Solver lbfgs supports only 'l2' or 'none' penalties, got l1 penalty.\n",
            "\n",
            "  warnings.warn(some_fits_failed_message, FitFailedWarning)\n",
            "/usr/local/lib/python3.10/dist-packages/sklearn/model_selection/_search.py:952: UserWarning: One or more of the test scores are non-finite: [       nan 0.32390394        nan 0.32390394        nan 0.32390394\n",
            "        nan 0.43297304        nan 0.43297304        nan 0.43297304\n",
            "        nan 0.83105352        nan 0.83105352        nan 0.83105352\n",
            "        nan 0.90979042        nan 0.90979042        nan 0.90979042\n",
            "        nan 0.92110624        nan 0.92126322        nan 0.92126322]\n",
            "  warnings.warn(\n"
          ]
        },
        {
          "output_type": "stream",
          "name": "stdout",
          "text": [
            "Best Parameters: {'C': 10, 'max_iter': 500, 'penalty': 'l2'}\n",
            "Best Score: 0.9212632221217646\n"
          ]
        }
      ],
      "source": [
        "from sklearn.model_selection import GridSearchCV\n",
        "from sklearn.linear_model import LogisticRegression\n",
        "\n",
        "param_grid = {\n",
        "    'C': [0.001, 0.01, 0.1, 1, 10],\n",
        "    'penalty': ['l1', 'l2'],\n",
        "    'max_iter': [100, 500, 1000]\n",
        "}\n",
        "\n",
        "\n",
        "model = LogisticRegression(random_state=42)\n",
        "#Grid search\n",
        "grid_search = GridSearchCV(estimator=model, param_grid=param_grid, cv=5, scoring='accuracy', verbose=1, n_jobs=-1)\n",
        "\n",
        "grid_search.fit(X_train_tfidf, y_train)\n",
        "\n",
        "print(\"Best Parameters:\", grid_search.best_params_)\n",
        "print(\"Best Score:\", grid_search.best_score_)\n",
        "\n",
        "\n"
      ]
    },
    {
      "cell_type": "markdown",
      "metadata": {
        "id": "gCOh8Gakge6u"
      },
      "source": [
        "## Task1 Model Evaluation"
      ]
    },
    {
      "cell_type": "code",
      "execution_count": null,
      "metadata": {
        "id": "UoaNzM4UkRQN"
      },
      "outputs": [],
      "source": [
        "category_names = {0: 'artificial intelligence',\n",
        "                  1: 'biographies',\n",
        "                  2: 'movies about artificial intelligence',\n",
        "                  3: 'philosophy',\n",
        "                  4: 'programming'}\n",
        "\n",
        "y_val_category = [category_names[label] for label in y_val]\n",
        "y_pred_val_category = [category_names[label] for label in y_pred_val_grid]"
      ]
    },
    {
      "cell_type": "code",
      "execution_count": null,
      "metadata": {
        "colab": {
          "base_uri": "https://localhost:8080/"
        },
        "id": "2inmGU9wY_xf",
        "outputId": "a0e87d63-d612-452a-9c1d-ec449832e1d8"
      },
      "outputs": [
        {
          "output_type": "stream",
          "name": "stdout",
          "text": [
            "\n",
            "Accuracy on Validation Set (Grid Search): 0.9108910891089109\n",
            "\n",
            "Classification Report on Validation Set (Grid Search):\n",
            "                                       precision    recall  f1-score   support\n",
            "\n",
            "             artificial intelligence       0.88      0.82      0.85       153\n",
            "                         biographies       0.91      0.94      0.92       295\n",
            "movies about artificial intelligence       1.00      0.88      0.93        16\n",
            "                          philosophy       0.92      0.92      0.92       251\n",
            "                         programming       0.92      0.93      0.93       194\n",
            "\n",
            "                            accuracy                           0.91       909\n",
            "                           macro avg       0.93      0.90      0.91       909\n",
            "                        weighted avg       0.91      0.91      0.91       909\n",
            "\n"
          ]
        }
      ],
      "source": [
        "from sklearn.metrics import accuracy_score, classification_report\n",
        "best_model = grid_search.best_estimator_\n",
        "\n",
        "y_pred_val_grid = best_model.predict(X_val_tfidf)\n",
        "\n",
        "\n",
        "\n",
        "print(\"\\nAccuracy on Validation Set (Grid Search):\", accuracy_score(y_val_category, y_pred_val_category))\n",
        "\n",
        "print(\"\\nClassification Report on Validation Set (Grid Search):\\n\", classification_report(y_val_category, y_pred_val_category, target_names=list(category_names.values())))"
      ]
    },
    {
      "cell_type": "markdown",
      "metadata": {
        "id": "GMt3vYTPg4k7"
      },
      "source": [
        "## Training the model with best hyperparameters"
      ]
    },
    {
      "cell_type": "code",
      "execution_count": null,
      "metadata": {
        "colab": {
          "base_uri": "https://localhost:8080/"
        },
        "id": "ghy92iWOJX1s",
        "outputId": "cd6950eb-4cff-4325-cccd-570cea2515ef"
      },
      "outputs": [
        {
          "output_type": "stream",
          "name": "stdout",
          "text": [
            "Accuracy on Validation Set (Best Model): 0.9108910891089109\n",
            "\n",
            "Classification Report on Validation Set (Best Model):\n",
            "               precision    recall  f1-score   support\n",
            "\n",
            "           0       0.88      0.82      0.85       153\n",
            "           1       0.91      0.94      0.92       295\n",
            "           2       1.00      0.88      0.93        16\n",
            "           3       0.92      0.92      0.92       251\n",
            "           4       0.92      0.93      0.93       194\n",
            "\n",
            "    accuracy                           0.91       909\n",
            "   macro avg       0.93      0.90      0.91       909\n",
            "weighted avg       0.91      0.91      0.91       909\n",
            "\n"
          ]
        }
      ],
      "source": [
        "from sklearn.linear_model import LogisticRegression\n",
        "from sklearn.metrics import accuracy_score, classification_report\n",
        "\n",
        "\n",
        "best_model = LogisticRegression(C=10, max_iter=500, penalty='l2', random_state=42)\n",
        "\n",
        "\n",
        "best_model.fit(X_train_tfidf, y_train)\n",
        "\n",
        "y_pred_val_best = best_model.predict(X_val_tfidf)\n",
        "\n",
        "print(\"Accuracy on Validation Set (Best Model):\", accuracy_score(y_val, y_pred_val_best))\n",
        "print(\"\\nClassification Report on Validation Set (Best Model):\\n\", classification_report(y_val, y_pred_val_best))\n"
      ]
    },
    {
      "cell_type": "markdown",
      "metadata": {
        "id": "oyb97bhtg_Ar"
      },
      "source": [
        "## Confusion Matrix"
      ]
    },
    {
      "cell_type": "code",
      "execution_count": null,
      "metadata": {
        "id": "sq3h_TcHHpf9",
        "colab": {
          "base_uri": "https://localhost:8080/",
          "height": 648
        },
        "outputId": "6b09c771-0a9f-4b7a-9d30-7e08650804bb"
      },
      "outputs": [
        {
          "output_type": "display_data",
          "data": {
            "text/plain": [
              "<Figure size 800x600 with 2 Axes>"
            ],
            "image/png": "[encoded data removed]"
          },
          "metadata": {}
        }
      ],
      "source": [
        "from sklearn.metrics import confusion_matrix\n",
        "import seaborn as sns\n",
        "import matplotlib.pyplot as plt\n",
        "\n",
        "\n",
        "conf_matrix = confusion_matrix(y_val_category, y_pred_val_category)\n",
        "\n",
        "plt.figure(figsize=(8, 6))\n",
        "sns.heatmap(conf_matrix, annot=True, fmt=\"d\", cmap=\"Blues\", xticklabels=category_names.values(), yticklabels=category_names.values())\n",
        "plt.xlabel('Predicted Labels')\n",
        "plt.ylabel(' Labels')\n",
        "plt.title('Confusion Matrix')\n",
        "plt.show()"
      ]
    },
    {
      "cell_type": "markdown",
      "metadata": {
        "id": "fJknbTzjrF92"
      },
      "source": [
        "#######################################"
      ]
    },
    {
      "cell_type": "markdown",
      "metadata": {
        "id": "ghyzuS_peJJe"
      },
      "source": [
        "# Task 2"
      ]
    },
    {
      "cell_type": "markdown",
      "metadata": {
        "id": "6iSCS9LYhHpU"
      },
      "source": [
        "Checking the null values incase any mismatch happens."
      ]
    },
    {
      "cell_type": "code",
      "execution_count": null,
      "metadata": {
        "colab": {
          "base_uri": "https://localhost:8080/"
        },
        "id": "mycja_UyeKRb",
        "outputId": "b9ac0b4b-b12a-4652-de6e-ea43cff24be3"
      },
      "outputs": [
        {
          "output_type": "execute_result",
          "data": {
            "text/plain": [
              "par_id                   0\n",
              "paragraph                0\n",
              "has_entity               0\n",
              "lexicon_count            0\n",
              "difficult_words          0\n",
              "last_editor_gender       0\n",
              "category                 0\n",
              "text_clarity          8981\n",
              "dtype: int64"
            ]
          },
          "metadata": {},
          "execution_count": 117
        }
      ],
      "source": [
        "data.isna().sum()"
      ]
    },
    {
      "cell_type": "code",
      "execution_count": null,
      "metadata": {
        "colab": {
          "base_uri": "https://localhost:8080/",
          "height": 660
        },
        "id": "bUjCChxmj2_S",
        "outputId": "294d074f-89e9-45ad-e2cd-cdadbff79d41"
      },
      "outputs": [
        {
          "output_type": "execute_result",
          "data": {
            "text/plain": [
              "         par_id                                          paragraph  \\\n",
              "0  428209002237  Ramsay was born in Glasgow on 2 October 1852. ...   \n",
              "1  564218010072  It has been widely estimated for at least the ...   \n",
              "2  291401001672  He went on to win the Royal Medal of the Royal...   \n",
              "3   31548004883  The changes have altered many underlying assum...   \n",
              "4   50634005146  After these novels were published, Disraeli de...   \n",
              "\n",
              "                  has_entity  lexicon_count  difficult_words  \\\n",
              "0   ORGYESPRODUCTNOPERSONYES             49             12.0   \n",
              "1    ORGYESPRODUCTNOPERSONNO            166             47.0   \n",
              "2    ORGYESPRODUCTNOPERSONNO             69             18.0   \n",
              "3    ORGNOPRODUCTYESPERSONNO             76             27.0   \n",
              "4  ORGYESPRODUCTYESPERSONYES            200             47.0   \n",
              "\n",
              "  last_editor_gender                 category      text_clarity  \n",
              "0                man              biographies      clear_enough  \n",
              "1                man  artificial intelligence  not_clear_enough  \n",
              "2         non-binary              biographies      clear_enough  \n",
              "3         non-binary              programming      clear_enough  \n",
              "4                man              biographies  not_clear_enough  "
            ],
            "text/html": [
              "\n",
              "  <div id=\"df-cc4909ef-6d22-4164-9f28-149593b1fb78\" class=\"colab-df-container\">\n",
              "    <div>\n",
              "<style scoped>\n",
              "    .dataframe tbody tr th:only-of-type {\n",
              "        vertical-align: middle;\n",
              "    }\n",
              "\n",
              "    .dataframe tbody tr th {\n",
              "        vertical-align: top;\n",
              "    }\n",
              "\n",
              "    .dataframe thead th {\n",
              "        text-align: right;\n",
              "    }\n",
              "</style>\n",
              "<table border=\"1\" class=\"dataframe\">\n",
              "  <thead>\n",
              "    <tr style=\"text-align: right;\">\n",
              "      <th></th>\n",
              "      <th>par_id</th>\n",
              "      <th>paragraph</th>\n",
              "      <th>has_entity</th>\n",
              "      <th>lexicon_count</th>\n",
              "      <th>difficult_words</th>\n",
              "      <th>last_editor_gender</th>\n",
              "      <th>category</th>\n",
              "      <th>text_clarity</th>\n",
              "    </tr>\n",
              "  </thead>\n",
              "  <tbody>\n",
              "    <tr>\n",
              "      <th>0</th>\n",
              "      <td>428209002237</td>\n",
              "      <td>Ramsay was born in Glasgow on 2 October 1852. ...</td>\n",
              "      <td>ORGYESPRODUCTNOPERSONYES</td>\n",
              "      <td>49</td>\n",
              "      <td>12.0</td>\n",
              "      <td>man</td>\n",
              "      <td>biographies</td>\n",
              "      <td>clear_enough</td>\n",
              "    </tr>\n",
              "    <tr>\n",
              "      <th>1</th>\n",
              "      <td>564218010072</td>\n",
              "      <td>It has been widely estimated for at least the ...</td>\n",
              "      <td>ORGYESPRODUCTNOPERSONNO</td>\n",
              "      <td>166</td>\n",
              "      <td>47.0</td>\n",
              "      <td>man</td>\n",
              "      <td>artificial intelligence</td>\n",
              "      <td>not_clear_enough</td>\n",
              "    </tr>\n",
              "    <tr>\n",
              "      <th>2</th>\n",
              "      <td>291401001672</td>\n",
              "      <td>He went on to win the Royal Medal of the Royal...</td>\n",
              "      <td>ORGYESPRODUCTNOPERSONNO</td>\n",
              "      <td>69</td>\n",
              "      <td>18.0</td>\n",
              "      <td>non-binary</td>\n",
              "      <td>biographies</td>\n",
              "      <td>clear_enough</td>\n",
              "    </tr>\n",
              "    <tr>\n",
              "      <th>3</th>\n",
              "      <td>31548004883</td>\n",
              "      <td>The changes have altered many underlying assum...</td>\n",
              "      <td>ORGNOPRODUCTYESPERSONNO</td>\n",
              "      <td>76</td>\n",
              "      <td>27.0</td>\n",
              "      <td>non-binary</td>\n",
              "      <td>programming</td>\n",
              "      <td>clear_enough</td>\n",
              "    </tr>\n",
              "    <tr>\n",
              "      <th>4</th>\n",
              "      <td>50634005146</td>\n",
              "      <td>After these novels were published, Disraeli de...</td>\n",
              "      <td>ORGYESPRODUCTYESPERSONYES</td>\n",
              "      <td>200</td>\n",
              "      <td>47.0</td>\n",
              "      <td>man</td>\n",
              "      <td>biographies</td>\n",
              "      <td>not_clear_enough</td>\n",
              "    </tr>\n",
              "  </tbody>\n",
              "</table>\n",
              "</div>\n",
              "    <div class=\"colab-df-buttons\">\n",
              "\n",
              "  <div class=\"colab-df-container\">\n",
              "    <button class=\"colab-df-convert\" onclick=\"convertToInteractive('df-cc4909ef-6d22-4164-9f28-149593b1fb78')\"\n",
              "            title=\"Convert this dataframe to an interactive table.\"\n",
              "            style=\"display:none;\">\n",
              "\n",
              "  <svg xmlns=\"http://www.w3.org/2000/svg\" height=\"24px\" viewBox=\"0 -960 960 960\">\n",
              "    <path d=\"M120-120v-720h720v720H120Zm60-500h600v-160H180v160Zm220 220h160v-160H400v160Zm0 220h160v-160H400v160ZM180-400h160v-160H180v160Zm440 0h160v-160H620v160ZM180-180h160v-160H180v160Zm440 0h160v-160H620v160Z\"/>\n",
              "  </svg>\n",
              "    </button>\n",
              "\n",
              "  <style>\n",
              "    .colab-df-container {\n",
              "      display:flex;\n",
              "      gap: 12px;\n",
              "    }\n",
              "\n",
              "    .colab-df-convert {\n",
              "      background-color: #E8F0FE;\n",
              "      border: none;\n",
              "      border-radius: 50%;\n",
              "      cursor: pointer;\n",
              "      display: none;\n",
              "      fill: #1967D2;\n",
              "      height: 32px;\n",
              "      padding: 0 0 0 0;\n",
              "      width: 32px;\n",
              "    }\n",
              "\n",
              "    .colab-df-convert:hover {\n",
              "      background-color: #E2EBFA;\n",
              "      box-shadow: 0px 1px 2px rgba(60, 64, 67, 0.3), 0px 1px 3px 1px rgba(60, 64, 67, 0.15);\n",
              "      fill: #174EA6;\n",
              "    }\n",
              "\n",
              "    .colab-df-buttons div {\n",
              "      margin-bottom: 4px;\n",
              "    }\n",
              "\n",
              "    [theme=dark] .colab-df-convert {\n",
              "      background-color: #3B4455;\n",
              "      fill: #D2E3FC;\n",
              "    }\n",
              "\n",
              "    [theme=dark] .colab-df-convert:hover {\n",
              "      background-color: #434B5C;\n",
              "      box-shadow: 0px 1px 3px 1px rgba(0, 0, 0, 0.15);\n",
              "      filter: drop-shadow(0px 1px 2px rgba(0, 0, 0, 0.3));\n",
              "      fill: #FFFFFF;\n",
              "    }\n",
              "  </style>\n",
              "\n",
              "    <script>\n",
              "      const buttonEl =\n",
              "        document.querySelector('#df-cc4909ef-6d22-4164-9f28-149593b1fb78 button.colab-df-convert');\n",
              "      buttonEl.style.display =\n",
              "        google.colab.kernel.accessAllowed ? 'block' : 'none';\n",
              "\n",
              "      async function convertToInteractive(key) {\n",
              "        const element = document.querySelector('#df-cc4909ef-6d22-4164-9f28-149593b1fb78');\n",
              "        const dataTable =\n",
              "          await google.colab.kernel.invokeFunction('convertToInteractive',\n",
              "                                                    [key], {});\n",
              "        if (!dataTable) return;\n",
              "\n",
              "        const docLinkHtml = 'Like what you see? Visit the ' +\n",
              "          '<a target=\"_blank\" href=https://colab.research.google.com/notebooks/data_table.ipynb>data table notebook</a>'\n",
              "          + ' to learn more about interactive tables.';\n",
              "        element.innerHTML = '';\n",
              "        dataTable['output_type'] = 'display_data';\n",
              "        await google.colab.output.renderOutput(dataTable, element);\n",
              "        const docLink = document.createElement('div');\n",
              "        docLink.innerHTML = docLinkHtml;\n",
              "        element.appendChild(docLink);\n",
              "      }\n",
              "    </script>\n",
              "  </div>\n",
              "\n",
              "\n",
              "<div id=\"df-a9c051f9-6712-4532-8f18-943d8b3d2e9d\">\n",
              "  <button class=\"colab-df-quickchart\" onclick=\"quickchart('df-a9c051f9-6712-4532-8f18-943d8b3d2e9d')\"\n",
              "            title=\"Suggest charts\"\n",
              "            style=\"display:none;\">\n",
              "\n",
              "<svg xmlns=\"http://www.w3.org/2000/svg\" height=\"24px\"viewBox=\"0 0 24 24\"\n",
              "     width=\"24px\">\n",
              "    <g>\n",
              "        <path d=\"M19 3H5c-1.1 0-2 .9-2 2v14c0 1.1.9 2 2 2h14c1.1 0 2-.9 2-2V5c0-1.1-.9-2-2-2zM9 17H7v-7h2v7zm4 0h-2V7h2v10zm4 0h-2v-4h2v4z\"/>\n",
              "    </g>\n",
              "</svg>\n",
              "  </button>\n",
              "\n",
              "<style>\n",
              "  .colab-df-quickchart {\n",
              "      --bg-color: #E8F0FE;\n",
              "      --fill-color: #1967D2;\n",
              "      --hover-bg-color: #E2EBFA;\n",
              "      --hover-fill-color: #174EA6;\n",
              "      --disabled-fill-color: #AAA;\n",
              "      --disabled-bg-color: #DDD;\n",
              "  }\n",
              "\n",
              "  [theme=dark] .colab-df-quickchart {\n",
              "      --bg-color: #3B4455;\n",
              "      --fill-color: #D2E3FC;\n",
              "      --hover-bg-color: #434B5C;\n",
              "      --hover-fill-color: #FFFFFF;\n",
              "      --disabled-bg-color: #3B4455;\n",
              "      --disabled-fill-color: #666;\n",
              "  }\n",
              "\n",
              "  .colab-df-quickchart {\n",
              "    background-color: var(--bg-color);\n",
              "    border: none;\n",
              "    border-radius: 50%;\n",
              "    cursor: pointer;\n",
              "    display: none;\n",
              "    fill: var(--fill-color);\n",
              "    height: 32px;\n",
              "    padding: 0;\n",
              "    width: 32px;\n",
              "  }\n",
              "\n",
              "  .colab-df-quickchart:hover {\n",
              "    background-color: var(--hover-bg-color);\n",
              "    box-shadow: 0 1px 2px rgba(60, 64, 67, 0.3), 0 1px 3px 1px rgba(60, 64, 67, 0.15);\n",
              "    fill: var(--button-hover-fill-color);\n",
              "  }\n",
              "\n",
              "  .colab-df-quickchart-complete:disabled,\n",
              "  .colab-df-quickchart-complete:disabled:hover {\n",
              "    background-color: var(--disabled-bg-color);\n",
              "    fill: var(--disabled-fill-color);\n",
              "    box-shadow: none;\n",
              "  }\n",
              "\n",
              "  .colab-df-spinner {\n",
              "    border: 2px solid var(--fill-color);\n",
              "    border-color: transparent;\n",
              "    border-bottom-color: var(--fill-color);\n",
              "    animation:\n",
              "      spin 1s steps(1) infinite;\n",
              "  }\n",
              "\n",
              "  @keyframes spin {\n",
              "    0% {\n",
              "      border-color: transparent;\n",
              "      border-bottom-color: var(--fill-color);\n",
              "      border-left-color: var(--fill-color);\n",
              "    }\n",
              "    20% {\n",
              "      border-color: transparent;\n",
              "      border-left-color: var(--fill-color);\n",
              "      border-top-color: var(--fill-color);\n",
              "    }\n",
              "    30% {\n",
              "      border-color: transparent;\n",
              "      border-left-color: var(--fill-color);\n",
              "      border-top-color: var(--fill-color);\n",
              "      border-right-color: var(--fill-color);\n",
              "    }\n",
              "    40% {\n",
              "      border-color: transparent;\n",
              "      border-right-color: var(--fill-color);\n",
              "      border-top-color: var(--fill-color);\n",
              "    }\n",
              "    60% {\n",
              "      border-color: transparent;\n",
              "      border-right-color: var(--fill-color);\n",
              "    }\n",
              "    80% {\n",
              "      border-color: transparent;\n",
              "      border-right-color: var(--fill-color);\n",
              "      border-bottom-color: var(--fill-color);\n",
              "    }\n",
              "    90% {\n",
              "      border-color: transparent;\n",
              "      border-bottom-color: var(--fill-color);\n",
              "    }\n",
              "  }\n",
              "</style>\n",
              "\n",
              "  <script>\n",
              "    async function quickchart(key) {\n",
              "      const quickchartButtonEl =\n",
              "        document.querySelector('#' + key + ' button');\n",
              "      quickchartButtonEl.disabled = true;  // To prevent multiple clicks.\n",
              "      quickchartButtonEl.classList.add('colab-df-spinner');\n",
              "      try {\n",
              "        const charts = await google.colab.kernel.invokeFunction(\n",
              "            'suggestCharts', [key], {});\n",
              "      } catch (error) {\n",
              "        console.error('Error during call to suggestCharts:', error);\n",
              "      }\n",
              "      quickchartButtonEl.classList.remove('colab-df-spinner');\n",
              "      quickchartButtonEl.classList.add('colab-df-quickchart-complete');\n",
              "    }\n",
              "    (() => {\n",
              "      let quickchartButtonEl =\n",
              "        document.querySelector('#df-a9c051f9-6712-4532-8f18-943d8b3d2e9d button');\n",
              "      quickchartButtonEl.style.display =\n",
              "        google.colab.kernel.accessAllowed ? 'block' : 'none';\n",
              "    })();\n",
              "  </script>\n",
              "</div>\n",
              "    </div>\n",
              "  </div>\n"
            ],
            "application/vnd.google.colaboratory.intrinsic+json": {
              "type": "dataframe",
              "variable_name": "data",
              "summary": "{\n  \"name\": \"data\",\n  \"rows\": 9090,\n  \"fields\": [\n    {\n      \"column\": \"par_id\",\n      \"properties\": {\n        \"dtype\": \"number\",\n        \"std\": 322089054838,\n        \"min\": 85003276,\n        \"max\": 1058779003275,\n        \"num_unique_values\": 9090,\n        \"samples\": [\n          998224012597,\n          985985112495,\n          590003367\n        ],\n        \"semantic_type\": \"\",\n        \"description\": \"\"\n      }\n    },\n    {\n      \"column\": \"paragraph\",\n      \"properties\": {\n        \"dtype\": \"string\",\n        \"num_unique_values\": 8950,\n        \"samples\": [\n          \"it includes in its comprehension an affirmative recognition of the existing state of things, at the same time, also, the recognition of the negation of that state, of its inevitable breaking up; because it regards every historically developed social form as in fluid movement, and therefore takes into account its transient nature not less than its momentary existence; because it lets nothing impose upon it, and is in its essence critical and revolutionary.\",\n          \" He visited many places around the globe on extensive travel tours starting from 1908 with a trip to Australia and New Zealand which he visited again in 1938\\u20131939.Aston was a skilled photographer and interested in astronomy. He joined several expeditions to study solar eclipses in Benkoeben in 1925, Sumatra in 1932, Magog in Canada on 31 August 1932 and Kamishari Hokkaido, Japan on June19th 1936. He also planned to attend expeditions to South Africa in 1940 and Brazil in 1945 in later life. He never married.\",\n          \"In 1934, at the age of 24, Dorothy began experiencing pain in her hands causing them to become swollen and distorted. She was diagnosed with rheumatoid arthritis, and went to a clinic in Buxton for thermal baths and gold treatments. After some treatment, Hodgkin returned to the lab, where she struggled to use the main switch on the x-ray equipment due to the condition of her hands. She had to create a lever on her own in order to utilize the switch. Her condition would become progressively worse and crippling over time, with deformities in both her hands and feet, and prolonged periods of pain. While Hodgkin spent a great deal of time in a wheelchair in her later years, she remained scientifically active in her career.\"\n        ],\n        \"semantic_type\": \"\",\n        \"description\": \"\"\n      }\n    },\n    {\n      \"column\": \"has_entity\",\n      \"properties\": {\n        \"dtype\": \"category\",\n        \"num_unique_values\": 8,\n        \"samples\": [\n          \"ORGYESPRODUCTNOPERSONNO\",\n          \"ORGNOPRODUCTYESPERSONYES\",\n          \"ORGYESPRODUCTNOPERSONYES\"\n        ],\n        \"semantic_type\": \"\",\n        \"description\": \"\"\n      }\n    },\n    {\n      \"column\": \"lexicon_count\",\n      \"properties\": {\n        \"dtype\": \"number\",\n        \"std\": 63,\n        \"min\": 0,\n        \"max\": 653,\n        \"num_unique_values\": 348,\n        \"samples\": [\n          237,\n          82,\n          274\n        ],\n        \"semantic_type\": \"\",\n        \"description\": \"\"\n      }\n    },\n    {\n      \"column\": \"difficult_words\",\n      \"properties\": {\n        \"dtype\": \"number\",\n        \"std\": 16.318532255802314,\n        \"min\": 0.0,\n        \"max\": 143.0,\n        \"num_unique_values\": 113,\n        \"samples\": [\n          96.0,\n          36.0,\n          15.0\n        ],\n        \"semantic_type\": \"\",\n        \"description\": \"\"\n      }\n    },\n    {\n      \"column\": \"last_editor_gender\",\n      \"properties\": {\n        \"dtype\": \"category\",\n        \"num_unique_values\": 4,\n        \"samples\": [\n          \"non-binary\",\n          \"prefer_not_to_say\",\n          \"man\"\n        ],\n        \"semantic_type\": \"\",\n        \"description\": \"\"\n      }\n    },\n    {\n      \"column\": \"category\",\n      \"properties\": {\n        \"dtype\": \"category\",\n        \"num_unique_values\": 5,\n        \"samples\": [\n          \"artificial intelligence\",\n          \"movies about artificial intelligence\",\n          \"programming\"\n        ],\n        \"semantic_type\": \"\",\n        \"description\": \"\"\n      }\n    },\n    {\n      \"column\": \"text_clarity\",\n      \"properties\": {\n        \"dtype\": \"category\",\n        \"num_unique_values\": 2,\n        \"samples\": [\n          \"not_clear_enough\",\n          \"clear_enough\"\n        ],\n        \"semantic_type\": \"\",\n        \"description\": \"\"\n      }\n    }\n  ]\n}"
            }
          },
          "metadata": {},
          "execution_count": 118
        }
      ],
      "source": [
        "data.head()"
      ]
    },
    {
      "cell_type": "markdown",
      "metadata": {
        "id": "FHBNIqzUhOT_"
      },
      "source": [
        "## Creating new dataset for second task"
      ]
    },
    {
      "cell_type": "code",
      "execution_count": null,
      "metadata": {
        "id": "IANqX4Lzj5rq"
      },
      "outputs": [],
      "source": [
        "task2_data = data.copy()"
      ]
    },
    {
      "cell_type": "code",
      "execution_count": null,
      "metadata": {
        "colab": {
          "base_uri": "https://localhost:8080/",
          "height": 660
        },
        "id": "1LKMAlDXkI_L",
        "outputId": "00bfda89-4160-48c9-83f8-2cc82e28337c"
      },
      "outputs": [
        {
          "output_type": "execute_result",
          "data": {
            "text/plain": [
              "         par_id                                          paragraph  \\\n",
              "0  428209002237  Ramsay was born in Glasgow on 2 October 1852. ...   \n",
              "1  564218010072  It has been widely estimated for at least the ...   \n",
              "2  291401001672  He went on to win the Royal Medal of the Royal...   \n",
              "3   31548004883  The changes have altered many underlying assum...   \n",
              "4   50634005146  After these novels were published, Disraeli de...   \n",
              "\n",
              "                  has_entity  lexicon_count  difficult_words  \\\n",
              "0   ORGYESPRODUCTNOPERSONYES             49             12.0   \n",
              "1    ORGYESPRODUCTNOPERSONNO            166             47.0   \n",
              "2    ORGYESPRODUCTNOPERSONNO             69             18.0   \n",
              "3    ORGNOPRODUCTYESPERSONNO             76             27.0   \n",
              "4  ORGYESPRODUCTYESPERSONYES            200             47.0   \n",
              "\n",
              "  last_editor_gender                 category      text_clarity  \n",
              "0                man              biographies      clear_enough  \n",
              "1                man  artificial intelligence  not_clear_enough  \n",
              "2         non-binary              biographies      clear_enough  \n",
              "3         non-binary              programming      clear_enough  \n",
              "4                man              biographies  not_clear_enough  "
            ],
            "text/html": [
              "\n",
              "  <div id=\"df-6e819330-dc39-47b6-a20a-832b94a0b00b\" class=\"colab-df-container\">\n",
              "    <div>\n",
              "<style scoped>\n",
              "    .dataframe tbody tr th:only-of-type {\n",
              "        vertical-align: middle;\n",
              "    }\n",
              "\n",
              "    .dataframe tbody tr th {\n",
              "        vertical-align: top;\n",
              "    }\n",
              "\n",
              "    .dataframe thead th {\n",
              "        text-align: right;\n",
              "    }\n",
              "</style>\n",
              "<table border=\"1\" class=\"dataframe\">\n",
              "  <thead>\n",
              "    <tr style=\"text-align: right;\">\n",
              "      <th></th>\n",
              "      <th>par_id</th>\n",
              "      <th>paragraph</th>\n",
              "      <th>has_entity</th>\n",
              "      <th>lexicon_count</th>\n",
              "      <th>difficult_words</th>\n",
              "      <th>last_editor_gender</th>\n",
              "      <th>category</th>\n",
              "      <th>text_clarity</th>\n",
              "    </tr>\n",
              "  </thead>\n",
              "  <tbody>\n",
              "    <tr>\n",
              "      <th>0</th>\n",
              "      <td>428209002237</td>\n",
              "      <td>Ramsay was born in Glasgow on 2 October 1852. ...</td>\n",
              "      <td>ORGYESPRODUCTNOPERSONYES</td>\n",
              "      <td>49</td>\n",
              "      <td>12.0</td>\n",
              "      <td>man</td>\n",
              "      <td>biographies</td>\n",
              "      <td>clear_enough</td>\n",
              "    </tr>\n",
              "    <tr>\n",
              "      <th>1</th>\n",
              "      <td>564218010072</td>\n",
              "      <td>It has been widely estimated for at least the ...</td>\n",
              "      <td>ORGYESPRODUCTNOPERSONNO</td>\n",
              "      <td>166</td>\n",
              "      <td>47.0</td>\n",
              "      <td>man</td>\n",
              "      <td>artificial intelligence</td>\n",
              "      <td>not_clear_enough</td>\n",
              "    </tr>\n",
              "    <tr>\n",
              "      <th>2</th>\n",
              "      <td>291401001672</td>\n",
              "      <td>He went on to win the Royal Medal of the Royal...</td>\n",
              "      <td>ORGYESPRODUCTNOPERSONNO</td>\n",
              "      <td>69</td>\n",
              "      <td>18.0</td>\n",
              "      <td>non-binary</td>\n",
              "      <td>biographies</td>\n",
              "      <td>clear_enough</td>\n",
              "    </tr>\n",
              "    <tr>\n",
              "      <th>3</th>\n",
              "      <td>31548004883</td>\n",
              "      <td>The changes have altered many underlying assum...</td>\n",
              "      <td>ORGNOPRODUCTYESPERSONNO</td>\n",
              "      <td>76</td>\n",
              "      <td>27.0</td>\n",
              "      <td>non-binary</td>\n",
              "      <td>programming</td>\n",
              "      <td>clear_enough</td>\n",
              "    </tr>\n",
              "    <tr>\n",
              "      <th>4</th>\n",
              "      <td>50634005146</td>\n",
              "      <td>After these novels were published, Disraeli de...</td>\n",
              "      <td>ORGYESPRODUCTYESPERSONYES</td>\n",
              "      <td>200</td>\n",
              "      <td>47.0</td>\n",
              "      <td>man</td>\n",
              "      <td>biographies</td>\n",
              "      <td>not_clear_enough</td>\n",
              "    </tr>\n",
              "  </tbody>\n",
              "</table>\n",
              "</div>\n",
              "    <div class=\"colab-df-buttons\">\n",
              "\n",
              "  <div class=\"colab-df-container\">\n",
              "    <button class=\"colab-df-convert\" onclick=\"convertToInteractive('df-6e819330-dc39-47b6-a20a-832b94a0b00b')\"\n",
              "            title=\"Convert this dataframe to an interactive table.\"\n",
              "            style=\"display:none;\">\n",
              "\n",
              "  <svg xmlns=\"http://www.w3.org/2000/svg\" height=\"24px\" viewBox=\"0 -960 960 960\">\n",
              "    <path d=\"M120-120v-720h720v720H120Zm60-500h600v-160H180v160Zm220 220h160v-160H400v160Zm0 220h160v-160H400v160ZM180-400h160v-160H180v160Zm440 0h160v-160H620v160ZM180-180h160v-160H180v160Zm440 0h160v-160H620v160Z\"/>\n",
              "  </svg>\n",
              "    </button>\n",
              "\n",
              "  <style>\n",
              "    .colab-df-container {\n",
              "      display:flex;\n",
              "      gap: 12px;\n",
              "    }\n",
              "\n",
              "    .colab-df-convert {\n",
              "      background-color: #E8F0FE;\n",
              "      border: none;\n",
              "      border-radius: 50%;\n",
              "      cursor: pointer;\n",
              "      display: none;\n",
              "      fill: #1967D2;\n",
              "      height: 32px;\n",
              "      padding: 0 0 0 0;\n",
              "      width: 32px;\n",
              "    }\n",
              "\n",
              "    .colab-df-convert:hover {\n",
              "      background-color: #E2EBFA;\n",
              "      box-shadow: 0px 1px 2px rgba(60, 64, 67, 0.3), 0px 1px 3px 1px rgba(60, 64, 67, 0.15);\n",
              "      fill: #174EA6;\n",
              "    }\n",
              "\n",
              "    .colab-df-buttons div {\n",
              "      margin-bottom: 4px;\n",
              "    }\n",
              "\n",
              "    [theme=dark] .colab-df-convert {\n",
              "      background-color: #3B4455;\n",
              "      fill: #D2E3FC;\n",
              "    }\n",
              "\n",
              "    [theme=dark] .colab-df-convert:hover {\n",
              "      background-color: #434B5C;\n",
              "      box-shadow: 0px 1px 3px 1px rgba(0, 0, 0, 0.15);\n",
              "      filter: drop-shadow(0px 1px 2px rgba(0, 0, 0, 0.3));\n",
              "      fill: #FFFFFF;\n",
              "    }\n",
              "  </style>\n",
              "\n",
              "    <script>\n",
              "      const buttonEl =\n",
              "        document.querySelector('#df-6e819330-dc39-47b6-a20a-832b94a0b00b button.colab-df-convert');\n",
              "      buttonEl.style.display =\n",
              "        google.colab.kernel.accessAllowed ? 'block' : 'none';\n",
              "\n",
              "      async function convertToInteractive(key) {\n",
              "        const element = document.querySelector('#df-6e819330-dc39-47b6-a20a-832b94a0b00b');\n",
              "        const dataTable =\n",
              "          await google.colab.kernel.invokeFunction('convertToInteractive',\n",
              "                                                    [key], {});\n",
              "        if (!dataTable) return;\n",
              "\n",
              "        const docLinkHtml = 'Like what you see? Visit the ' +\n",
              "          '<a target=\"_blank\" href=https://colab.research.google.com/notebooks/data_table.ipynb>data table notebook</a>'\n",
              "          + ' to learn more about interactive tables.';\n",
              "        element.innerHTML = '';\n",
              "        dataTable['output_type'] = 'display_data';\n",
              "        await google.colab.output.renderOutput(dataTable, element);\n",
              "        const docLink = document.createElement('div');\n",
              "        docLink.innerHTML = docLinkHtml;\n",
              "        element.appendChild(docLink);\n",
              "      }\n",
              "    </script>\n",
              "  </div>\n",
              "\n",
              "\n",
              "<div id=\"df-48723a73-365c-4c31-91b1-81b897187476\">\n",
              "  <button class=\"colab-df-quickchart\" onclick=\"quickchart('df-48723a73-365c-4c31-91b1-81b897187476')\"\n",
              "            title=\"Suggest charts\"\n",
              "            style=\"display:none;\">\n",
              "\n",
              "<svg xmlns=\"http://www.w3.org/2000/svg\" height=\"24px\"viewBox=\"0 0 24 24\"\n",
              "     width=\"24px\">\n",
              "    <g>\n",
              "        <path d=\"M19 3H5c-1.1 0-2 .9-2 2v14c0 1.1.9 2 2 2h14c1.1 0 2-.9 2-2V5c0-1.1-.9-2-2-2zM9 17H7v-7h2v7zm4 0h-2V7h2v10zm4 0h-2v-4h2v4z\"/>\n",
              "    </g>\n",
              "</svg>\n",
              "  </button>\n",
              "\n",
              "<style>\n",
              "  .colab-df-quickchart {\n",
              "      --bg-color: #E8F0FE;\n",
              "      --fill-color: #1967D2;\n",
              "      --hover-bg-color: #E2EBFA;\n",
              "      --hover-fill-color: #174EA6;\n",
              "      --disabled-fill-color: #AAA;\n",
              "      --disabled-bg-color: #DDD;\n",
              "  }\n",
              "\n",
              "  [theme=dark] .colab-df-quickchart {\n",
              "      --bg-color: #3B4455;\n",
              "      --fill-color: #D2E3FC;\n",
              "      --hover-bg-color: #434B5C;\n",
              "      --hover-fill-color: #FFFFFF;\n",
              "      --disabled-bg-color: #3B4455;\n",
              "      --disabled-fill-color: #666;\n",
              "  }\n",
              "\n",
              "  .colab-df-quickchart {\n",
              "    background-color: var(--bg-color);\n",
              "    border: none;\n",
              "    border-radius: 50%;\n",
              "    cursor: pointer;\n",
              "    display: none;\n",
              "    fill: var(--fill-color);\n",
              "    height: 32px;\n",
              "    padding: 0;\n",
              "    width: 32px;\n",
              "  }\n",
              "\n",
              "  .colab-df-quickchart:hover {\n",
              "    background-color: var(--hover-bg-color);\n",
              "    box-shadow: 0 1px 2px rgba(60, 64, 67, 0.3), 0 1px 3px 1px rgba(60, 64, 67, 0.15);\n",
              "    fill: var(--button-hover-fill-color);\n",
              "  }\n",
              "\n",
              "  .colab-df-quickchart-complete:disabled,\n",
              "  .colab-df-quickchart-complete:disabled:hover {\n",
              "    background-color: var(--disabled-bg-color);\n",
              "    fill: var(--disabled-fill-color);\n",
              "    box-shadow: none;\n",
              "  }\n",
              "\n",
              "  .colab-df-spinner {\n",
              "    border: 2px solid var(--fill-color);\n",
              "    border-color: transparent;\n",
              "    border-bottom-color: var(--fill-color);\n",
              "    animation:\n",
              "      spin 1s steps(1) infinite;\n",
              "  }\n",
              "\n",
              "  @keyframes spin {\n",
              "    0% {\n",
              "      border-color: transparent;\n",
              "      border-bottom-color: var(--fill-color);\n",
              "      border-left-color: var(--fill-color);\n",
              "    }\n",
              "    20% {\n",
              "      border-color: transparent;\n",
              "      border-left-color: var(--fill-color);\n",
              "      border-top-color: var(--fill-color);\n",
              "    }\n",
              "    30% {\n",
              "      border-color: transparent;\n",
              "      border-left-color: var(--fill-color);\n",
              "      border-top-color: var(--fill-color);\n",
              "      border-right-color: var(--fill-color);\n",
              "    }\n",
              "    40% {\n",
              "      border-color: transparent;\n",
              "      border-right-color: var(--fill-color);\n",
              "      border-top-color: var(--fill-color);\n",
              "    }\n",
              "    60% {\n",
              "      border-color: transparent;\n",
              "      border-right-color: var(--fill-color);\n",
              "    }\n",
              "    80% {\n",
              "      border-color: transparent;\n",
              "      border-right-color: var(--fill-color);\n",
              "      border-bottom-color: var(--fill-color);\n",
              "    }\n",
              "    90% {\n",
              "      border-color: transparent;\n",
              "      border-bottom-color: var(--fill-color);\n",
              "    }\n",
              "  }\n",
              "</style>\n",
              "\n",
              "  <script>\n",
              "    async function quickchart(key) {\n",
              "      const quickchartButtonEl =\n",
              "        document.querySelector('#' + key + ' button');\n",
              "      quickchartButtonEl.disabled = true;  // To prevent multiple clicks.\n",
              "      quickchartButtonEl.classList.add('colab-df-spinner');\n",
              "      try {\n",
              "        const charts = await google.colab.kernel.invokeFunction(\n",
              "            'suggestCharts', [key], {});\n",
              "      } catch (error) {\n",
              "        console.error('Error during call to suggestCharts:', error);\n",
              "      }\n",
              "      quickchartButtonEl.classList.remove('colab-df-spinner');\n",
              "      quickchartButtonEl.classList.add('colab-df-quickchart-complete');\n",
              "    }\n",
              "    (() => {\n",
              "      let quickchartButtonEl =\n",
              "        document.querySelector('#df-48723a73-365c-4c31-91b1-81b897187476 button');\n",
              "      quickchartButtonEl.style.display =\n",
              "        google.colab.kernel.accessAllowed ? 'block' : 'none';\n",
              "    })();\n",
              "  </script>\n",
              "</div>\n",
              "    </div>\n",
              "  </div>\n"
            ],
            "application/vnd.google.colaboratory.intrinsic+json": {
              "type": "dataframe",
              "variable_name": "task2_data",
              "summary": "{\n  \"name\": \"task2_data\",\n  \"rows\": 9090,\n  \"fields\": [\n    {\n      \"column\": \"par_id\",\n      \"properties\": {\n        \"dtype\": \"number\",\n        \"std\": 322089054838,\n        \"min\": 85003276,\n        \"max\": 1058779003275,\n        \"num_unique_values\": 9090,\n        \"samples\": [\n          998224012597,\n          985985112495,\n          590003367\n        ],\n        \"semantic_type\": \"\",\n        \"description\": \"\"\n      }\n    },\n    {\n      \"column\": \"paragraph\",\n      \"properties\": {\n        \"dtype\": \"string\",\n        \"num_unique_values\": 8950,\n        \"samples\": [\n          \"it includes in its comprehension an affirmative recognition of the existing state of things, at the same time, also, the recognition of the negation of that state, of its inevitable breaking up; because it regards every historically developed social form as in fluid movement, and therefore takes into account its transient nature not less than its momentary existence; because it lets nothing impose upon it, and is in its essence critical and revolutionary.\",\n          \" He visited many places around the globe on extensive travel tours starting from 1908 with a trip to Australia and New Zealand which he visited again in 1938\\u20131939.Aston was a skilled photographer and interested in astronomy. He joined several expeditions to study solar eclipses in Benkoeben in 1925, Sumatra in 1932, Magog in Canada on 31 August 1932 and Kamishari Hokkaido, Japan on June19th 1936. He also planned to attend expeditions to South Africa in 1940 and Brazil in 1945 in later life. He never married.\",\n          \"In 1934, at the age of 24, Dorothy began experiencing pain in her hands causing them to become swollen and distorted. She was diagnosed with rheumatoid arthritis, and went to a clinic in Buxton for thermal baths and gold treatments. After some treatment, Hodgkin returned to the lab, where she struggled to use the main switch on the x-ray equipment due to the condition of her hands. She had to create a lever on her own in order to utilize the switch. Her condition would become progressively worse and crippling over time, with deformities in both her hands and feet, and prolonged periods of pain. While Hodgkin spent a great deal of time in a wheelchair in her later years, she remained scientifically active in her career.\"\n        ],\n        \"semantic_type\": \"\",\n        \"description\": \"\"\n      }\n    },\n    {\n      \"column\": \"has_entity\",\n      \"properties\": {\n        \"dtype\": \"category\",\n        \"num_unique_values\": 8,\n        \"samples\": [\n          \"ORGYESPRODUCTNOPERSONNO\",\n          \"ORGNOPRODUCTYESPERSONYES\",\n          \"ORGYESPRODUCTNOPERSONYES\"\n        ],\n        \"semantic_type\": \"\",\n        \"description\": \"\"\n      }\n    },\n    {\n      \"column\": \"lexicon_count\",\n      \"properties\": {\n        \"dtype\": \"number\",\n        \"std\": 63,\n        \"min\": 0,\n        \"max\": 653,\n        \"num_unique_values\": 348,\n        \"samples\": [\n          237,\n          82,\n          274\n        ],\n        \"semantic_type\": \"\",\n        \"description\": \"\"\n      }\n    },\n    {\n      \"column\": \"difficult_words\",\n      \"properties\": {\n        \"dtype\": \"number\",\n        \"std\": 16.318532255802314,\n        \"min\": 0.0,\n        \"max\": 143.0,\n        \"num_unique_values\": 113,\n        \"samples\": [\n          96.0,\n          36.0,\n          15.0\n        ],\n        \"semantic_type\": \"\",\n        \"description\": \"\"\n      }\n    },\n    {\n      \"column\": \"last_editor_gender\",\n      \"properties\": {\n        \"dtype\": \"category\",\n        \"num_unique_values\": 4,\n        \"samples\": [\n          \"non-binary\",\n          \"prefer_not_to_say\",\n          \"man\"\n        ],\n        \"semantic_type\": \"\",\n        \"description\": \"\"\n      }\n    },\n    {\n      \"column\": \"category\",\n      \"properties\": {\n        \"dtype\": \"category\",\n        \"num_unique_values\": 5,\n        \"samples\": [\n          \"artificial intelligence\",\n          \"movies about artificial intelligence\",\n          \"programming\"\n        ],\n        \"semantic_type\": \"\",\n        \"description\": \"\"\n      }\n    },\n    {\n      \"column\": \"text_clarity\",\n      \"properties\": {\n        \"dtype\": \"category\",\n        \"num_unique_values\": 2,\n        \"samples\": [\n          \"not_clear_enough\",\n          \"clear_enough\"\n        ],\n        \"semantic_type\": \"\",\n        \"description\": \"\"\n      }\n    }\n  ]\n}"
            }
          },
          "metadata": {},
          "execution_count": 120
        }
      ],
      "source": [
        "task2_data.head()"
      ]
    },
    {
      "cell_type": "code",
      "execution_count": null,
      "metadata": {
        "colab": {
          "base_uri": "https://localhost:8080/"
        },
        "id": "4Ar7OKJYlUEj",
        "outputId": "a694f124-9ffb-48d2-e1fa-d1a81708e141"
      },
      "outputs": [
        {
          "output_type": "execute_result",
          "data": {
            "text/plain": [
              "Index(['par_id', 'paragraph', 'has_entity', 'lexicon_count', 'difficult_words',\n",
              "       'last_editor_gender', 'category', 'text_clarity'],\n",
              "      dtype='object')"
            ]
          },
          "metadata": {},
          "execution_count": 121
        }
      ],
      "source": [
        "task2_data.columns"
      ]
    },
    {
      "cell_type": "markdown",
      "metadata": {
        "id": "66zyW_pbhXf1"
      },
      "source": [
        "Some preprocessing for gender column on the way...\n",
        "\n",
        "Replacing the 'non-binary' and 'prefer_not_to_say' values into a single other category."
      ]
    },
    {
      "cell_type": "code",
      "execution_count": null,
      "metadata": {
        "colab": {
          "base_uri": "https://localhost:8080/"
        },
        "id": "X5k967bHmFFN",
        "outputId": "34e569b4-5e6d-464a-dd79-b448eed35089"
      },
      "outputs": [
        {
          "output_type": "execute_result",
          "data": {
            "text/plain": [
              "man                  6075\n",
              "woman                2399\n",
              "non-binary            351\n",
              "prefer_not_to_say     265\n",
              "Name: last_editor_gender, dtype: int64"
            ]
          },
          "metadata": {},
          "execution_count": 122
        }
      ],
      "source": [
        "task2_data['last_editor_gender'].value_counts()"
      ]
    },
    {
      "cell_type": "code",
      "execution_count": null,
      "metadata": {
        "colab": {
          "base_uri": "https://localhost:8080/"
        },
        "id": "hPYMhA52lJzq",
        "outputId": "89ff35e1-40da-4b26-8f6c-3812aa41e650"
      },
      "outputs": [
        {
          "output_type": "stream",
          "name": "stdout",
          "text": [
            "man      6075\n",
            "woman    2399\n",
            "other     616\n",
            "Name: last_editor_gender, dtype: int64\n"
          ]
        }
      ],
      "source": [
        "\n",
        "task2_data['last_editor_gender'] = task2_data['last_editor_gender'].replace({\n",
        "    'non-binary': 'other', 'prefer_not_to_say': 'other'})\n",
        "\n",
        "print(task2_data['last_editor_gender'].value_counts())"
      ]
    },
    {
      "cell_type": "code",
      "execution_count": null,
      "metadata": {
        "colab": {
          "base_uri": "https://localhost:8080/",
          "height": 204
        },
        "id": "ZWAeJbTZpl9b",
        "outputId": "d3ab8ed0-5fb1-40c2-8729-28a1fb11159c"
      },
      "outputs": [
        {
          "output_type": "execute_result",
          "data": {
            "text/plain": [
              "pandas.core.frame.DataFrame"
            ],
            "text/html": [
              "<div style=\"max-width:800px; border: 1px solid var(--colab-border-color);\"><style>\n",
              "      pre.function-repr-contents {\n",
              "        overflow-x: auto;\n",
              "        padding: 8px 12px;\n",
              "        max-height: 500px;\n",
              "      }\n",
              "\n",
              "      pre.function-repr-contents.function-repr-contents-collapsed {\n",
              "        cursor: pointer;\n",
              "        max-height: 100px;\n",
              "      }\n",
              "    </style>\n",
              "    <pre style=\"white-space: initial; background:\n",
              "         var(--colab-secondary-surface-color); padding: 8px 12px;\n",
              "         border-bottom: 1px solid var(--colab-border-color);\"><b>pandas.core.frame.DataFrame</b><br/>def __init__(data=None, index: Axes | None=None, columns: Axes | None=None, dtype: Dtype | None=None, copy: bool | None=None) -&gt; None</pre><pre class=\"function-repr-contents function-repr-contents-collapsed\" style=\"\"><a class=\"filepath\" style=\"display:none\" href=\"#\">/usr/local/lib/python3.10/dist-packages/pandas/core/frame.py</a>Two-dimensional, size-mutable, potentially heterogeneous tabular data.\n",
              "\n",
              "Data structure also contains labeled axes (rows and columns).\n",
              "Arithmetic operations align on both row and column labels. Can be\n",
              "thought of as a dict-like container for Series objects. The primary\n",
              "pandas data structure.\n",
              "\n",
              "Parameters\n",
              "----------\n",
              "data : ndarray (structured or homogeneous), Iterable, dict, or DataFrame\n",
              "    Dict can contain Series, arrays, constants, dataclass or list-like objects. If\n",
              "    data is a dict, column order follows insertion-order. If a dict contains Series\n",
              "    which have an index defined, it is aligned by its index.\n",
              "\n",
              "    .. versionchanged:: 0.25.0\n",
              "       If data is a list of dicts, column order follows insertion-order.\n",
              "\n",
              "index : Index or array-like\n",
              "    Index to use for resulting frame. Will default to RangeIndex if\n",
              "    no indexing information part of input data and no index provided.\n",
              "columns : Index or array-like\n",
              "    Column labels to use for resulting frame when data does not have them,\n",
              "    defaulting to RangeIndex(0, 1, 2, ..., n). If data contains column labels,\n",
              "    will perform column selection instead.\n",
              "dtype : dtype, default None\n",
              "    Data type to force. Only a single dtype is allowed. If None, infer.\n",
              "copy : bool or None, default None\n",
              "    Copy data from inputs.\n",
              "    For dict data, the default of None behaves like ``copy=True``.  For DataFrame\n",
              "    or 2d ndarray input, the default of None behaves like ``copy=False``.\n",
              "    If data is a dict containing one or more Series (possibly of different dtypes),\n",
              "    ``copy=False`` will ensure that these inputs are not copied.\n",
              "\n",
              "    .. versionchanged:: 1.3.0\n",
              "\n",
              "See Also\n",
              "--------\n",
              "DataFrame.from_records : Constructor from tuples, also record arrays.\n",
              "DataFrame.from_dict : From dicts of Series, arrays, or dicts.\n",
              "read_csv : Read a comma-separated values (csv) file into DataFrame.\n",
              "read_table : Read general delimited file into DataFrame.\n",
              "read_clipboard : Read text from clipboard into DataFrame.\n",
              "\n",
              "Notes\n",
              "-----\n",
              "Please reference the :ref:`User Guide &lt;basics.dataframe&gt;` for more information.\n",
              "\n",
              "Examples\n",
              "--------\n",
              "Constructing DataFrame from a dictionary.\n",
              "\n",
              "&gt;&gt;&gt; d = {&#x27;col1&#x27;: [1, 2], &#x27;col2&#x27;: [3, 4]}\n",
              "&gt;&gt;&gt; df = pd.DataFrame(data=d)\n",
              "&gt;&gt;&gt; df\n",
              "   col1  col2\n",
              "0     1     3\n",
              "1     2     4\n",
              "\n",
              "Notice that the inferred dtype is int64.\n",
              "\n",
              "&gt;&gt;&gt; df.dtypes\n",
              "col1    int64\n",
              "col2    int64\n",
              "dtype: object\n",
              "\n",
              "To enforce a single dtype:\n",
              "\n",
              "&gt;&gt;&gt; df = pd.DataFrame(data=d, dtype=np.int8)\n",
              "&gt;&gt;&gt; df.dtypes\n",
              "col1    int8\n",
              "col2    int8\n",
              "dtype: object\n",
              "\n",
              "Constructing DataFrame from a dictionary including Series:\n",
              "\n",
              "&gt;&gt;&gt; d = {&#x27;col1&#x27;: [0, 1, 2, 3], &#x27;col2&#x27;: pd.Series([2, 3], index=[2, 3])}\n",
              "&gt;&gt;&gt; pd.DataFrame(data=d, index=[0, 1, 2, 3])\n",
              "   col1  col2\n",
              "0     0   NaN\n",
              "1     1   NaN\n",
              "2     2   2.0\n",
              "3     3   3.0\n",
              "\n",
              "Constructing DataFrame from numpy ndarray:\n",
              "\n",
              "&gt;&gt;&gt; df2 = pd.DataFrame(np.array([[1, 2, 3], [4, 5, 6], [7, 8, 9]]),\n",
              "...                    columns=[&#x27;a&#x27;, &#x27;b&#x27;, &#x27;c&#x27;])\n",
              "&gt;&gt;&gt; df2\n",
              "   a  b  c\n",
              "0  1  2  3\n",
              "1  4  5  6\n",
              "2  7  8  9\n",
              "\n",
              "Constructing DataFrame from a numpy ndarray that has labeled columns:\n",
              "\n",
              "&gt;&gt;&gt; data = np.array([(1, 2, 3), (4, 5, 6), (7, 8, 9)],\n",
              "...                 dtype=[(&quot;a&quot;, &quot;i4&quot;), (&quot;b&quot;, &quot;i4&quot;), (&quot;c&quot;, &quot;i4&quot;)])\n",
              "&gt;&gt;&gt; df3 = pd.DataFrame(data, columns=[&#x27;c&#x27;, &#x27;a&#x27;])\n",
              "...\n",
              "&gt;&gt;&gt; df3\n",
              "   c  a\n",
              "0  3  1\n",
              "1  6  4\n",
              "2  9  7\n",
              "\n",
              "Constructing DataFrame from dataclass:\n",
              "\n",
              "&gt;&gt;&gt; from dataclasses import make_dataclass\n",
              "&gt;&gt;&gt; Point = make_dataclass(&quot;Point&quot;, [(&quot;x&quot;, int), (&quot;y&quot;, int)])\n",
              "&gt;&gt;&gt; pd.DataFrame([Point(0, 0), Point(0, 3), Point(2, 3)])\n",
              "   x  y\n",
              "0  0  0\n",
              "1  0  3\n",
              "2  2  3</pre>\n",
              "      <script>\n",
              "      if (google.colab.kernel.accessAllowed && google.colab.files && google.colab.files.view) {\n",
              "        for (const element of document.querySelectorAll('.filepath')) {\n",
              "          element.style.display = 'block'\n",
              "          element.onclick = (event) => {\n",
              "            event.preventDefault();\n",
              "            event.stopPropagation();\n",
              "            google.colab.files.view(element.textContent, 475);\n",
              "          };\n",
              "        }\n",
              "      }\n",
              "      for (const element of document.querySelectorAll('.function-repr-contents')) {\n",
              "        element.onclick = (event) => {\n",
              "          event.preventDefault();\n",
              "          event.stopPropagation();\n",
              "          element.classList.toggle('function-repr-contents-collapsed');\n",
              "        };\n",
              "      }\n",
              "      </script>\n",
              "      </div>"
            ]
          },
          "metadata": {},
          "execution_count": 124
        }
      ],
      "source": [
        "type(task2_data)"
      ]
    },
    {
      "cell_type": "code",
      "execution_count": null,
      "metadata": {
        "colab": {
          "base_uri": "https://localhost:8080/"
        },
        "id": "vsdYcgzRS6oj",
        "outputId": "34455a8b-635c-4e44-b144-a31d9e1f5551"
      },
      "outputs": [
        {
          "output_type": "execute_result",
          "data": {
            "text/plain": [
              "8981"
            ]
          },
          "metadata": {},
          "execution_count": 139
        }
      ],
      "source": [
        "task2_data['text_clarity'].isna().sum()"
      ]
    },
    {
      "cell_type": "markdown",
      "metadata": {
        "id": "Mdovq47TURHS"
      },
      "source": [
        "## Label Encoding for Categorical Column"
      ]
    },
    {
      "cell_type": "code",
      "execution_count": null,
      "metadata": {
        "id": "TwxBrSAomKp2"
      },
      "outputs": [],
      "source": [
        "lblEncoder = LabelEncoder()\n",
        "\n",
        "lblEncoder = lblEncoder.fit(task2_data['has_entity']) # encoding has entity column\n",
        "task2_data['has_entity'] = lblEncoder.transform(task2_data['has_entity'])\n",
        "\n",
        "lblEncoder = lblEncoder.fit(task2_data['category']) # encoding has entity column\n",
        "task2_data['category'] = lblEncoder.transform(task2_data['category'])\n",
        "\n",
        "lblEncoder = lblEncoder.fit(task2_data['last_editor_gender']) # encodinglast_editor_gender column\n",
        "task2_data['last_editor_gender'] = lblEncoder.transform(task2_data['last_editor_gender'])\n",
        "\n",
        "\n",
        "\n"
      ]
    },
    {
      "cell_type": "code",
      "execution_count": null,
      "metadata": {
        "colab": {
          "base_uri": "https://localhost:8080/"
        },
        "id": "y3fmEMhinnnR",
        "outputId": "b0f9a02d-7dd9-428c-e667-f12204dfbf91"
      },
      "outputs": [
        {
          "output_type": "execute_result",
          "data": {
            "text/plain": [
              "Index(['par_id', 'paragraph', 'has_entity', 'lexicon_count', 'difficult_words',\n",
              "       'last_editor_gender', 'category', 'text_clarity'],\n",
              "      dtype='object')"
            ]
          },
          "metadata": {},
          "execution_count": 131
        }
      ],
      "source": [
        "task2_data.columns"
      ]
    },
    {
      "cell_type": "markdown",
      "metadata": {
        "id": "jxYR4b-4obVy"
      },
      "source": [
        "## Lemmatization"
      ]
    },
    {
      "cell_type": "code",
      "execution_count": null,
      "metadata": {
        "colab": {
          "base_uri": "https://localhost:8080/"
        },
        "id": "IyTbhhMDoVVK",
        "outputId": "1d41a624-5aeb-4b89-a857-02a9caa10a3c"
      },
      "outputs": [
        {
          "output_type": "stream",
          "name": "stdout",
          "text": [
            "Time elapsed for processing data: 220.96 seconds\n"
          ]
        }
      ],
      "source": [
        "t0 = tt()\n",
        "\n",
        "task2_data['clean_lemmatized_text'] = task2_data['paragraph'].apply(clean_lemmatize)\n",
        "\n",
        "task2_data[['paragraph', 'clean_lemmatized_text']].head()\n",
        "\n",
        "print(f'Time elapsed for processing data: {(tt() - t0):.2f} seconds')"
      ]
    },
    {
      "cell_type": "markdown",
      "metadata": {
        "id": "ckPFJAL6h16d"
      },
      "source": [
        "## Setting conditions for creating subset\n",
        "\n",
        "Mean values of 'difficult_words' and 'lexicon_count' columns assigned to two different variables."
      ]
    },
    {
      "cell_type": "code",
      "execution_count": null,
      "metadata": {
        "colab": {
          "base_uri": "https://localhost:8080/"
        },
        "id": "rfZA4hAK3sxX",
        "outputId": "75d184ca-a682-4e27-ac9d-f7d3f7d711fa"
      },
      "outputs": [
        {
          "output_type": "stream",
          "name": "stdout",
          "text": [
            "Mean of the difficult words 21.532893289328932\n",
            "Mean of the lexicon count  82.02684268426843\n"
          ]
        }
      ],
      "source": [
        "mean_diff_words = task2_data['difficult_words'].mean()\n",
        "mean_lex_count = task2_data['lexicon_count'].mean()\n",
        "\n",
        "print(\"Mean of the difficult words\", mean_diff_words)\n",
        "print(\"Mean of the lexicon count \", mean_lex_count)"
      ]
    },
    {
      "cell_type": "code",
      "execution_count": null,
      "metadata": {
        "colab": {
          "base_uri": "https://localhost:8080/"
        },
        "id": "c7Hlu2HLUISr",
        "outputId": "a32fb348-f023-46be-d8cc-83d54731d8cc"
      },
      "outputs": [
        {
          "output_type": "stream",
          "name": "stdout",
          "text": [
            "(100, 9)\n"
          ]
        }
      ],
      "source": [
        "task2_sample = task2_data.sample(n=100)\n",
        "print(task2_sample.shape)"
      ]
    },
    {
      "cell_type": "markdown",
      "metadata": {
        "id": "7NBY9aMLWSY5"
      },
      "source": [
        "As I will use tfidf vectorizer for this task, vectorizing the clean_text would be much better and appropriate for this task. Therefore, i will not take tokens column in my dataset"
      ]
    },
    {
      "cell_type": "code",
      "execution_count": null,
      "metadata": {
        "id": "eowPm15hVcmQ"
      },
      "outputs": [],
      "source": [
        "sub_col = ['has_entity', 'lexicon_count', 'difficult_words',\n",
        "       'last_editor_gender', 'category','text_clarity',\n",
        "       'clean_lemmatized_text' ]"
      ]
    },
    {
      "cell_type": "code",
      "execution_count": null,
      "metadata": {
        "colab": {
          "base_uri": "https://localhost:8080/"
        },
        "id": "bqjvNzjHVime",
        "outputId": "b4317113-40ea-4044-b44e-17183283ad81"
      },
      "outputs": [
        {
          "output_type": "execute_result",
          "data": {
            "text/plain": [
              "Index(['par_id', 'paragraph', 'has_entity', 'lexicon_count', 'difficult_words',\n",
              "       'last_editor_gender', 'category', 'text_clarity',\n",
              "       'clean_lemmatized_text'],\n",
              "      dtype='object')"
            ]
          },
          "metadata": {},
          "execution_count": 144
        }
      ],
      "source": [
        "task2_sample.columns"
      ]
    },
    {
      "cell_type": "code",
      "execution_count": null,
      "metadata": {
        "colab": {
          "base_uri": "https://localhost:8080/"
        },
        "id": "944UBkc5WwDE",
        "outputId": "abdc5ca6-8bf2-4eab-f0c9-fc8afdceced0"
      },
      "outputs": [
        {
          "output_type": "stream",
          "name": "stdout",
          "text": [
            "Index(['has_entity', 'lexicon_count', 'difficult_words', 'last_editor_gender',\n",
            "       'category', 'text_clarity', 'clean_lemmatized_text'],\n",
            "      dtype='object')\n"
          ]
        }
      ],
      "source": [
        "task2_sample = task2_sample[sub_col]\n",
        "print(task2_sample.columns)"
      ]
    },
    {
      "cell_type": "code",
      "execution_count": null,
      "metadata": {
        "colab": {
          "base_uri": "https://localhost:8080/"
        },
        "id": "G2L5eikNVD3k",
        "outputId": "f831e729-9ee2-4a9a-8f99-69759f098f3d"
      },
      "outputs": [
        {
          "output_type": "stream",
          "name": "stdout",
          "text": [
            "0\n"
          ]
        }
      ],
      "source": [
        "print(task2_sample['category'].isna().sum())"
      ]
    },
    {
      "cell_type": "markdown",
      "metadata": {
        "id": "e1wGk1sSiUQo"
      },
      "source": [
        "Here we are applying the conditions to our dataset."
      ]
    },
    {
      "cell_type": "code",
      "execution_count": null,
      "metadata": {
        "id": "uQ7Kpn-g4Y8n"
      },
      "outputs": [],
      "source": [
        "task2_sample['clarity'] = task2_sample.apply(lambda x: 'not_clear_enough' if x['difficult_words'] > mean_diff_words and x['lexicon_count'] > mean_lex_count else 'clear_enough', axis=1)"
      ]
    },
    {
      "cell_type": "code",
      "execution_count": null,
      "metadata": {
        "colab": {
          "base_uri": "https://localhost:8080/"
        },
        "id": "Mkt4K5-C5ScJ",
        "outputId": "b4191e14-9a53-4e70-ff61-c30daf8d2a7b"
      },
      "outputs": [
        {
          "output_type": "execute_result",
          "data": {
            "text/plain": [
              "7888    not_clear_enough\n",
              "5578        clear_enough\n",
              "4208        clear_enough\n",
              "8177        clear_enough\n",
              "6709        clear_enough\n",
              "Name: clarity, dtype: object"
            ]
          },
          "metadata": {},
          "execution_count": 148
        }
      ],
      "source": [
        "task2_sample['clarity'].head() # checking if application is correct.\n"
      ]
    },
    {
      "cell_type": "code",
      "source": [
        "data['text_clarity'] = data['text_clarity'].combine_first(task2_sample['clarity'])"
      ],
      "metadata": {
        "id": "hRoJsn8Z6zNB"
      },
      "execution_count": null,
      "outputs": []
    },
    {
      "cell_type": "code",
      "source": [
        "\n",
        "file_path = \"merged_dataset.xlsx\"\n",
        "data.to_excel(file_path, index=False)\n"
      ],
      "metadata": {
        "id": "j1E4o74a7vZB"
      },
      "execution_count": null,
      "outputs": []
    },
    {
      "cell_type": "code",
      "execution_count": null,
      "metadata": {
        "id": "L5-lRUUEX4Jd"
      },
      "outputs": [],
      "source": [
        "\n",
        "lblEncoder = lblEncoder.fit(task2_sample['clarity']) # encoding clarity  column\n",
        "task2_sample['clarity'] = lblEncoder.transform(task2_sample['clarity'])"
      ]
    },
    {
      "cell_type": "code",
      "execution_count": null,
      "metadata": {
        "colab": {
          "base_uri": "https://localhost:8080/"
        },
        "id": "k-oDJQFYYB37",
        "outputId": "711c15f4-edf9-4c9b-d608-86f517dfe9e6"
      },
      "outputs": [
        {
          "output_type": "execute_result",
          "data": {
            "text/plain": [
              "5467    0\n",
              "3552    1\n",
              "6094    1\n",
              "244     1\n",
              "1266    0\n",
              "Name: clarity, dtype: int64"
            ]
          },
          "metadata": {},
          "execution_count": 152
        }
      ],
      "source": [
        "task2_sample['clarity'].tail()\n"
      ]
    },
    {
      "cell_type": "code",
      "execution_count": null,
      "metadata": {
        "id": "rG7jdG64MH26"
      },
      "outputs": [],
      "source": [
        "task2_sample = task2_sample.drop(columns=['text_clarity'])"
      ]
    },
    {
      "cell_type": "code",
      "execution_count": null,
      "metadata": {
        "id": "pC8Bx_o--ddB"
      },
      "outputs": [],
      "source": [
        "import string\n",
        "EXTRA_PUNCT = string.punctuation\n",
        "\n",
        "\n",
        "import spacy\n",
        "nlp = spacy.load('en_core_web_lg')\n",
        "\n",
        "\n",
        "\n",
        "def get_spacy_doc_embedding(text_):\n",
        "  ''' Given a text document, return the Spacy document embedding. '''\n",
        "  doc_ = nlp(text_)\n",
        "  return doc_.vector\n",
        "\n",
        "def compute_avg_lemma_embedding(text_):\n",
        "  \"\"\"\n",
        "  This function takes a Spacy doc and returns the average word embedding,\n",
        "  ONLY for selected tokens.\n",
        "  \"\"\"\n",
        "\n",
        "  doc_ = nlp(text_)\n",
        "\n",
        "  avg_embedding = np.zeros_like(doc_.vector)\n",
        "  token_counter = 0\n",
        "  for token in doc_:\n",
        "    if (token.is_stop or token.is_punct or token.is_digit or (token.lemma_ in EXTRA_PUNCT)):\n",
        "      continue\n",
        "    avg_embedding += token.vector\n",
        "    token_counter+=1\n",
        "  if token_counter>0:\n",
        "    avg_embedding = avg_embedding/token_counter\n",
        "  return avg_embedding"
      ]
    },
    {
      "cell_type": "code",
      "execution_count": null,
      "metadata": {
        "colab": {
          "base_uri": "https://localhost:8080/"
        },
        "id": "3xBMus5UYxXB",
        "outputId": "4ec0b221-d6e7-4d45-97a7-1d899dbd1749"
      },
      "outputs": [
        {
          "output_type": "execute_result",
          "data": {
            "text/plain": [
              "Index(['has_entity', 'lexicon_count', 'difficult_words', 'last_editor_gender',\n",
              "       'category', 'clean_lemmatized_text', 'clarity'],\n",
              "      dtype='object')"
            ]
          },
          "metadata": {},
          "execution_count": 155
        }
      ],
      "source": [
        "task2_sample.columns"
      ]
    },
    {
      "cell_type": "code",
      "execution_count": null,
      "metadata": {
        "colab": {
          "base_uri": "https://localhost:8080/",
          "height": 365
        },
        "id": "IESNQsYaZUlN",
        "outputId": "abcf19d6-e194-40a0-e6d8-f98fee1aa0f9"
      },
      "outputs": [
        {
          "output_type": "execute_result",
          "data": {
            "text/plain": [
              "      has_entity  lexicon_count  difficult_words  last_editor_gender  \\\n",
              "7888           4            147             35.0                   0   \n",
              "5578           0             16              3.0                   2   \n",
              "4208           4            106             16.0                   0   \n",
              "8177           4             35             10.0                   0   \n",
              "6709           0             27             12.0                   2   \n",
              "\n",
              "      category                              clean_lemmatized_text  clarity  \n",
              "7888         1  12 small dissect kit dissect bumblebee get tro...        1  \n",
              "5578         4      enumerate perfect number check number perfect        0  \n",
              "4208         3  fact pain accessible consult order establish f...        0  \n",
              "8177         4  posix file reference file system object plain ...        0  \n",
              "6709         1  concept sustainable retreat emphasise pattern ...        0  "
            ],
            "text/html": [
              "\n",
              "  <div id=\"df-6451bfd1-6c1c-41e2-92a0-c4543bc21e5d\" class=\"colab-df-container\">\n",
              "    <div>\n",
              "<style scoped>\n",
              "    .dataframe tbody tr th:only-of-type {\n",
              "        vertical-align: middle;\n",
              "    }\n",
              "\n",
              "    .dataframe tbody tr th {\n",
              "        vertical-align: top;\n",
              "    }\n",
              "\n",
              "    .dataframe thead th {\n",
              "        text-align: right;\n",
              "    }\n",
              "</style>\n",
              "<table border=\"1\" class=\"dataframe\">\n",
              "  <thead>\n",
              "    <tr style=\"text-align: right;\">\n",
              "      <th></th>\n",
              "      <th>has_entity</th>\n",
              "      <th>lexicon_count</th>\n",
              "      <th>difficult_words</th>\n",
              "      <th>last_editor_gender</th>\n",
              "      <th>category</th>\n",
              "      <th>clean_lemmatized_text</th>\n",
              "      <th>clarity</th>\n",
              "    </tr>\n",
              "  </thead>\n",
              "  <tbody>\n",
              "    <tr>\n",
              "      <th>7888</th>\n",
              "      <td>4</td>\n",
              "      <td>147</td>\n",
              "      <td>35.0</td>\n",
              "      <td>0</td>\n",
              "      <td>1</td>\n",
              "      <td>12 small dissect kit dissect bumblebee get tro...</td>\n",
              "      <td>1</td>\n",
              "    </tr>\n",
              "    <tr>\n",
              "      <th>5578</th>\n",
              "      <td>0</td>\n",
              "      <td>16</td>\n",
              "      <td>3.0</td>\n",
              "      <td>2</td>\n",
              "      <td>4</td>\n",
              "      <td>enumerate perfect number check number perfect</td>\n",
              "      <td>0</td>\n",
              "    </tr>\n",
              "    <tr>\n",
              "      <th>4208</th>\n",
              "      <td>4</td>\n",
              "      <td>106</td>\n",
              "      <td>16.0</td>\n",
              "      <td>0</td>\n",
              "      <td>3</td>\n",
              "      <td>fact pain accessible consult order establish f...</td>\n",
              "      <td>0</td>\n",
              "    </tr>\n",
              "    <tr>\n",
              "      <th>8177</th>\n",
              "      <td>4</td>\n",
              "      <td>35</td>\n",
              "      <td>10.0</td>\n",
              "      <td>0</td>\n",
              "      <td>4</td>\n",
              "      <td>posix file reference file system object plain ...</td>\n",
              "      <td>0</td>\n",
              "    </tr>\n",
              "    <tr>\n",
              "      <th>6709</th>\n",
              "      <td>0</td>\n",
              "      <td>27</td>\n",
              "      <td>12.0</td>\n",
              "      <td>2</td>\n",
              "      <td>1</td>\n",
              "      <td>concept sustainable retreat emphasise pattern ...</td>\n",
              "      <td>0</td>\n",
              "    </tr>\n",
              "  </tbody>\n",
              "</table>\n",
              "</div>\n",
              "    <div class=\"colab-df-buttons\">\n",
              "\n",
              "  <div class=\"colab-df-container\">\n",
              "    <button class=\"colab-df-convert\" onclick=\"convertToInteractive('df-6451bfd1-6c1c-41e2-92a0-c4543bc21e5d')\"\n",
              "            title=\"Convert this dataframe to an interactive table.\"\n",
              "            style=\"display:none;\">\n",
              "\n",
              "  <svg xmlns=\"http://www.w3.org/2000/svg\" height=\"24px\" viewBox=\"0 -960 960 960\">\n",
              "    <path d=\"M120-120v-720h720v720H120Zm60-500h600v-160H180v160Zm220 220h160v-160H400v160Zm0 220h160v-160H400v160ZM180-400h160v-160H180v160Zm440 0h160v-160H620v160ZM180-180h160v-160H180v160Zm440 0h160v-160H620v160Z\"/>\n",
              "  </svg>\n",
              "    </button>\n",
              "\n",
              "  <style>\n",
              "    .colab-df-container {\n",
              "      display:flex;\n",
              "      gap: 12px;\n",
              "    }\n",
              "\n",
              "    .colab-df-convert {\n",
              "      background-color: #E8F0FE;\n",
              "      border: none;\n",
              "      border-radius: 50%;\n",
              "      cursor: pointer;\n",
              "      display: none;\n",
              "      fill: #1967D2;\n",
              "      height: 32px;\n",
              "      padding: 0 0 0 0;\n",
              "      width: 32px;\n",
              "    }\n",
              "\n",
              "    .colab-df-convert:hover {\n",
              "      background-color: #E2EBFA;\n",
              "      box-shadow: 0px 1px 2px rgba(60, 64, 67, 0.3), 0px 1px 3px 1px rgba(60, 64, 67, 0.15);\n",
              "      fill: #174EA6;\n",
              "    }\n",
              "\n",
              "    .colab-df-buttons div {\n",
              "      margin-bottom: 4px;\n",
              "    }\n",
              "\n",
              "    [theme=dark] .colab-df-convert {\n",
              "      background-color: #3B4455;\n",
              "      fill: #D2E3FC;\n",
              "    }\n",
              "\n",
              "    [theme=dark] .colab-df-convert:hover {\n",
              "      background-color: #434B5C;\n",
              "      box-shadow: 0px 1px 3px 1px rgba(0, 0, 0, 0.15);\n",
              "      filter: drop-shadow(0px 1px 2px rgba(0, 0, 0, 0.3));\n",
              "      fill: #FFFFFF;\n",
              "    }\n",
              "  </style>\n",
              "\n",
              "    <script>\n",
              "      const buttonEl =\n",
              "        document.querySelector('#df-6451bfd1-6c1c-41e2-92a0-c4543bc21e5d button.colab-df-convert');\n",
              "      buttonEl.style.display =\n",
              "        google.colab.kernel.accessAllowed ? 'block' : 'none';\n",
              "\n",
              "      async function convertToInteractive(key) {\n",
              "        const element = document.querySelector('#df-6451bfd1-6c1c-41e2-92a0-c4543bc21e5d');\n",
              "        const dataTable =\n",
              "          await google.colab.kernel.invokeFunction('convertToInteractive',\n",
              "                                                    [key], {});\n",
              "        if (!dataTable) return;\n",
              "\n",
              "        const docLinkHtml = 'Like what you see? Visit the ' +\n",
              "          '<a target=\"_blank\" href=https://colab.research.google.com/notebooks/data_table.ipynb>data table notebook</a>'\n",
              "          + ' to learn more about interactive tables.';\n",
              "        element.innerHTML = '';\n",
              "        dataTable['output_type'] = 'display_data';\n",
              "        await google.colab.output.renderOutput(dataTable, element);\n",
              "        const docLink = document.createElement('div');\n",
              "        docLink.innerHTML = docLinkHtml;\n",
              "        element.appendChild(docLink);\n",
              "      }\n",
              "    </script>\n",
              "  </div>\n",
              "\n",
              "\n",
              "<div id=\"df-08667f3d-0ff1-472a-80d7-a93803d5dd1f\">\n",
              "  <button class=\"colab-df-quickchart\" onclick=\"quickchart('df-08667f3d-0ff1-472a-80d7-a93803d5dd1f')\"\n",
              "            title=\"Suggest charts\"\n",
              "            style=\"display:none;\">\n",
              "\n",
              "<svg xmlns=\"http://www.w3.org/2000/svg\" height=\"24px\"viewBox=\"0 0 24 24\"\n",
              "     width=\"24px\">\n",
              "    <g>\n",
              "        <path d=\"M19 3H5c-1.1 0-2 .9-2 2v14c0 1.1.9 2 2 2h14c1.1 0 2-.9 2-2V5c0-1.1-.9-2-2-2zM9 17H7v-7h2v7zm4 0h-2V7h2v10zm4 0h-2v-4h2v4z\"/>\n",
              "    </g>\n",
              "</svg>\n",
              "  </button>\n",
              "\n",
              "<style>\n",
              "  .colab-df-quickchart {\n",
              "      --bg-color: #E8F0FE;\n",
              "      --fill-color: #1967D2;\n",
              "      --hover-bg-color: #E2EBFA;\n",
              "      --hover-fill-color: #174EA6;\n",
              "      --disabled-fill-color: #AAA;\n",
              "      --disabled-bg-color: #DDD;\n",
              "  }\n",
              "\n",
              "  [theme=dark] .colab-df-quickchart {\n",
              "      --bg-color: #3B4455;\n",
              "      --fill-color: #D2E3FC;\n",
              "      --hover-bg-color: #434B5C;\n",
              "      --hover-fill-color: #FFFFFF;\n",
              "      --disabled-bg-color: #3B4455;\n",
              "      --disabled-fill-color: #666;\n",
              "  }\n",
              "\n",
              "  .colab-df-quickchart {\n",
              "    background-color: var(--bg-color);\n",
              "    border: none;\n",
              "    border-radius: 50%;\n",
              "    cursor: pointer;\n",
              "    display: none;\n",
              "    fill: var(--fill-color);\n",
              "    height: 32px;\n",
              "    padding: 0;\n",
              "    width: 32px;\n",
              "  }\n",
              "\n",
              "  .colab-df-quickchart:hover {\n",
              "    background-color: var(--hover-bg-color);\n",
              "    box-shadow: 0 1px 2px rgba(60, 64, 67, 0.3), 0 1px 3px 1px rgba(60, 64, 67, 0.15);\n",
              "    fill: var(--button-hover-fill-color);\n",
              "  }\n",
              "\n",
              "  .colab-df-quickchart-complete:disabled,\n",
              "  .colab-df-quickchart-complete:disabled:hover {\n",
              "    background-color: var(--disabled-bg-color);\n",
              "    fill: var(--disabled-fill-color);\n",
              "    box-shadow: none;\n",
              "  }\n",
              "\n",
              "  .colab-df-spinner {\n",
              "    border: 2px solid var(--fill-color);\n",
              "    border-color: transparent;\n",
              "    border-bottom-color: var(--fill-color);\n",
              "    animation:\n",
              "      spin 1s steps(1) infinite;\n",
              "  }\n",
              "\n",
              "  @keyframes spin {\n",
              "    0% {\n",
              "      border-color: transparent;\n",
              "      border-bottom-color: var(--fill-color);\n",
              "      border-left-color: var(--fill-color);\n",
              "    }\n",
              "    20% {\n",
              "      border-color: transparent;\n",
              "      border-left-color: var(--fill-color);\n",
              "      border-top-color: var(--fill-color);\n",
              "    }\n",
              "    30% {\n",
              "      border-color: transparent;\n",
              "      border-left-color: var(--fill-color);\n",
              "      border-top-color: var(--fill-color);\n",
              "      border-right-color: var(--fill-color);\n",
              "    }\n",
              "    40% {\n",
              "      border-color: transparent;\n",
              "      border-right-color: var(--fill-color);\n",
              "      border-top-color: var(--fill-color);\n",
              "    }\n",
              "    60% {\n",
              "      border-color: transparent;\n",
              "      border-right-color: var(--fill-color);\n",
              "    }\n",
              "    80% {\n",
              "      border-color: transparent;\n",
              "      border-right-color: var(--fill-color);\n",
              "      border-bottom-color: var(--fill-color);\n",
              "    }\n",
              "    90% {\n",
              "      border-color: transparent;\n",
              "      border-bottom-color: var(--fill-color);\n",
              "    }\n",
              "  }\n",
              "</style>\n",
              "\n",
              "  <script>\n",
              "    async function quickchart(key) {\n",
              "      const quickchartButtonEl =\n",
              "        document.querySelector('#' + key + ' button');\n",
              "      quickchartButtonEl.disabled = true;  // To prevent multiple clicks.\n",
              "      quickchartButtonEl.classList.add('colab-df-spinner');\n",
              "      try {\n",
              "        const charts = await google.colab.kernel.invokeFunction(\n",
              "            'suggestCharts', [key], {});\n",
              "      } catch (error) {\n",
              "        console.error('Error during call to suggestCharts:', error);\n",
              "      }\n",
              "      quickchartButtonEl.classList.remove('colab-df-spinner');\n",
              "      quickchartButtonEl.classList.add('colab-df-quickchart-complete');\n",
              "    }\n",
              "    (() => {\n",
              "      let quickchartButtonEl =\n",
              "        document.querySelector('#df-08667f3d-0ff1-472a-80d7-a93803d5dd1f button');\n",
              "      quickchartButtonEl.style.display =\n",
              "        google.colab.kernel.accessAllowed ? 'block' : 'none';\n",
              "    })();\n",
              "  </script>\n",
              "</div>\n",
              "    </div>\n",
              "  </div>\n"
            ],
            "application/vnd.google.colaboratory.intrinsic+json": {
              "type": "dataframe",
              "variable_name": "task2_sample",
              "summary": "{\n  \"name\": \"task2_sample\",\n  \"rows\": 100,\n  \"fields\": [\n    {\n      \"column\": \"has_entity\",\n      \"properties\": {\n        \"dtype\": \"number\",\n        \"std\": 2,\n        \"min\": 0,\n        \"max\": 7,\n        \"num_unique_values\": 6,\n        \"samples\": [\n          4,\n          0,\n          7\n        ],\n        \"semantic_type\": \"\",\n        \"description\": \"\"\n      }\n    },\n    {\n      \"column\": \"lexicon_count\",\n      \"properties\": {\n        \"dtype\": \"number\",\n        \"std\": 57,\n        \"min\": 0,\n        \"max\": 262,\n        \"num_unique_values\": 73,\n        \"samples\": [\n          27,\n          26,\n          36\n        ],\n        \"semantic_type\": \"\",\n        \"description\": \"\"\n      }\n    },\n    {\n      \"column\": \"difficult_words\",\n      \"properties\": {\n        \"dtype\": \"number\",\n        \"std\": 14.776776756557274,\n        \"min\": 0.0,\n        \"max\": 77.0,\n        \"num_unique_values\": 42,\n        \"samples\": [\n          22.0,\n          23.0,\n          5.0\n        ],\n        \"semantic_type\": \"\",\n        \"description\": \"\"\n      }\n    },\n    {\n      \"column\": \"last_editor_gender\",\n      \"properties\": {\n        \"dtype\": \"number\",\n        \"std\": 0,\n        \"min\": 0,\n        \"max\": 2,\n        \"num_unique_values\": 3,\n        \"samples\": [\n          0,\n          2,\n          1\n        ],\n        \"semantic_type\": \"\",\n        \"description\": \"\"\n      }\n    },\n    {\n      \"column\": \"category\",\n      \"properties\": {\n        \"dtype\": \"number\",\n        \"std\": 1,\n        \"min\": 0,\n        \"max\": 4,\n        \"num_unique_values\": 5,\n        \"samples\": [\n          4,\n          2,\n          3\n        ],\n        \"semantic_type\": \"\",\n        \"description\": \"\"\n      }\n    },\n    {\n      \"column\": \"clean_lemmatized_text\",\n      \"properties\": {\n        \"dtype\": \"string\",\n        \"num_unique_values\": 99,\n        \"samples\": [\n          \"kurzweil predict machine human level intelligence available affordable computing device couple decade revolutionize aspect life say nanotechnology augment body cure cancer human connect computer direct neural interface live time virtual reality kurzweil predict machine appear free spiritual experience say human essentially live forever humanity machinery predict intelligence expand outward earth grow powerful influence fate universe\",\n          \"buildup singularity compare judeo christian end time scenario beam call buck roger vision hypothetical christian rapture john gray say singularity echo apocalyptic myth history interrupt world transform event\\\".the radical nature kurzweil prediction discuss anthony doerr say dismiss techno zeal consider day line human human blur bit list technology day 2006 like computer land supersonic airplane vitro fertility treatment ask brain implant access internet robot blood unbelievable.in regard reverse engineer brain neuroscientist david j. linden write kurzweil conflate biological datum collection biological insight feel datum collection grow exponentially insight increase linearly example speed cost sequence genome improve exponentially understanding genetic grow slowly nanobot linden believe space available brain navigation simply small acknowledge someday fully understand brain kurzweil timetable\",\n          \"existence state real exist mean participate reality existence set real entity apart imaginary one refer individual entity totality reality word existence enter english language late 14th century old french root medieval latin term existere mean stand forth appear arise existence study subdiscipline metaphysics know ontology.the term reality actuality closely relate existence usually synonym existence meaning technical term come apart accord metaphysicist alexius meinong example entity existence argue merely possible object like santa claus lack existence ontologist takashi yagisawa contrast existence reality see reality fundamental term characterize entity equally define existence relative term connect entity world inhabit accord gottlob frege actuality narrow existence hold actual entity produce undergo change state exist entity non actual like number sets.existence contrast nonexistence refer lack reality controversial object divide existent nonexistent object\"\n        ],\n        \"semantic_type\": \"\",\n        \"description\": \"\"\n      }\n    },\n    {\n      \"column\": \"clarity\",\n      \"properties\": {\n        \"dtype\": \"number\",\n        \"std\": 0,\n        \"min\": 0,\n        \"max\": 1,\n        \"num_unique_values\": 2,\n        \"samples\": [\n          0,\n          1\n        ],\n        \"semantic_type\": \"\",\n        \"description\": \"\"\n      }\n    }\n  ]\n}"
            }
          },
          "metadata": {},
          "execution_count": 156
        }
      ],
      "source": [
        "task2_sample.head()"
      ]
    },
    {
      "cell_type": "code",
      "execution_count": null,
      "metadata": {
        "id": "z_TsuSGuY5Ow"
      },
      "outputs": [],
      "source": [
        "X = task2_sample.drop(columns=['clarity'])\n",
        "y = task2_sample['clarity']"
      ]
    },
    {
      "cell_type": "code",
      "execution_count": null,
      "metadata": {
        "id": "gvSiE_tBackU"
      },
      "outputs": [],
      "source": [
        "X_train, X_test, y_train, y_test = train_test_split(X, y, test_size=0.2, random_state=42, stratify=y)\n",
        "\n",
        "\n",
        "X_train, X_val, y_train, y_val = train_test_split(X_train, y_train, test_size=0.125, random_state=42, stratify=y_train)\n"
      ]
    },
    {
      "cell_type": "code",
      "execution_count": null,
      "metadata": {
        "colab": {
          "base_uri": "https://localhost:8080/"
        },
        "id": "hOHZzOQPae0i",
        "outputId": "14755567-590e-439a-9ad1-cedd665bc558"
      },
      "outputs": [
        {
          "output_type": "stream",
          "name": "stdout",
          "text": [
            "X_train shape: (70, 6)\n",
            "y_train shape: (70,)\n",
            "X_val shape: (10, 6)\n",
            "y_val shape: (10,)\n",
            "X_test shape: (20, 6)\n",
            "y_test shape: (20,)\n"
          ]
        }
      ],
      "source": [
        "print(f\"X_train shape: {X_train.shape}\")\n",
        "print(f\"y_train shape: {y_train.shape}\")\n",
        "print(f\"X_val shape: {X_val.shape}\")\n",
        "print(f\"y_val shape: {y_val.shape}\")\n",
        "print(f\"X_test shape: {X_test.shape}\")\n",
        "print(f\"y_test shape: {y_test.shape}\")"
      ]
    },
    {
      "cell_type": "code",
      "execution_count": null,
      "metadata": {
        "id": "GCRMz10WDHuI"
      },
      "outputs": [],
      "source": [
        "from sklearn.neural_network import MLPClassifier\n",
        "from sklearn.pipeline import Pipeline\n",
        "from sklearn.compose import ColumnTransformer\n",
        "from sklearn.preprocessing import StandardScaler\n",
        "from sklearn.decomposition import TruncatedSVD\n",
        "\n",
        "ct = ColumnTransformer(\n",
        "    transformers= [\n",
        "\n",
        "        (\n",
        "            \"scaling\",\n",
        "            StandardScaler(),\n",
        "            [\"clarity\"],\n",
        "        )\n",
        "    ],\n",
        "    remainder=\"passthrough\",\n",
        "    verbose_feature_names_out=False\n",
        ")\n",
        "clf_ = Pipeline(\n",
        "        steps =[('scaling', ct),\n",
        "              ('clf', MLPClassifier()),\n",
        "      ]\n",
        "    )\n",
        "\n",
        "hparameters = {'clf__hidden_layer_sizes': ((20,20)),\n",
        "              'clf__alpha': (0.0001, 0.001),\n",
        "             }\n"
      ]
    },
    {
      "cell_type": "markdown",
      "metadata": {
        "id": "N473NBlrNEIQ"
      },
      "source": [
        "## Model Task2 First Try"
      ]
    },
    {
      "cell_type": "code",
      "source": [
        "\n",
        "preprocessor = ColumnTransformer(\n",
        "    transformers=[\n",
        "        ('text_vect', TfidfVectorizer(), 'clean_lemmatized_text')\n",
        "\n",
        "    ],\n",
        "    remainder='passthrough'\n",
        ")\n",
        "\n",
        "pipeline = Pipeline(steps=[\n",
        "    ('preprocess', preprocessor),\n",
        "    ('classifier', MLPClassifier(random_state=42))\n",
        "])\n",
        "\n",
        "parameters = {\n",
        "\n",
        "    'classifier__alpha': [0.0001, 0.001],\n",
        "    'classifier__hidden_layer_sizes': [(20, 20)]\n",
        "}\n",
        "\n",
        "clf_search = GridSearchCV(pipeline, parameters, cv=5, scoring='accuracy', return_train_score=True)\n",
        "\n",
        "clf_search.fit(X_train, y_train)\n",
        "\n",
        "print(\"Best Parameters Found:\")\n",
        "print(clf_search.best_params_)"
      ],
      "metadata": {
        "colab": {
          "base_uri": "https://localhost:8080/"
        },
        "id": "7tNtrNM5ItIr",
        "outputId": "1eb4933a-3ab2-466b-c4cf-af95eaa786c8"
      },
      "execution_count": null,
      "outputs": [
        {
          "output_type": "stream",
          "name": "stderr",
          "text": [
            "/usr/local/lib/python3.10/dist-packages/sklearn/neural_network/_multilayer_perceptron.py:686: ConvergenceWarning: Stochastic Optimizer: Maximum iterations (200) reached and the optimization hasn't converged yet.\n",
            "  warnings.warn(\n",
            "/usr/local/lib/python3.10/dist-packages/sklearn/neural_network/_multilayer_perceptron.py:686: ConvergenceWarning: Stochastic Optimizer: Maximum iterations (200) reached and the optimization hasn't converged yet.\n",
            "  warnings.warn(\n",
            "/usr/local/lib/python3.10/dist-packages/sklearn/neural_network/_multilayer_perceptron.py:686: ConvergenceWarning: Stochastic Optimizer: Maximum iterations (200) reached and the optimization hasn't converged yet.\n",
            "  warnings.warn(\n",
            "/usr/local/lib/python3.10/dist-packages/sklearn/neural_network/_multilayer_perceptron.py:686: ConvergenceWarning: Stochastic Optimizer: Maximum iterations (200) reached and the optimization hasn't converged yet.\n",
            "  warnings.warn(\n",
            "/usr/local/lib/python3.10/dist-packages/sklearn/neural_network/_multilayer_perceptron.py:686: ConvergenceWarning: Stochastic Optimizer: Maximum iterations (200) reached and the optimization hasn't converged yet.\n",
            "  warnings.warn(\n",
            "/usr/local/lib/python3.10/dist-packages/sklearn/neural_network/_multilayer_perceptron.py:686: ConvergenceWarning: Stochastic Optimizer: Maximum iterations (200) reached and the optimization hasn't converged yet.\n",
            "  warnings.warn(\n",
            "/usr/local/lib/python3.10/dist-packages/sklearn/neural_network/_multilayer_perceptron.py:686: ConvergenceWarning: Stochastic Optimizer: Maximum iterations (200) reached and the optimization hasn't converged yet.\n",
            "  warnings.warn(\n"
          ]
        },
        {
          "output_type": "stream",
          "name": "stdout",
          "text": [
            "Best Parameters Found:\n",
            "{'classifier__alpha': 0.0001, 'classifier__hidden_layer_sizes': (20, 20)}\n"
          ]
        },
        {
          "output_type": "stream",
          "name": "stderr",
          "text": [
            "/usr/local/lib/python3.10/dist-packages/sklearn/neural_network/_multilayer_perceptron.py:686: ConvergenceWarning: Stochastic Optimizer: Maximum iterations (200) reached and the optimization hasn't converged yet.\n",
            "  warnings.warn(\n"
          ]
        }
      ]
    },
    {
      "cell_type": "code",
      "source": [
        "y_test_pred = clf_search.predict(X_test)\n",
        "\n",
        "\n",
        "test_accuracy = accuracy_score(y_test, y_test_pred)\n",
        "print(\"Test Accuracy:\", test_accuracy)\n",
        "print(\"Classification Report on Test Set:\")\n",
        "print(classification_report(y_test, y_test_pred))"
      ],
      "metadata": {
        "colab": {
          "base_uri": "https://localhost:8080/"
        },
        "id": "c2DgwfUcJcjg",
        "outputId": "a11c261c-ac7e-4905-cc47-fa9955952cd2"
      },
      "execution_count": null,
      "outputs": [
        {
          "output_type": "stream",
          "name": "stdout",
          "text": [
            "Test Accuracy: 0.7\n",
            "Classification Report on Test Set:\n",
            "              precision    recall  f1-score   support\n",
            "\n",
            "           0       0.83      0.71      0.77        14\n",
            "           1       0.50      0.67      0.57         6\n",
            "\n",
            "    accuracy                           0.70        20\n",
            "   macro avg       0.67      0.69      0.67        20\n",
            "weighted avg       0.73      0.70      0.71        20\n",
            "\n"
          ]
        }
      ]
    },
    {
      "cell_type": "code",
      "source": [
        "y_val_pred = clf_search.predict(X_val)\n",
        "validation_accuracy = accuracy_score(y_val, y_val_pred)\n",
        "print(\"Validation Accuracy:\", validation_accuracy)\n",
        "\n",
        "print(\"Classification Report on Validation Set:\")\n",
        "print(classification_report(y_val, y_val_pred))"
      ],
      "metadata": {
        "colab": {
          "base_uri": "https://localhost:8080/"
        },
        "id": "7NS88Ju0rw-4",
        "outputId": "b2e1f534-4b7c-4078-f32e-2662c8e427ec"
      },
      "execution_count": null,
      "outputs": [
        {
          "output_type": "stream",
          "name": "stdout",
          "text": [
            "Validation Accuracy: 0.9\n",
            "Classification Report on Validation Set:\n",
            "              precision    recall  f1-score   support\n",
            "\n",
            "           0       0.88      1.00      0.93         7\n",
            "           1       1.00      0.67      0.80         3\n",
            "\n",
            "    accuracy                           0.90        10\n",
            "   macro avg       0.94      0.83      0.87        10\n",
            "weighted avg       0.91      0.90      0.89        10\n",
            "\n"
          ]
        }
      ]
    },
    {
      "cell_type": "markdown",
      "source": [
        "########################################################################"
      ],
      "metadata": {
        "id": "qlf_YOKMruKo"
      }
    },
    {
      "cell_type": "markdown",
      "source": [
        "## Task2 Second Try"
      ],
      "metadata": {
        "id": "QjcVhf0-ubKE"
      }
    },
    {
      "cell_type": "code",
      "source": [
        "task2_data = temp_dataset.copy()\n",
        "task2_data.head()"
      ],
      "metadata": {
        "id": "BfGZUh2rLZWj",
        "colab": {
          "base_uri": "https://localhost:8080/",
          "height": 660
        },
        "outputId": "6338d61b-d0d6-402f-d528-fe2fc94ae68f"
      },
      "execution_count": null,
      "outputs": [
        {
          "output_type": "execute_result",
          "data": {
            "text/plain": [
              "  has_entity_ORGNOPRODUCTNOPERSONNO has_entity_ORGNOPRODUCTNOPERSONYES  \\\n",
              "0                               0.0                                0.0   \n",
              "1                               0.0                                0.0   \n",
              "2                               0.0                                0.0   \n",
              "3                               0.0                                0.0   \n",
              "4                               0.0                                0.0   \n",
              "\n",
              "  has_entity_ORGNOPRODUCTYESPERSONNO has_entity_ORGNOPRODUCTYESPERSONYES  \\\n",
              "0                                0.0                                 0.0   \n",
              "1                                0.0                                 0.0   \n",
              "2                                0.0                                 0.0   \n",
              "3                                1.0                                 0.0   \n",
              "4                                0.0                                 0.0   \n",
              "\n",
              "  has_entity_ORGYESPRODUCTNOPERSONNO has_entity_ORGYESPRODUCTNOPERSONYES  \\\n",
              "0                                0.0                                 1.0   \n",
              "1                                1.0                                 0.0   \n",
              "2                                1.0                                 0.0   \n",
              "3                                0.0                                 0.0   \n",
              "4                                0.0                                 0.0   \n",
              "\n",
              "  has_entity_ORGYESPRODUCTYESPERSONNO has_entity_ORGYESPRODUCTYESPERSONYES  \\\n",
              "0                                 0.0                                  0.0   \n",
              "1                                 0.0                                  0.0   \n",
              "2                                 0.0                                  0.0   \n",
              "3                                 0.0                                  0.0   \n",
              "4                                 0.0                                  1.0   \n",
              "\n",
              "         par_id                                          paragraph  \\\n",
              "0  428209002237  Ramsay was born in Glasgow on 2 October 1852. ...   \n",
              "1  564218010072  It has been widely estimated for at least the ...   \n",
              "2  291401001672  He went on to win the Royal Medal of the Royal...   \n",
              "3   31548004883  The changes have altered many underlying assum...   \n",
              "4   50634005146  After these novels were published, Disraeli de...   \n",
              "\n",
              "  lexicon_count difficult_words last_editor_gender  category      text_clarity  \n",
              "0            49            12.0                man         1      clear_enough  \n",
              "1           166            47.0                man         0  not_clear_enough  \n",
              "2            69            18.0         non-binary         1      clear_enough  \n",
              "3            76            27.0         non-binary         4      clear_enough  \n",
              "4           200            47.0                man         1  not_clear_enough  "
            ],
            "text/html": [
              "\n",
              "  <div id=\"df-79f942ef-42f7-4d3c-8452-24d5e209bf7f\" class=\"colab-df-container\">\n",
              "    <div>\n",
              "<style scoped>\n",
              "    .dataframe tbody tr th:only-of-type {\n",
              "        vertical-align: middle;\n",
              "    }\n",
              "\n",
              "    .dataframe tbody tr th {\n",
              "        vertical-align: top;\n",
              "    }\n",
              "\n",
              "    .dataframe thead th {\n",
              "        text-align: right;\n",
              "    }\n",
              "</style>\n",
              "<table border=\"1\" class=\"dataframe\">\n",
              "  <thead>\n",
              "    <tr style=\"text-align: right;\">\n",
              "      <th></th>\n",
              "      <th>has_entity_ORGNOPRODUCTNOPERSONNO</th>\n",
              "      <th>has_entity_ORGNOPRODUCTNOPERSONYES</th>\n",
              "      <th>has_entity_ORGNOPRODUCTYESPERSONNO</th>\n",
              "      <th>has_entity_ORGNOPRODUCTYESPERSONYES</th>\n",
              "      <th>has_entity_ORGYESPRODUCTNOPERSONNO</th>\n",
              "      <th>has_entity_ORGYESPRODUCTNOPERSONYES</th>\n",
              "      <th>has_entity_ORGYESPRODUCTYESPERSONNO</th>\n",
              "      <th>has_entity_ORGYESPRODUCTYESPERSONYES</th>\n",
              "      <th>par_id</th>\n",
              "      <th>paragraph</th>\n",
              "      <th>lexicon_count</th>\n",
              "      <th>difficult_words</th>\n",
              "      <th>last_editor_gender</th>\n",
              "      <th>category</th>\n",
              "      <th>text_clarity</th>\n",
              "    </tr>\n",
              "  </thead>\n",
              "  <tbody>\n",
              "    <tr>\n",
              "      <th>0</th>\n",
              "      <td>0.0</td>\n",
              "      <td>0.0</td>\n",
              "      <td>0.0</td>\n",
              "      <td>0.0</td>\n",
              "      <td>0.0</td>\n",
              "      <td>1.0</td>\n",
              "      <td>0.0</td>\n",
              "      <td>0.0</td>\n",
              "      <td>428209002237</td>\n",
              "      <td>Ramsay was born in Glasgow on 2 October 1852. ...</td>\n",
              "      <td>49</td>\n",
              "      <td>12.0</td>\n",
              "      <td>man</td>\n",
              "      <td>1</td>\n",
              "      <td>clear_enough</td>\n",
              "    </tr>\n",
              "    <tr>\n",
              "      <th>1</th>\n",
              "      <td>0.0</td>\n",
              "      <td>0.0</td>\n",
              "      <td>0.0</td>\n",
              "      <td>0.0</td>\n",
              "      <td>1.0</td>\n",
              "      <td>0.0</td>\n",
              "      <td>0.0</td>\n",
              "      <td>0.0</td>\n",
              "      <td>564218010072</td>\n",
              "      <td>It has been widely estimated for at least the ...</td>\n",
              "      <td>166</td>\n",
              "      <td>47.0</td>\n",
              "      <td>man</td>\n",
              "      <td>0</td>\n",
              "      <td>not_clear_enough</td>\n",
              "    </tr>\n",
              "    <tr>\n",
              "      <th>2</th>\n",
              "      <td>0.0</td>\n",
              "      <td>0.0</td>\n",
              "      <td>0.0</td>\n",
              "      <td>0.0</td>\n",
              "      <td>1.0</td>\n",
              "      <td>0.0</td>\n",
              "      <td>0.0</td>\n",
              "      <td>0.0</td>\n",
              "      <td>291401001672</td>\n",
              "      <td>He went on to win the Royal Medal of the Royal...</td>\n",
              "      <td>69</td>\n",
              "      <td>18.0</td>\n",
              "      <td>non-binary</td>\n",
              "      <td>1</td>\n",
              "      <td>clear_enough</td>\n",
              "    </tr>\n",
              "    <tr>\n",
              "      <th>3</th>\n",
              "      <td>0.0</td>\n",
              "      <td>0.0</td>\n",
              "      <td>1.0</td>\n",
              "      <td>0.0</td>\n",
              "      <td>0.0</td>\n",
              "      <td>0.0</td>\n",
              "      <td>0.0</td>\n",
              "      <td>0.0</td>\n",
              "      <td>31548004883</td>\n",
              "      <td>The changes have altered many underlying assum...</td>\n",
              "      <td>76</td>\n",
              "      <td>27.0</td>\n",
              "      <td>non-binary</td>\n",
              "      <td>4</td>\n",
              "      <td>clear_enough</td>\n",
              "    </tr>\n",
              "    <tr>\n",
              "      <th>4</th>\n",
              "      <td>0.0</td>\n",
              "      <td>0.0</td>\n",
              "      <td>0.0</td>\n",
              "      <td>0.0</td>\n",
              "      <td>0.0</td>\n",
              "      <td>0.0</td>\n",
              "      <td>0.0</td>\n",
              "      <td>1.0</td>\n",
              "      <td>50634005146</td>\n",
              "      <td>After these novels were published, Disraeli de...</td>\n",
              "      <td>200</td>\n",
              "      <td>47.0</td>\n",
              "      <td>man</td>\n",
              "      <td>1</td>\n",
              "      <td>not_clear_enough</td>\n",
              "    </tr>\n",
              "  </tbody>\n",
              "</table>\n",
              "</div>\n",
              "    <div class=\"colab-df-buttons\">\n",
              "\n",
              "  <div class=\"colab-df-container\">\n",
              "    <button class=\"colab-df-convert\" onclick=\"convertToInteractive('df-79f942ef-42f7-4d3c-8452-24d5e209bf7f')\"\n",
              "            title=\"Convert this dataframe to an interactive table.\"\n",
              "            style=\"display:none;\">\n",
              "\n",
              "  <svg xmlns=\"http://www.w3.org/2000/svg\" height=\"24px\" viewBox=\"0 -960 960 960\">\n",
              "    <path d=\"M120-120v-720h720v720H120Zm60-500h600v-160H180v160Zm220 220h160v-160H400v160Zm0 220h160v-160H400v160ZM180-400h160v-160H180v160Zm440 0h160v-160H620v160ZM180-180h160v-160H180v160Zm440 0h160v-160H620v160Z\"/>\n",
              "  </svg>\n",
              "    </button>\n",
              "\n",
              "  <style>\n",
              "    .colab-df-container {\n",
              "      display:flex;\n",
              "      gap: 12px;\n",
              "    }\n",
              "\n",
              "    .colab-df-convert {\n",
              "      background-color: #E8F0FE;\n",
              "      border: none;\n",
              "      border-radius: 50%;\n",
              "      cursor: pointer;\n",
              "      display: none;\n",
              "      fill: #1967D2;\n",
              "      height: 32px;\n",
              "      padding: 0 0 0 0;\n",
              "      width: 32px;\n",
              "    }\n",
              "\n",
              "    .colab-df-convert:hover {\n",
              "      background-color: #E2EBFA;\n",
              "      box-shadow: 0px 1px 2px rgba(60, 64, 67, 0.3), 0px 1px 3px 1px rgba(60, 64, 67, 0.15);\n",
              "      fill: #174EA6;\n",
              "    }\n",
              "\n",
              "    .colab-df-buttons div {\n",
              "      margin-bottom: 4px;\n",
              "    }\n",
              "\n",
              "    [theme=dark] .colab-df-convert {\n",
              "      background-color: #3B4455;\n",
              "      fill: #D2E3FC;\n",
              "    }\n",
              "\n",
              "    [theme=dark] .colab-df-convert:hover {\n",
              "      background-color: #434B5C;\n",
              "      box-shadow: 0px 1px 3px 1px rgba(0, 0, 0, 0.15);\n",
              "      filter: drop-shadow(0px 1px 2px rgba(0, 0, 0, 0.3));\n",
              "      fill: #FFFFFF;\n",
              "    }\n",
              "  </style>\n",
              "\n",
              "    <script>\n",
              "      const buttonEl =\n",
              "        document.querySelector('#df-79f942ef-42f7-4d3c-8452-24d5e209bf7f button.colab-df-convert');\n",
              "      buttonEl.style.display =\n",
              "        google.colab.kernel.accessAllowed ? 'block' : 'none';\n",
              "\n",
              "      async function convertToInteractive(key) {\n",
              "        const element = document.querySelector('#df-79f942ef-42f7-4d3c-8452-24d5e209bf7f');\n",
              "        const dataTable =\n",
              "          await google.colab.kernel.invokeFunction('convertToInteractive',\n",
              "                                                    [key], {});\n",
              "        if (!dataTable) return;\n",
              "\n",
              "        const docLinkHtml = 'Like what you see? Visit the ' +\n",
              "          '<a target=\"_blank\" href=https://colab.research.google.com/notebooks/data_table.ipynb>data table notebook</a>'\n",
              "          + ' to learn more about interactive tables.';\n",
              "        element.innerHTML = '';\n",
              "        dataTable['output_type'] = 'display_data';\n",
              "        await google.colab.output.renderOutput(dataTable, element);\n",
              "        const docLink = document.createElement('div');\n",
              "        docLink.innerHTML = docLinkHtml;\n",
              "        element.appendChild(docLink);\n",
              "      }\n",
              "    </script>\n",
              "  </div>\n",
              "\n",
              "\n",
              "<div id=\"df-1f37b377-250d-4b87-8849-d24f7e7de92e\">\n",
              "  <button class=\"colab-df-quickchart\" onclick=\"quickchart('df-1f37b377-250d-4b87-8849-d24f7e7de92e')\"\n",
              "            title=\"Suggest charts\"\n",
              "            style=\"display:none;\">\n",
              "\n",
              "<svg xmlns=\"http://www.w3.org/2000/svg\" height=\"24px\"viewBox=\"0 0 24 24\"\n",
              "     width=\"24px\">\n",
              "    <g>\n",
              "        <path d=\"M19 3H5c-1.1 0-2 .9-2 2v14c0 1.1.9 2 2 2h14c1.1 0 2-.9 2-2V5c0-1.1-.9-2-2-2zM9 17H7v-7h2v7zm4 0h-2V7h2v10zm4 0h-2v-4h2v4z\"/>\n",
              "    </g>\n",
              "</svg>\n",
              "  </button>\n",
              "\n",
              "<style>\n",
              "  .colab-df-quickchart {\n",
              "      --bg-color: #E8F0FE;\n",
              "      --fill-color: #1967D2;\n",
              "      --hover-bg-color: #E2EBFA;\n",
              "      --hover-fill-color: #174EA6;\n",
              "      --disabled-fill-color: #AAA;\n",
              "      --disabled-bg-color: #DDD;\n",
              "  }\n",
              "\n",
              "  [theme=dark] .colab-df-quickchart {\n",
              "      --bg-color: #3B4455;\n",
              "      --fill-color: #D2E3FC;\n",
              "      --hover-bg-color: #434B5C;\n",
              "      --hover-fill-color: #FFFFFF;\n",
              "      --disabled-bg-color: #3B4455;\n",
              "      --disabled-fill-color: #666;\n",
              "  }\n",
              "\n",
              "  .colab-df-quickchart {\n",
              "    background-color: var(--bg-color);\n",
              "    border: none;\n",
              "    border-radius: 50%;\n",
              "    cursor: pointer;\n",
              "    display: none;\n",
              "    fill: var(--fill-color);\n",
              "    height: 32px;\n",
              "    padding: 0;\n",
              "    width: 32px;\n",
              "  }\n",
              "\n",
              "  .colab-df-quickchart:hover {\n",
              "    background-color: var(--hover-bg-color);\n",
              "    box-shadow: 0 1px 2px rgba(60, 64, 67, 0.3), 0 1px 3px 1px rgba(60, 64, 67, 0.15);\n",
              "    fill: var(--button-hover-fill-color);\n",
              "  }\n",
              "\n",
              "  .colab-df-quickchart-complete:disabled,\n",
              "  .colab-df-quickchart-complete:disabled:hover {\n",
              "    background-color: var(--disabled-bg-color);\n",
              "    fill: var(--disabled-fill-color);\n",
              "    box-shadow: none;\n",
              "  }\n",
              "\n",
              "  .colab-df-spinner {\n",
              "    border: 2px solid var(--fill-color);\n",
              "    border-color: transparent;\n",
              "    border-bottom-color: var(--fill-color);\n",
              "    animation:\n",
              "      spin 1s steps(1) infinite;\n",
              "  }\n",
              "\n",
              "  @keyframes spin {\n",
              "    0% {\n",
              "      border-color: transparent;\n",
              "      border-bottom-color: var(--fill-color);\n",
              "      border-left-color: var(--fill-color);\n",
              "    }\n",
              "    20% {\n",
              "      border-color: transparent;\n",
              "      border-left-color: var(--fill-color);\n",
              "      border-top-color: var(--fill-color);\n",
              "    }\n",
              "    30% {\n",
              "      border-color: transparent;\n",
              "      border-left-color: var(--fill-color);\n",
              "      border-top-color: var(--fill-color);\n",
              "      border-right-color: var(--fill-color);\n",
              "    }\n",
              "    40% {\n",
              "      border-color: transparent;\n",
              "      border-right-color: var(--fill-color);\n",
              "      border-top-color: var(--fill-color);\n",
              "    }\n",
              "    60% {\n",
              "      border-color: transparent;\n",
              "      border-right-color: var(--fill-color);\n",
              "    }\n",
              "    80% {\n",
              "      border-color: transparent;\n",
              "      border-right-color: var(--fill-color);\n",
              "      border-bottom-color: var(--fill-color);\n",
              "    }\n",
              "    90% {\n",
              "      border-color: transparent;\n",
              "      border-bottom-color: var(--fill-color);\n",
              "    }\n",
              "  }\n",
              "</style>\n",
              "\n",
              "  <script>\n",
              "    async function quickchart(key) {\n",
              "      const quickchartButtonEl =\n",
              "        document.querySelector('#' + key + ' button');\n",
              "      quickchartButtonEl.disabled = true;  // To prevent multiple clicks.\n",
              "      quickchartButtonEl.classList.add('colab-df-spinner');\n",
              "      try {\n",
              "        const charts = await google.colab.kernel.invokeFunction(\n",
              "            'suggestCharts', [key], {});\n",
              "      } catch (error) {\n",
              "        console.error('Error during call to suggestCharts:', error);\n",
              "      }\n",
              "      quickchartButtonEl.classList.remove('colab-df-spinner');\n",
              "      quickchartButtonEl.classList.add('colab-df-quickchart-complete');\n",
              "    }\n",
              "    (() => {\n",
              "      let quickchartButtonEl =\n",
              "        document.querySelector('#df-1f37b377-250d-4b87-8849-d24f7e7de92e button');\n",
              "      quickchartButtonEl.style.display =\n",
              "        google.colab.kernel.accessAllowed ? 'block' : 'none';\n",
              "    })();\n",
              "  </script>\n",
              "</div>\n",
              "    </div>\n",
              "  </div>\n"
            ],
            "application/vnd.google.colaboratory.intrinsic+json": {
              "type": "dataframe",
              "variable_name": "task2_data",
              "summary": "{\n  \"name\": \"task2_data\",\n  \"rows\": 9090,\n  \"fields\": [\n    {\n      \"column\": \"has_entity_ORGNOPRODUCTNOPERSONNO\",\n      \"properties\": {\n        \"dtype\": \"date\",\n        \"min\": 0.0,\n        \"max\": 1.0,\n        \"num_unique_values\": 2,\n        \"samples\": [\n          1.0,\n          0.0\n        ],\n        \"semantic_type\": \"\",\n        \"description\": \"\"\n      }\n    },\n    {\n      \"column\": \"has_entity_ORGNOPRODUCTNOPERSONYES\",\n      \"properties\": {\n        \"dtype\": \"date\",\n        \"min\": 0.0,\n        \"max\": 1.0,\n        \"num_unique_values\": 2,\n        \"samples\": [\n          1.0,\n          0.0\n        ],\n        \"semantic_type\": \"\",\n        \"description\": \"\"\n      }\n    },\n    {\n      \"column\": \"has_entity_ORGNOPRODUCTYESPERSONNO\",\n      \"properties\": {\n        \"dtype\": \"date\",\n        \"min\": 0.0,\n        \"max\": 1.0,\n        \"num_unique_values\": 2,\n        \"samples\": [\n          1.0,\n          0.0\n        ],\n        \"semantic_type\": \"\",\n        \"description\": \"\"\n      }\n    },\n    {\n      \"column\": \"has_entity_ORGNOPRODUCTYESPERSONYES\",\n      \"properties\": {\n        \"dtype\": \"date\",\n        \"min\": 0.0,\n        \"max\": 1.0,\n        \"num_unique_values\": 2,\n        \"samples\": [\n          1.0,\n          0.0\n        ],\n        \"semantic_type\": \"\",\n        \"description\": \"\"\n      }\n    },\n    {\n      \"column\": \"has_entity_ORGYESPRODUCTNOPERSONNO\",\n      \"properties\": {\n        \"dtype\": \"date\",\n        \"min\": 0.0,\n        \"max\": 1.0,\n        \"num_unique_values\": 2,\n        \"samples\": [\n          1.0,\n          0.0\n        ],\n        \"semantic_type\": \"\",\n        \"description\": \"\"\n      }\n    },\n    {\n      \"column\": \"has_entity_ORGYESPRODUCTNOPERSONYES\",\n      \"properties\": {\n        \"dtype\": \"date\",\n        \"min\": 0.0,\n        \"max\": 1.0,\n        \"num_unique_values\": 2,\n        \"samples\": [\n          0.0,\n          1.0\n        ],\n        \"semantic_type\": \"\",\n        \"description\": \"\"\n      }\n    },\n    {\n      \"column\": \"has_entity_ORGYESPRODUCTYESPERSONNO\",\n      \"properties\": {\n        \"dtype\": \"date\",\n        \"min\": 0.0,\n        \"max\": 1.0,\n        \"num_unique_values\": 2,\n        \"samples\": [\n          1.0,\n          0.0\n        ],\n        \"semantic_type\": \"\",\n        \"description\": \"\"\n      }\n    },\n    {\n      \"column\": \"has_entity_ORGYESPRODUCTYESPERSONYES\",\n      \"properties\": {\n        \"dtype\": \"date\",\n        \"min\": 0.0,\n        \"max\": 1.0,\n        \"num_unique_values\": 2,\n        \"samples\": [\n          1.0,\n          0.0\n        ],\n        \"semantic_type\": \"\",\n        \"description\": \"\"\n      }\n    },\n    {\n      \"column\": \"par_id\",\n      \"properties\": {\n        \"dtype\": \"date\",\n        \"min\": 85003276,\n        \"max\": 1058779003275,\n        \"num_unique_values\": 9090,\n        \"samples\": [\n          998224012597,\n          985985112495\n        ],\n        \"semantic_type\": \"\",\n        \"description\": \"\"\n      }\n    },\n    {\n      \"column\": \"paragraph\",\n      \"properties\": {\n        \"dtype\": \"string\",\n        \"num_unique_values\": 8950,\n        \"samples\": [\n          \"it includes in its comprehension an affirmative recognition of the existing state of things, at the same time, also, the recognition of the negation of that state, of its inevitable breaking up; because it regards every historically developed social form as in fluid movement, and therefore takes into account its transient nature not less than its momentary existence; because it lets nothing impose upon it, and is in its essence critical and revolutionary.\",\n          \" He visited many places around the globe on extensive travel tours starting from 1908 with a trip to Australia and New Zealand which he visited again in 1938\\u20131939.Aston was a skilled photographer and interested in astronomy. He joined several expeditions to study solar eclipses in Benkoeben in 1925, Sumatra in 1932, Magog in Canada on 31 August 1932 and Kamishari Hokkaido, Japan on June19th 1936. He also planned to attend expeditions to South Africa in 1940 and Brazil in 1945 in later life. He never married.\"\n        ],\n        \"semantic_type\": \"\",\n        \"description\": \"\"\n      }\n    },\n    {\n      \"column\": \"lexicon_count\",\n      \"properties\": {\n        \"dtype\": \"date\",\n        \"min\": 0,\n        \"max\": 653,\n        \"num_unique_values\": 348,\n        \"samples\": [\n          237,\n          82\n        ],\n        \"semantic_type\": \"\",\n        \"description\": \"\"\n      }\n    },\n    {\n      \"column\": \"difficult_words\",\n      \"properties\": {\n        \"dtype\": \"date\",\n        \"min\": 0.0,\n        \"max\": 143.0,\n        \"num_unique_values\": 113,\n        \"samples\": [\n          96.0,\n          36.0\n        ],\n        \"semantic_type\": \"\",\n        \"description\": \"\"\n      }\n    },\n    {\n      \"column\": \"last_editor_gender\",\n      \"properties\": {\n        \"dtype\": \"category\",\n        \"num_unique_values\": 4,\n        \"samples\": [\n          \"non-binary\",\n          \"prefer_not_to_say\"\n        ],\n        \"semantic_type\": \"\",\n        \"description\": \"\"\n      }\n    },\n    {\n      \"column\": \"category\",\n      \"properties\": {\n        \"dtype\": \"number\",\n        \"std\": 1,\n        \"min\": 0,\n        \"max\": 4,\n        \"num_unique_values\": 5,\n        \"samples\": [\n          0,\n          2\n        ],\n        \"semantic_type\": \"\",\n        \"description\": \"\"\n      }\n    },\n    {\n      \"column\": \"text_clarity\",\n      \"properties\": {\n        \"dtype\": \"category\",\n        \"num_unique_values\": 2,\n        \"samples\": [\n          \"not_clear_enough\",\n          \"clear_enough\"\n        ],\n        \"semantic_type\": \"\",\n        \"description\": \"\"\n      }\n    }\n  ]\n}"
            }
          },
          "metadata": {},
          "execution_count": 164
        }
      ]
    },
    {
      "cell_type": "code",
      "source": [
        "lblEncoder = LabelEncoder()\n",
        "\n",
        "lblEncoder = lblEncoder.fit(task2_data['category']) # encoding has entity column\n",
        "task2_data['category'] = lblEncoder.transform(task2_data['category'])\n",
        "\n",
        "lblEncoder = lblEncoder.fit(task2_data['last_editor_gender']) # encodinglast_editor_gender column\n",
        "task2_data['last_editor_gender'] = lblEncoder.transform(task2_data['last_editor_gender'])\n",
        "\n",
        "\n",
        "\n"
      ],
      "metadata": {
        "id": "IWeNDUom1BDf"
      },
      "execution_count": null,
      "outputs": []
    },
    {
      "cell_type": "markdown",
      "source": [
        "## Text Cleaning for Task2\n",
        "\n",
        "Before splitting the dataset I preferred to clean text rather than using previous task's clean text.\n"
      ],
      "metadata": {
        "id": "_4y5sycXD0ok"
      }
    },
    {
      "cell_type": "code",
      "source": [
        "t0 = tt()\n",
        "\n",
        "task2_data['clean_lemmatized_text'] = task2_data['paragraph'].apply(clean_lemmatize)\n",
        "\n",
        "\n",
        "task2_data[['paragraph', 'clean_lemmatized_text']].head()\n",
        "\n",
        "print(f'Time elapsed for processing data: {(tt() - t0):.2f} seconds')"
      ],
      "metadata": {
        "colab": {
          "base_uri": "https://localhost:8080/"
        },
        "id": "r5lm90QS1uCK",
        "outputId": "c3134a5f-a48d-4b4c-8ce5-8aa7b17c8a99"
      },
      "execution_count": null,
      "outputs": [
        {
          "output_type": "stream",
          "name": "stdout",
          "text": [
            "Time elapsed for processing data: 230.26 seconds\n"
          ]
        }
      ]
    },
    {
      "cell_type": "code",
      "source": [
        "\n",
        "task2_data.drop(['paragraph', 'par_id'], axis=1, inplace=True)\n",
        "task2_data.head()"
      ],
      "metadata": {
        "id": "h-lxl9cLQCqe",
        "colab": {
          "base_uri": "https://localhost:8080/",
          "height": 348
        },
        "outputId": "021392c4-6a51-435d-bf6f-8b84391902ed"
      },
      "execution_count": null,
      "outputs": [
        {
          "output_type": "execute_result",
          "data": {
            "text/plain": [
              "  has_entity_ORGNOPRODUCTNOPERSONNO has_entity_ORGNOPRODUCTNOPERSONYES  \\\n",
              "0                               0.0                                0.0   \n",
              "1                               0.0                                0.0   \n",
              "2                               0.0                                0.0   \n",
              "3                               0.0                                0.0   \n",
              "4                               0.0                                0.0   \n",
              "\n",
              "  has_entity_ORGNOPRODUCTYESPERSONNO has_entity_ORGNOPRODUCTYESPERSONYES  \\\n",
              "0                                0.0                                 0.0   \n",
              "1                                0.0                                 0.0   \n",
              "2                                0.0                                 0.0   \n",
              "3                                1.0                                 0.0   \n",
              "4                                0.0                                 0.0   \n",
              "\n",
              "  has_entity_ORGYESPRODUCTNOPERSONNO has_entity_ORGYESPRODUCTNOPERSONYES  \\\n",
              "0                                0.0                                 1.0   \n",
              "1                                1.0                                 0.0   \n",
              "2                                1.0                                 0.0   \n",
              "3                                0.0                                 0.0   \n",
              "4                                0.0                                 0.0   \n",
              "\n",
              "  has_entity_ORGYESPRODUCTYESPERSONNO has_entity_ORGYESPRODUCTYESPERSONYES  \\\n",
              "0                                 0.0                                  0.0   \n",
              "1                                 0.0                                  0.0   \n",
              "2                                 0.0                                  0.0   \n",
              "3                                 0.0                                  0.0   \n",
              "4                                 0.0                                  1.0   \n",
              "\n",
              "  lexicon_count difficult_words  last_editor_gender  category  \\\n",
              "0            49            12.0                   0         1   \n",
              "1           166            47.0                   0         0   \n",
              "2            69            18.0                   1         1   \n",
              "3            76            27.0                   1         4   \n",
              "4           200            47.0                   0         1   \n",
              "\n",
              "       text_clarity                              clean_lemmatized_text  \n",
              "0      clear_enough  ramsay bear glasgow 2 october 1852 nephew geol...  \n",
              "1  not_clear_enough  widely estimate generation program resource de...  \n",
              "2      clear_enough  go win royal medal royal society 1971 copley m...  \n",
              "3      clear_enough  change alter underlying assumption right thing...  \n",
              "4  not_clear_enough  novel publish disraeli declare write turn atte...  "
            ],
            "text/html": [
              "\n",
              "  <div id=\"df-3d46c5c0-97a1-4070-9ca7-349d169243fc\" class=\"colab-df-container\">\n",
              "    <div>\n",
              "<style scoped>\n",
              "    .dataframe tbody tr th:only-of-type {\n",
              "        vertical-align: middle;\n",
              "    }\n",
              "\n",
              "    .dataframe tbody tr th {\n",
              "        vertical-align: top;\n",
              "    }\n",
              "\n",
              "    .dataframe thead th {\n",
              "        text-align: right;\n",
              "    }\n",
              "</style>\n",
              "<table border=\"1\" class=\"dataframe\">\n",
              "  <thead>\n",
              "    <tr style=\"text-align: right;\">\n",
              "      <th></th>\n",
              "      <th>has_entity_ORGNOPRODUCTNOPERSONNO</th>\n",
              "      <th>has_entity_ORGNOPRODUCTNOPERSONYES</th>\n",
              "      <th>has_entity_ORGNOPRODUCTYESPERSONNO</th>\n",
              "      <th>has_entity_ORGNOPRODUCTYESPERSONYES</th>\n",
              "      <th>has_entity_ORGYESPRODUCTNOPERSONNO</th>\n",
              "      <th>has_entity_ORGYESPRODUCTNOPERSONYES</th>\n",
              "      <th>has_entity_ORGYESPRODUCTYESPERSONNO</th>\n",
              "      <th>has_entity_ORGYESPRODUCTYESPERSONYES</th>\n",
              "      <th>lexicon_count</th>\n",
              "      <th>difficult_words</th>\n",
              "      <th>last_editor_gender</th>\n",
              "      <th>category</th>\n",
              "      <th>text_clarity</th>\n",
              "      <th>clean_lemmatized_text</th>\n",
              "    </tr>\n",
              "  </thead>\n",
              "  <tbody>\n",
              "    <tr>\n",
              "      <th>0</th>\n",
              "      <td>0.0</td>\n",
              "      <td>0.0</td>\n",
              "      <td>0.0</td>\n",
              "      <td>0.0</td>\n",
              "      <td>0.0</td>\n",
              "      <td>1.0</td>\n",
              "      <td>0.0</td>\n",
              "      <td>0.0</td>\n",
              "      <td>49</td>\n",
              "      <td>12.0</td>\n",
              "      <td>0</td>\n",
              "      <td>1</td>\n",
              "      <td>clear_enough</td>\n",
              "      <td>ramsay bear glasgow 2 october 1852 nephew geol...</td>\n",
              "    </tr>\n",
              "    <tr>\n",
              "      <th>1</th>\n",
              "      <td>0.0</td>\n",
              "      <td>0.0</td>\n",
              "      <td>0.0</td>\n",
              "      <td>0.0</td>\n",
              "      <td>1.0</td>\n",
              "      <td>0.0</td>\n",
              "      <td>0.0</td>\n",
              "      <td>0.0</td>\n",
              "      <td>166</td>\n",
              "      <td>47.0</td>\n",
              "      <td>0</td>\n",
              "      <td>0</td>\n",
              "      <td>not_clear_enough</td>\n",
              "      <td>widely estimate generation program resource de...</td>\n",
              "    </tr>\n",
              "    <tr>\n",
              "      <th>2</th>\n",
              "      <td>0.0</td>\n",
              "      <td>0.0</td>\n",
              "      <td>0.0</td>\n",
              "      <td>0.0</td>\n",
              "      <td>1.0</td>\n",
              "      <td>0.0</td>\n",
              "      <td>0.0</td>\n",
              "      <td>0.0</td>\n",
              "      <td>69</td>\n",
              "      <td>18.0</td>\n",
              "      <td>1</td>\n",
              "      <td>1</td>\n",
              "      <td>clear_enough</td>\n",
              "      <td>go win royal medal royal society 1971 copley m...</td>\n",
              "    </tr>\n",
              "    <tr>\n",
              "      <th>3</th>\n",
              "      <td>0.0</td>\n",
              "      <td>0.0</td>\n",
              "      <td>1.0</td>\n",
              "      <td>0.0</td>\n",
              "      <td>0.0</td>\n",
              "      <td>0.0</td>\n",
              "      <td>0.0</td>\n",
              "      <td>0.0</td>\n",
              "      <td>76</td>\n",
              "      <td>27.0</td>\n",
              "      <td>1</td>\n",
              "      <td>4</td>\n",
              "      <td>clear_enough</td>\n",
              "      <td>change alter underlying assumption right thing...</td>\n",
              "    </tr>\n",
              "    <tr>\n",
              "      <th>4</th>\n",
              "      <td>0.0</td>\n",
              "      <td>0.0</td>\n",
              "      <td>0.0</td>\n",
              "      <td>0.0</td>\n",
              "      <td>0.0</td>\n",
              "      <td>0.0</td>\n",
              "      <td>0.0</td>\n",
              "      <td>1.0</td>\n",
              "      <td>200</td>\n",
              "      <td>47.0</td>\n",
              "      <td>0</td>\n",
              "      <td>1</td>\n",
              "      <td>not_clear_enough</td>\n",
              "      <td>novel publish disraeli declare write turn atte...</td>\n",
              "    </tr>\n",
              "  </tbody>\n",
              "</table>\n",
              "</div>\n",
              "    <div class=\"colab-df-buttons\">\n",
              "\n",
              "  <div class=\"colab-df-container\">\n",
              "    <button class=\"colab-df-convert\" onclick=\"convertToInteractive('df-3d46c5c0-97a1-4070-9ca7-349d169243fc')\"\n",
              "            title=\"Convert this dataframe to an interactive table.\"\n",
              "            style=\"display:none;\">\n",
              "\n",
              "  <svg xmlns=\"http://www.w3.org/2000/svg\" height=\"24px\" viewBox=\"0 -960 960 960\">\n",
              "    <path d=\"M120-120v-720h720v720H120Zm60-500h600v-160H180v160Zm220 220h160v-160H400v160Zm0 220h160v-160H400v160ZM180-400h160v-160H180v160Zm440 0h160v-160H620v160ZM180-180h160v-160H180v160Zm440 0h160v-160H620v160Z\"/>\n",
              "  </svg>\n",
              "    </button>\n",
              "\n",
              "  <style>\n",
              "    .colab-df-container {\n",
              "      display:flex;\n",
              "      gap: 12px;\n",
              "    }\n",
              "\n",
              "    .colab-df-convert {\n",
              "      background-color: #E8F0FE;\n",
              "      border: none;\n",
              "      border-radius: 50%;\n",
              "      cursor: pointer;\n",
              "      display: none;\n",
              "      fill: #1967D2;\n",
              "      height: 32px;\n",
              "      padding: 0 0 0 0;\n",
              "      width: 32px;\n",
              "    }\n",
              "\n",
              "    .colab-df-convert:hover {\n",
              "      background-color: #E2EBFA;\n",
              "      box-shadow: 0px 1px 2px rgba(60, 64, 67, 0.3), 0px 1px 3px 1px rgba(60, 64, 67, 0.15);\n",
              "      fill: #174EA6;\n",
              "    }\n",
              "\n",
              "    .colab-df-buttons div {\n",
              "      margin-bottom: 4px;\n",
              "    }\n",
              "\n",
              "    [theme=dark] .colab-df-convert {\n",
              "      background-color: #3B4455;\n",
              "      fill: #D2E3FC;\n",
              "    }\n",
              "\n",
              "    [theme=dark] .colab-df-convert:hover {\n",
              "      background-color: #434B5C;\n",
              "      box-shadow: 0px 1px 3px 1px rgba(0, 0, 0, 0.15);\n",
              "      filter: drop-shadow(0px 1px 2px rgba(0, 0, 0, 0.3));\n",
              "      fill: #FFFFFF;\n",
              "    }\n",
              "  </style>\n",
              "\n",
              "    <script>\n",
              "      const buttonEl =\n",
              "        document.querySelector('#df-3d46c5c0-97a1-4070-9ca7-349d169243fc button.colab-df-convert');\n",
              "      buttonEl.style.display =\n",
              "        google.colab.kernel.accessAllowed ? 'block' : 'none';\n",
              "\n",
              "      async function convertToInteractive(key) {\n",
              "        const element = document.querySelector('#df-3d46c5c0-97a1-4070-9ca7-349d169243fc');\n",
              "        const dataTable =\n",
              "          await google.colab.kernel.invokeFunction('convertToInteractive',\n",
              "                                                    [key], {});\n",
              "        if (!dataTable) return;\n",
              "\n",
              "        const docLinkHtml = 'Like what you see? Visit the ' +\n",
              "          '<a target=\"_blank\" href=https://colab.research.google.com/notebooks/data_table.ipynb>data table notebook</a>'\n",
              "          + ' to learn more about interactive tables.';\n",
              "        element.innerHTML = '';\n",
              "        dataTable['output_type'] = 'display_data';\n",
              "        await google.colab.output.renderOutput(dataTable, element);\n",
              "        const docLink = document.createElement('div');\n",
              "        docLink.innerHTML = docLinkHtml;\n",
              "        element.appendChild(docLink);\n",
              "      }\n",
              "    </script>\n",
              "  </div>\n",
              "\n",
              "\n",
              "<div id=\"df-5ca6939d-4e09-4836-9f16-8f68edecdaad\">\n",
              "  <button class=\"colab-df-quickchart\" onclick=\"quickchart('df-5ca6939d-4e09-4836-9f16-8f68edecdaad')\"\n",
              "            title=\"Suggest charts\"\n",
              "            style=\"display:none;\">\n",
              "\n",
              "<svg xmlns=\"http://www.w3.org/2000/svg\" height=\"24px\"viewBox=\"0 0 24 24\"\n",
              "     width=\"24px\">\n",
              "    <g>\n",
              "        <path d=\"M19 3H5c-1.1 0-2 .9-2 2v14c0 1.1.9 2 2 2h14c1.1 0 2-.9 2-2V5c0-1.1-.9-2-2-2zM9 17H7v-7h2v7zm4 0h-2V7h2v10zm4 0h-2v-4h2v4z\"/>\n",
              "    </g>\n",
              "</svg>\n",
              "  </button>\n",
              "\n",
              "<style>\n",
              "  .colab-df-quickchart {\n",
              "      --bg-color: #E8F0FE;\n",
              "      --fill-color: #1967D2;\n",
              "      --hover-bg-color: #E2EBFA;\n",
              "      --hover-fill-color: #174EA6;\n",
              "      --disabled-fill-color: #AAA;\n",
              "      --disabled-bg-color: #DDD;\n",
              "  }\n",
              "\n",
              "  [theme=dark] .colab-df-quickchart {\n",
              "      --bg-color: #3B4455;\n",
              "      --fill-color: #D2E3FC;\n",
              "      --hover-bg-color: #434B5C;\n",
              "      --hover-fill-color: #FFFFFF;\n",
              "      --disabled-bg-color: #3B4455;\n",
              "      --disabled-fill-color: #666;\n",
              "  }\n",
              "\n",
              "  .colab-df-quickchart {\n",
              "    background-color: var(--bg-color);\n",
              "    border: none;\n",
              "    border-radius: 50%;\n",
              "    cursor: pointer;\n",
              "    display: none;\n",
              "    fill: var(--fill-color);\n",
              "    height: 32px;\n",
              "    padding: 0;\n",
              "    width: 32px;\n",
              "  }\n",
              "\n",
              "  .colab-df-quickchart:hover {\n",
              "    background-color: var(--hover-bg-color);\n",
              "    box-shadow: 0 1px 2px rgba(60, 64, 67, 0.3), 0 1px 3px 1px rgba(60, 64, 67, 0.15);\n",
              "    fill: var(--button-hover-fill-color);\n",
              "  }\n",
              "\n",
              "  .colab-df-quickchart-complete:disabled,\n",
              "  .colab-df-quickchart-complete:disabled:hover {\n",
              "    background-color: var(--disabled-bg-color);\n",
              "    fill: var(--disabled-fill-color);\n",
              "    box-shadow: none;\n",
              "  }\n",
              "\n",
              "  .colab-df-spinner {\n",
              "    border: 2px solid var(--fill-color);\n",
              "    border-color: transparent;\n",
              "    border-bottom-color: var(--fill-color);\n",
              "    animation:\n",
              "      spin 1s steps(1) infinite;\n",
              "  }\n",
              "\n",
              "  @keyframes spin {\n",
              "    0% {\n",
              "      border-color: transparent;\n",
              "      border-bottom-color: var(--fill-color);\n",
              "      border-left-color: var(--fill-color);\n",
              "    }\n",
              "    20% {\n",
              "      border-color: transparent;\n",
              "      border-left-color: var(--fill-color);\n",
              "      border-top-color: var(--fill-color);\n",
              "    }\n",
              "    30% {\n",
              "      border-color: transparent;\n",
              "      border-left-color: var(--fill-color);\n",
              "      border-top-color: var(--fill-color);\n",
              "      border-right-color: var(--fill-color);\n",
              "    }\n",
              "    40% {\n",
              "      border-color: transparent;\n",
              "      border-right-color: var(--fill-color);\n",
              "      border-top-color: var(--fill-color);\n",
              "    }\n",
              "    60% {\n",
              "      border-color: transparent;\n",
              "      border-right-color: var(--fill-color);\n",
              "    }\n",
              "    80% {\n",
              "      border-color: transparent;\n",
              "      border-right-color: var(--fill-color);\n",
              "      border-bottom-color: var(--fill-color);\n",
              "    }\n",
              "    90% {\n",
              "      border-color: transparent;\n",
              "      border-bottom-color: var(--fill-color);\n",
              "    }\n",
              "  }\n",
              "</style>\n",
              "\n",
              "  <script>\n",
              "    async function quickchart(key) {\n",
              "      const quickchartButtonEl =\n",
              "        document.querySelector('#' + key + ' button');\n",
              "      quickchartButtonEl.disabled = true;  // To prevent multiple clicks.\n",
              "      quickchartButtonEl.classList.add('colab-df-spinner');\n",
              "      try {\n",
              "        const charts = await google.colab.kernel.invokeFunction(\n",
              "            'suggestCharts', [key], {});\n",
              "      } catch (error) {\n",
              "        console.error('Error during call to suggestCharts:', error);\n",
              "      }\n",
              "      quickchartButtonEl.classList.remove('colab-df-spinner');\n",
              "      quickchartButtonEl.classList.add('colab-df-quickchart-complete');\n",
              "    }\n",
              "    (() => {\n",
              "      let quickchartButtonEl =\n",
              "        document.querySelector('#df-5ca6939d-4e09-4836-9f16-8f68edecdaad button');\n",
              "      quickchartButtonEl.style.display =\n",
              "        google.colab.kernel.accessAllowed ? 'block' : 'none';\n",
              "    })();\n",
              "  </script>\n",
              "</div>\n",
              "    </div>\n",
              "  </div>\n"
            ],
            "application/vnd.google.colaboratory.intrinsic+json": {
              "type": "dataframe",
              "variable_name": "task2_data",
              "summary": "{\n  \"name\": \"task2_data\",\n  \"rows\": 9090,\n  \"fields\": [\n    {\n      \"column\": \"has_entity_ORGNOPRODUCTNOPERSONNO\",\n      \"properties\": {\n        \"dtype\": \"date\",\n        \"min\": 0.0,\n        \"max\": 1.0,\n        \"num_unique_values\": 2,\n        \"samples\": [\n          1.0,\n          0.0\n        ],\n        \"semantic_type\": \"\",\n        \"description\": \"\"\n      }\n    },\n    {\n      \"column\": \"has_entity_ORGNOPRODUCTNOPERSONYES\",\n      \"properties\": {\n        \"dtype\": \"date\",\n        \"min\": 0.0,\n        \"max\": 1.0,\n        \"num_unique_values\": 2,\n        \"samples\": [\n          1.0,\n          0.0\n        ],\n        \"semantic_type\": \"\",\n        \"description\": \"\"\n      }\n    },\n    {\n      \"column\": \"has_entity_ORGNOPRODUCTYESPERSONNO\",\n      \"properties\": {\n        \"dtype\": \"date\",\n        \"min\": 0.0,\n        \"max\": 1.0,\n        \"num_unique_values\": 2,\n        \"samples\": [\n          1.0,\n          0.0\n        ],\n        \"semantic_type\": \"\",\n        \"description\": \"\"\n      }\n    },\n    {\n      \"column\": \"has_entity_ORGNOPRODUCTYESPERSONYES\",\n      \"properties\": {\n        \"dtype\": \"date\",\n        \"min\": 0.0,\n        \"max\": 1.0,\n        \"num_unique_values\": 2,\n        \"samples\": [\n          1.0,\n          0.0\n        ],\n        \"semantic_type\": \"\",\n        \"description\": \"\"\n      }\n    },\n    {\n      \"column\": \"has_entity_ORGYESPRODUCTNOPERSONNO\",\n      \"properties\": {\n        \"dtype\": \"date\",\n        \"min\": 0.0,\n        \"max\": 1.0,\n        \"num_unique_values\": 2,\n        \"samples\": [\n          1.0,\n          0.0\n        ],\n        \"semantic_type\": \"\",\n        \"description\": \"\"\n      }\n    },\n    {\n      \"column\": \"has_entity_ORGYESPRODUCTNOPERSONYES\",\n      \"properties\": {\n        \"dtype\": \"date\",\n        \"min\": 0.0,\n        \"max\": 1.0,\n        \"num_unique_values\": 2,\n        \"samples\": [\n          0.0,\n          1.0\n        ],\n        \"semantic_type\": \"\",\n        \"description\": \"\"\n      }\n    },\n    {\n      \"column\": \"has_entity_ORGYESPRODUCTYESPERSONNO\",\n      \"properties\": {\n        \"dtype\": \"date\",\n        \"min\": 0.0,\n        \"max\": 1.0,\n        \"num_unique_values\": 2,\n        \"samples\": [\n          1.0,\n          0.0\n        ],\n        \"semantic_type\": \"\",\n        \"description\": \"\"\n      }\n    },\n    {\n      \"column\": \"has_entity_ORGYESPRODUCTYESPERSONYES\",\n      \"properties\": {\n        \"dtype\": \"date\",\n        \"min\": 0.0,\n        \"max\": 1.0,\n        \"num_unique_values\": 2,\n        \"samples\": [\n          1.0,\n          0.0\n        ],\n        \"semantic_type\": \"\",\n        \"description\": \"\"\n      }\n    },\n    {\n      \"column\": \"lexicon_count\",\n      \"properties\": {\n        \"dtype\": \"date\",\n        \"min\": 0,\n        \"max\": 653,\n        \"num_unique_values\": 348,\n        \"samples\": [\n          237,\n          82\n        ],\n        \"semantic_type\": \"\",\n        \"description\": \"\"\n      }\n    },\n    {\n      \"column\": \"difficult_words\",\n      \"properties\": {\n        \"dtype\": \"date\",\n        \"min\": 0.0,\n        \"max\": 143.0,\n        \"num_unique_values\": 113,\n        \"samples\": [\n          96.0,\n          36.0\n        ],\n        \"semantic_type\": \"\",\n        \"description\": \"\"\n      }\n    },\n    {\n      \"column\": \"last_editor_gender\",\n      \"properties\": {\n        \"dtype\": \"number\",\n        \"std\": 1,\n        \"min\": 0,\n        \"max\": 3,\n        \"num_unique_values\": 4,\n        \"samples\": [\n          1,\n          2\n        ],\n        \"semantic_type\": \"\",\n        \"description\": \"\"\n      }\n    },\n    {\n      \"column\": \"category\",\n      \"properties\": {\n        \"dtype\": \"number\",\n        \"std\": 1,\n        \"min\": 0,\n        \"max\": 4,\n        \"num_unique_values\": 5,\n        \"samples\": [\n          0,\n          2\n        ],\n        \"semantic_type\": \"\",\n        \"description\": \"\"\n      }\n    },\n    {\n      \"column\": \"text_clarity\",\n      \"properties\": {\n        \"dtype\": \"category\",\n        \"num_unique_values\": 2,\n        \"samples\": [\n          \"not_clear_enough\",\n          \"clear_enough\"\n        ],\n        \"semantic_type\": \"\",\n        \"description\": \"\"\n      }\n    },\n    {\n      \"column\": \"clean_lemmatized_text\",\n      \"properties\": {\n        \"dtype\": \"string\",\n        \"num_unique_values\": 8944,\n        \"samples\": [\n          \"bbc minute category cheap find world produce good quality bbc go swinge staff cut cut bone divert licence fee money cut quality service lot people want bbc weaken talk terrible tax licence fee good bargain go radio channel god know tv channel piffle\",\n          \"heaviside opponent albert einstein theory relativity mathematician howard eve comment heaviside rate physicist time impugn einstein invective relativity theory border absurd\\\".in late year behavior eccentric accord associate b.a behrend recluse averse meet people deliver manuscript electrician paper grocery store editor pick\"\n        ],\n        \"semantic_type\": \"\",\n        \"description\": \"\"\n      }\n    }\n  ]\n}"
            }
          },
          "metadata": {},
          "execution_count": 167
        }
      ]
    },
    {
      "cell_type": "code",
      "source": [
        "mean_diff_words = task2_data['difficult_words'].mean()\n",
        "mean_lex_count = task2_data['lexicon_count'].mean()\n",
        "\n",
        "print(\"Mean of the difficult words\", mean_diff_words)\n",
        "print(\"Mean of the lexicon count \", mean_lex_count)"
      ],
      "metadata": {
        "colab": {
          "base_uri": "https://localhost:8080/"
        },
        "id": "EGpDuDup1fs2",
        "outputId": "af89fd1e-adba-483d-c059-d059c1b0260b"
      },
      "execution_count": null,
      "outputs": [
        {
          "output_type": "stream",
          "name": "stdout",
          "text": [
            "Mean of the difficult words 21.532893289328932\n",
            "Mean of the lexicon count  82.02684268426843\n"
          ]
        }
      ]
    },
    {
      "cell_type": "code",
      "source": [
        "task2_sample = task2_data.sample(n=100)\n",
        "print(task2_sample.shape)"
      ],
      "metadata": {
        "colab": {
          "base_uri": "https://localhost:8080/"
        },
        "id": "X5yBeDcF2k0n",
        "outputId": "6ea37241-5953-4561-eaa0-be03723014a4"
      },
      "execution_count": null,
      "outputs": [
        {
          "output_type": "stream",
          "name": "stdout",
          "text": [
            "(100, 14)\n"
          ]
        }
      ]
    },
    {
      "cell_type": "code",
      "source": [
        "task2_sample['clarity'] = task2_sample.apply(lambda x: 'not_clear_enough' if x['difficult_words'] > mean_diff_words and x['lexicon_count'] > mean_lex_count else 'clear_enough', axis=1)"
      ],
      "metadata": {
        "id": "3upgUmyu3Dy3"
      },
      "execution_count": null,
      "outputs": []
    },
    {
      "cell_type": "code",
      "source": [
        "\n",
        "lblEncoder = lblEncoder.fit(task2_sample['clarity']) # encoding clarity  column\n",
        "task2_sample['clarity'] = lblEncoder.transform(task2_sample['clarity'])"
      ],
      "metadata": {
        "id": "IzYSFQzy3LJa"
      },
      "execution_count": null,
      "outputs": []
    },
    {
      "cell_type": "code",
      "source": [
        "task2_sample.columns\n"
      ],
      "metadata": {
        "colab": {
          "base_uri": "https://localhost:8080/"
        },
        "id": "RTDXRC9i4EZ5",
        "outputId": "8649649b-1a6e-42ea-a618-253750d671ca"
      },
      "execution_count": null,
      "outputs": [
        {
          "output_type": "execute_result",
          "data": {
            "text/plain": [
              "Index(['has_entity_ORGNOPRODUCTNOPERSONNO',\n",
              "       'has_entity_ORGNOPRODUCTNOPERSONYES',\n",
              "       'has_entity_ORGNOPRODUCTYESPERSONNO',\n",
              "       'has_entity_ORGNOPRODUCTYESPERSONYES',\n",
              "       'has_entity_ORGYESPRODUCTNOPERSONNO',\n",
              "       'has_entity_ORGYESPRODUCTNOPERSONYES',\n",
              "       'has_entity_ORGYESPRODUCTYESPERSONNO',\n",
              "       'has_entity_ORGYESPRODUCTYESPERSONYES', 'lexicon_count',\n",
              "       'difficult_words', 'last_editor_gender', 'category', 'text_clarity',\n",
              "       'clean_lemmatized_text', 'clarity'],\n",
              "      dtype='object')"
            ]
          },
          "metadata": {},
          "execution_count": 172
        }
      ]
    },
    {
      "cell_type": "code",
      "source": [
        "task2_sample['clarity'].tail()"
      ],
      "metadata": {
        "colab": {
          "base_uri": "https://localhost:8080/"
        },
        "id": "Y4ebz2I8323v",
        "outputId": "abd515a4-4724-49b4-cca0-9cccef28ad10"
      },
      "execution_count": null,
      "outputs": [
        {
          "output_type": "execute_result",
          "data": {
            "text/plain": [
              "4743    0\n",
              "7802    0\n",
              "8029    1\n",
              "7320    0\n",
              "8689    0\n",
              "Name: clarity, dtype: int64"
            ]
          },
          "metadata": {},
          "execution_count": 173
        }
      ]
    },
    {
      "cell_type": "code",
      "source": [
        "task2_sample.drop(['text_clarity'], axis=1, inplace=True)"
      ],
      "metadata": {
        "id": "f26eVLGZ3Z0g"
      },
      "execution_count": null,
      "outputs": []
    },
    {
      "cell_type": "code",
      "source": [
        "task2_data.head()"
      ],
      "metadata": {
        "colab": {
          "base_uri": "https://localhost:8080/",
          "height": 348
        },
        "id": "IRfLot264MlN",
        "outputId": "9d81a72e-8c98-4ae7-db0e-25203be17ae3"
      },
      "execution_count": null,
      "outputs": [
        {
          "output_type": "execute_result",
          "data": {
            "text/plain": [
              "  has_entity_ORGNOPRODUCTNOPERSONNO has_entity_ORGNOPRODUCTNOPERSONYES  \\\n",
              "0                               0.0                                0.0   \n",
              "1                               0.0                                0.0   \n",
              "2                               0.0                                0.0   \n",
              "3                               0.0                                0.0   \n",
              "4                               0.0                                0.0   \n",
              "\n",
              "  has_entity_ORGNOPRODUCTYESPERSONNO has_entity_ORGNOPRODUCTYESPERSONYES  \\\n",
              "0                                0.0                                 0.0   \n",
              "1                                0.0                                 0.0   \n",
              "2                                0.0                                 0.0   \n",
              "3                                1.0                                 0.0   \n",
              "4                                0.0                                 0.0   \n",
              "\n",
              "  has_entity_ORGYESPRODUCTNOPERSONNO has_entity_ORGYESPRODUCTNOPERSONYES  \\\n",
              "0                                0.0                                 1.0   \n",
              "1                                1.0                                 0.0   \n",
              "2                                1.0                                 0.0   \n",
              "3                                0.0                                 0.0   \n",
              "4                                0.0                                 0.0   \n",
              "\n",
              "  has_entity_ORGYESPRODUCTYESPERSONNO has_entity_ORGYESPRODUCTYESPERSONYES  \\\n",
              "0                                 0.0                                  0.0   \n",
              "1                                 0.0                                  0.0   \n",
              "2                                 0.0                                  0.0   \n",
              "3                                 0.0                                  0.0   \n",
              "4                                 0.0                                  1.0   \n",
              "\n",
              "  lexicon_count difficult_words  last_editor_gender  category  \\\n",
              "0            49            12.0                   0         1   \n",
              "1           166            47.0                   0         0   \n",
              "2            69            18.0                   1         1   \n",
              "3            76            27.0                   1         4   \n",
              "4           200            47.0                   0         1   \n",
              "\n",
              "       text_clarity                              clean_lemmatized_text  \n",
              "0      clear_enough  ramsay bear glasgow 2 october 1852 nephew geol...  \n",
              "1  not_clear_enough  widely estimate generation program resource de...  \n",
              "2      clear_enough  go win royal medal royal society 1971 copley m...  \n",
              "3      clear_enough  change alter underlying assumption right thing...  \n",
              "4  not_clear_enough  novel publish disraeli declare write turn atte...  "
            ],
            "text/html": [
              "\n",
              "  <div id=\"df-f764613a-a66e-4ac7-96b1-5627e8a42f83\" class=\"colab-df-container\">\n",
              "    <div>\n",
              "<style scoped>\n",
              "    .dataframe tbody tr th:only-of-type {\n",
              "        vertical-align: middle;\n",
              "    }\n",
              "\n",
              "    .dataframe tbody tr th {\n",
              "        vertical-align: top;\n",
              "    }\n",
              "\n",
              "    .dataframe thead th {\n",
              "        text-align: right;\n",
              "    }\n",
              "</style>\n",
              "<table border=\"1\" class=\"dataframe\">\n",
              "  <thead>\n",
              "    <tr style=\"text-align: right;\">\n",
              "      <th></th>\n",
              "      <th>has_entity_ORGNOPRODUCTNOPERSONNO</th>\n",
              "      <th>has_entity_ORGNOPRODUCTNOPERSONYES</th>\n",
              "      <th>has_entity_ORGNOPRODUCTYESPERSONNO</th>\n",
              "      <th>has_entity_ORGNOPRODUCTYESPERSONYES</th>\n",
              "      <th>has_entity_ORGYESPRODUCTNOPERSONNO</th>\n",
              "      <th>has_entity_ORGYESPRODUCTNOPERSONYES</th>\n",
              "      <th>has_entity_ORGYESPRODUCTYESPERSONNO</th>\n",
              "      <th>has_entity_ORGYESPRODUCTYESPERSONYES</th>\n",
              "      <th>lexicon_count</th>\n",
              "      <th>difficult_words</th>\n",
              "      <th>last_editor_gender</th>\n",
              "      <th>category</th>\n",
              "      <th>text_clarity</th>\n",
              "      <th>clean_lemmatized_text</th>\n",
              "    </tr>\n",
              "  </thead>\n",
              "  <tbody>\n",
              "    <tr>\n",
              "      <th>0</th>\n",
              "      <td>0.0</td>\n",
              "      <td>0.0</td>\n",
              "      <td>0.0</td>\n",
              "      <td>0.0</td>\n",
              "      <td>0.0</td>\n",
              "      <td>1.0</td>\n",
              "      <td>0.0</td>\n",
              "      <td>0.0</td>\n",
              "      <td>49</td>\n",
              "      <td>12.0</td>\n",
              "      <td>0</td>\n",
              "      <td>1</td>\n",
              "      <td>clear_enough</td>\n",
              "      <td>ramsay bear glasgow 2 october 1852 nephew geol...</td>\n",
              "    </tr>\n",
              "    <tr>\n",
              "      <th>1</th>\n",
              "      <td>0.0</td>\n",
              "      <td>0.0</td>\n",
              "      <td>0.0</td>\n",
              "      <td>0.0</td>\n",
              "      <td>1.0</td>\n",
              "      <td>0.0</td>\n",
              "      <td>0.0</td>\n",
              "      <td>0.0</td>\n",
              "      <td>166</td>\n",
              "      <td>47.0</td>\n",
              "      <td>0</td>\n",
              "      <td>0</td>\n",
              "      <td>not_clear_enough</td>\n",
              "      <td>widely estimate generation program resource de...</td>\n",
              "    </tr>\n",
              "    <tr>\n",
              "      <th>2</th>\n",
              "      <td>0.0</td>\n",
              "      <td>0.0</td>\n",
              "      <td>0.0</td>\n",
              "      <td>0.0</td>\n",
              "      <td>1.0</td>\n",
              "      <td>0.0</td>\n",
              "      <td>0.0</td>\n",
              "      <td>0.0</td>\n",
              "      <td>69</td>\n",
              "      <td>18.0</td>\n",
              "      <td>1</td>\n",
              "      <td>1</td>\n",
              "      <td>clear_enough</td>\n",
              "      <td>go win royal medal royal society 1971 copley m...</td>\n",
              "    </tr>\n",
              "    <tr>\n",
              "      <th>3</th>\n",
              "      <td>0.0</td>\n",
              "      <td>0.0</td>\n",
              "      <td>1.0</td>\n",
              "      <td>0.0</td>\n",
              "      <td>0.0</td>\n",
              "      <td>0.0</td>\n",
              "      <td>0.0</td>\n",
              "      <td>0.0</td>\n",
              "      <td>76</td>\n",
              "      <td>27.0</td>\n",
              "      <td>1</td>\n",
              "      <td>4</td>\n",
              "      <td>clear_enough</td>\n",
              "      <td>change alter underlying assumption right thing...</td>\n",
              "    </tr>\n",
              "    <tr>\n",
              "      <th>4</th>\n",
              "      <td>0.0</td>\n",
              "      <td>0.0</td>\n",
              "      <td>0.0</td>\n",
              "      <td>0.0</td>\n",
              "      <td>0.0</td>\n",
              "      <td>0.0</td>\n",
              "      <td>0.0</td>\n",
              "      <td>1.0</td>\n",
              "      <td>200</td>\n",
              "      <td>47.0</td>\n",
              "      <td>0</td>\n",
              "      <td>1</td>\n",
              "      <td>not_clear_enough</td>\n",
              "      <td>novel publish disraeli declare write turn atte...</td>\n",
              "    </tr>\n",
              "  </tbody>\n",
              "</table>\n",
              "</div>\n",
              "    <div class=\"colab-df-buttons\">\n",
              "\n",
              "  <div class=\"colab-df-container\">\n",
              "    <button class=\"colab-df-convert\" onclick=\"convertToInteractive('df-f764613a-a66e-4ac7-96b1-5627e8a42f83')\"\n",
              "            title=\"Convert this dataframe to an interactive table.\"\n",
              "            style=\"display:none;\">\n",
              "\n",
              "  <svg xmlns=\"http://www.w3.org/2000/svg\" height=\"24px\" viewBox=\"0 -960 960 960\">\n",
              "    <path d=\"M120-120v-720h720v720H120Zm60-500h600v-160H180v160Zm220 220h160v-160H400v160Zm0 220h160v-160H400v160ZM180-400h160v-160H180v160Zm440 0h160v-160H620v160ZM180-180h160v-160H180v160Zm440 0h160v-160H620v160Z\"/>\n",
              "  </svg>\n",
              "    </button>\n",
              "\n",
              "  <style>\n",
              "    .colab-df-container {\n",
              "      display:flex;\n",
              "      gap: 12px;\n",
              "    }\n",
              "\n",
              "    .colab-df-convert {\n",
              "      background-color: #E8F0FE;\n",
              "      border: none;\n",
              "      border-radius: 50%;\n",
              "      cursor: pointer;\n",
              "      display: none;\n",
              "      fill: #1967D2;\n",
              "      height: 32px;\n",
              "      padding: 0 0 0 0;\n",
              "      width: 32px;\n",
              "    }\n",
              "\n",
              "    .colab-df-convert:hover {\n",
              "      background-color: #E2EBFA;\n",
              "      box-shadow: 0px 1px 2px rgba(60, 64, 67, 0.3), 0px 1px 3px 1px rgba(60, 64, 67, 0.15);\n",
              "      fill: #174EA6;\n",
              "    }\n",
              "\n",
              "    .colab-df-buttons div {\n",
              "      margin-bottom: 4px;\n",
              "    }\n",
              "\n",
              "    [theme=dark] .colab-df-convert {\n",
              "      background-color: #3B4455;\n",
              "      fill: #D2E3FC;\n",
              "    }\n",
              "\n",
              "    [theme=dark] .colab-df-convert:hover {\n",
              "      background-color: #434B5C;\n",
              "      box-shadow: 0px 1px 3px 1px rgba(0, 0, 0, 0.15);\n",
              "      filter: drop-shadow(0px 1px 2px rgba(0, 0, 0, 0.3));\n",
              "      fill: #FFFFFF;\n",
              "    }\n",
              "  </style>\n",
              "\n",
              "    <script>\n",
              "      const buttonEl =\n",
              "        document.querySelector('#df-f764613a-a66e-4ac7-96b1-5627e8a42f83 button.colab-df-convert');\n",
              "      buttonEl.style.display =\n",
              "        google.colab.kernel.accessAllowed ? 'block' : 'none';\n",
              "\n",
              "      async function convertToInteractive(key) {\n",
              "        const element = document.querySelector('#df-f764613a-a66e-4ac7-96b1-5627e8a42f83');\n",
              "        const dataTable =\n",
              "          await google.colab.kernel.invokeFunction('convertToInteractive',\n",
              "                                                    [key], {});\n",
              "        if (!dataTable) return;\n",
              "\n",
              "        const docLinkHtml = 'Like what you see? Visit the ' +\n",
              "          '<a target=\"_blank\" href=https://colab.research.google.com/notebooks/data_table.ipynb>data table notebook</a>'\n",
              "          + ' to learn more about interactive tables.';\n",
              "        element.innerHTML = '';\n",
              "        dataTable['output_type'] = 'display_data';\n",
              "        await google.colab.output.renderOutput(dataTable, element);\n",
              "        const docLink = document.createElement('div');\n",
              "        docLink.innerHTML = docLinkHtml;\n",
              "        element.appendChild(docLink);\n",
              "      }\n",
              "    </script>\n",
              "  </div>\n",
              "\n",
              "\n",
              "<div id=\"df-ccc75ceb-993c-4326-ac33-8ed66187d6c5\">\n",
              "  <button class=\"colab-df-quickchart\" onclick=\"quickchart('df-ccc75ceb-993c-4326-ac33-8ed66187d6c5')\"\n",
              "            title=\"Suggest charts\"\n",
              "            style=\"display:none;\">\n",
              "\n",
              "<svg xmlns=\"http://www.w3.org/2000/svg\" height=\"24px\"viewBox=\"0 0 24 24\"\n",
              "     width=\"24px\">\n",
              "    <g>\n",
              "        <path d=\"M19 3H5c-1.1 0-2 .9-2 2v14c0 1.1.9 2 2 2h14c1.1 0 2-.9 2-2V5c0-1.1-.9-2-2-2zM9 17H7v-7h2v7zm4 0h-2V7h2v10zm4 0h-2v-4h2v4z\"/>\n",
              "    </g>\n",
              "</svg>\n",
              "  </button>\n",
              "\n",
              "<style>\n",
              "  .colab-df-quickchart {\n",
              "      --bg-color: #E8F0FE;\n",
              "      --fill-color: #1967D2;\n",
              "      --hover-bg-color: #E2EBFA;\n",
              "      --hover-fill-color: #174EA6;\n",
              "      --disabled-fill-color: #AAA;\n",
              "      --disabled-bg-color: #DDD;\n",
              "  }\n",
              "\n",
              "  [theme=dark] .colab-df-quickchart {\n",
              "      --bg-color: #3B4455;\n",
              "      --fill-color: #D2E3FC;\n",
              "      --hover-bg-color: #434B5C;\n",
              "      --hover-fill-color: #FFFFFF;\n",
              "      --disabled-bg-color: #3B4455;\n",
              "      --disabled-fill-color: #666;\n",
              "  }\n",
              "\n",
              "  .colab-df-quickchart {\n",
              "    background-color: var(--bg-color);\n",
              "    border: none;\n",
              "    border-radius: 50%;\n",
              "    cursor: pointer;\n",
              "    display: none;\n",
              "    fill: var(--fill-color);\n",
              "    height: 32px;\n",
              "    padding: 0;\n",
              "    width: 32px;\n",
              "  }\n",
              "\n",
              "  .colab-df-quickchart:hover {\n",
              "    background-color: var(--hover-bg-color);\n",
              "    box-shadow: 0 1px 2px rgba(60, 64, 67, 0.3), 0 1px 3px 1px rgba(60, 64, 67, 0.15);\n",
              "    fill: var(--button-hover-fill-color);\n",
              "  }\n",
              "\n",
              "  .colab-df-quickchart-complete:disabled,\n",
              "  .colab-df-quickchart-complete:disabled:hover {\n",
              "    background-color: var(--disabled-bg-color);\n",
              "    fill: var(--disabled-fill-color);\n",
              "    box-shadow: none;\n",
              "  }\n",
              "\n",
              "  .colab-df-spinner {\n",
              "    border: 2px solid var(--fill-color);\n",
              "    border-color: transparent;\n",
              "    border-bottom-color: var(--fill-color);\n",
              "    animation:\n",
              "      spin 1s steps(1) infinite;\n",
              "  }\n",
              "\n",
              "  @keyframes spin {\n",
              "    0% {\n",
              "      border-color: transparent;\n",
              "      border-bottom-color: var(--fill-color);\n",
              "      border-left-color: var(--fill-color);\n",
              "    }\n",
              "    20% {\n",
              "      border-color: transparent;\n",
              "      border-left-color: var(--fill-color);\n",
              "      border-top-color: var(--fill-color);\n",
              "    }\n",
              "    30% {\n",
              "      border-color: transparent;\n",
              "      border-left-color: var(--fill-color);\n",
              "      border-top-color: var(--fill-color);\n",
              "      border-right-color: var(--fill-color);\n",
              "    }\n",
              "    40% {\n",
              "      border-color: transparent;\n",
              "      border-right-color: var(--fill-color);\n",
              "      border-top-color: var(--fill-color);\n",
              "    }\n",
              "    60% {\n",
              "      border-color: transparent;\n",
              "      border-right-color: var(--fill-color);\n",
              "    }\n",
              "    80% {\n",
              "      border-color: transparent;\n",
              "      border-right-color: var(--fill-color);\n",
              "      border-bottom-color: var(--fill-color);\n",
              "    }\n",
              "    90% {\n",
              "      border-color: transparent;\n",
              "      border-bottom-color: var(--fill-color);\n",
              "    }\n",
              "  }\n",
              "</style>\n",
              "\n",
              "  <script>\n",
              "    async function quickchart(key) {\n",
              "      const quickchartButtonEl =\n",
              "        document.querySelector('#' + key + ' button');\n",
              "      quickchartButtonEl.disabled = true;  // To prevent multiple clicks.\n",
              "      quickchartButtonEl.classList.add('colab-df-spinner');\n",
              "      try {\n",
              "        const charts = await google.colab.kernel.invokeFunction(\n",
              "            'suggestCharts', [key], {});\n",
              "      } catch (error) {\n",
              "        console.error('Error during call to suggestCharts:', error);\n",
              "      }\n",
              "      quickchartButtonEl.classList.remove('colab-df-spinner');\n",
              "      quickchartButtonEl.classList.add('colab-df-quickchart-complete');\n",
              "    }\n",
              "    (() => {\n",
              "      let quickchartButtonEl =\n",
              "        document.querySelector('#df-ccc75ceb-993c-4326-ac33-8ed66187d6c5 button');\n",
              "      quickchartButtonEl.style.display =\n",
              "        google.colab.kernel.accessAllowed ? 'block' : 'none';\n",
              "    })();\n",
              "  </script>\n",
              "</div>\n",
              "    </div>\n",
              "  </div>\n"
            ],
            "application/vnd.google.colaboratory.intrinsic+json": {
              "type": "dataframe",
              "variable_name": "task2_data",
              "summary": "{\n  \"name\": \"task2_data\",\n  \"rows\": 9090,\n  \"fields\": [\n    {\n      \"column\": \"has_entity_ORGNOPRODUCTNOPERSONNO\",\n      \"properties\": {\n        \"dtype\": \"date\",\n        \"min\": 0.0,\n        \"max\": 1.0,\n        \"num_unique_values\": 2,\n        \"samples\": [\n          1.0,\n          0.0\n        ],\n        \"semantic_type\": \"\",\n        \"description\": \"\"\n      }\n    },\n    {\n      \"column\": \"has_entity_ORGNOPRODUCTNOPERSONYES\",\n      \"properties\": {\n        \"dtype\": \"date\",\n        \"min\": 0.0,\n        \"max\": 1.0,\n        \"num_unique_values\": 2,\n        \"samples\": [\n          1.0,\n          0.0\n        ],\n        \"semantic_type\": \"\",\n        \"description\": \"\"\n      }\n    },\n    {\n      \"column\": \"has_entity_ORGNOPRODUCTYESPERSONNO\",\n      \"properties\": {\n        \"dtype\": \"date\",\n        \"min\": 0.0,\n        \"max\": 1.0,\n        \"num_unique_values\": 2,\n        \"samples\": [\n          1.0,\n          0.0\n        ],\n        \"semantic_type\": \"\",\n        \"description\": \"\"\n      }\n    },\n    {\n      \"column\": \"has_entity_ORGNOPRODUCTYESPERSONYES\",\n      \"properties\": {\n        \"dtype\": \"date\",\n        \"min\": 0.0,\n        \"max\": 1.0,\n        \"num_unique_values\": 2,\n        \"samples\": [\n          1.0,\n          0.0\n        ],\n        \"semantic_type\": \"\",\n        \"description\": \"\"\n      }\n    },\n    {\n      \"column\": \"has_entity_ORGYESPRODUCTNOPERSONNO\",\n      \"properties\": {\n        \"dtype\": \"date\",\n        \"min\": 0.0,\n        \"max\": 1.0,\n        \"num_unique_values\": 2,\n        \"samples\": [\n          1.0,\n          0.0\n        ],\n        \"semantic_type\": \"\",\n        \"description\": \"\"\n      }\n    },\n    {\n      \"column\": \"has_entity_ORGYESPRODUCTNOPERSONYES\",\n      \"properties\": {\n        \"dtype\": \"date\",\n        \"min\": 0.0,\n        \"max\": 1.0,\n        \"num_unique_values\": 2,\n        \"samples\": [\n          0.0,\n          1.0\n        ],\n        \"semantic_type\": \"\",\n        \"description\": \"\"\n      }\n    },\n    {\n      \"column\": \"has_entity_ORGYESPRODUCTYESPERSONNO\",\n      \"properties\": {\n        \"dtype\": \"date\",\n        \"min\": 0.0,\n        \"max\": 1.0,\n        \"num_unique_values\": 2,\n        \"samples\": [\n          1.0,\n          0.0\n        ],\n        \"semantic_type\": \"\",\n        \"description\": \"\"\n      }\n    },\n    {\n      \"column\": \"has_entity_ORGYESPRODUCTYESPERSONYES\",\n      \"properties\": {\n        \"dtype\": \"date\",\n        \"min\": 0.0,\n        \"max\": 1.0,\n        \"num_unique_values\": 2,\n        \"samples\": [\n          1.0,\n          0.0\n        ],\n        \"semantic_type\": \"\",\n        \"description\": \"\"\n      }\n    },\n    {\n      \"column\": \"lexicon_count\",\n      \"properties\": {\n        \"dtype\": \"date\",\n        \"min\": 0,\n        \"max\": 653,\n        \"num_unique_values\": 348,\n        \"samples\": [\n          237,\n          82\n        ],\n        \"semantic_type\": \"\",\n        \"description\": \"\"\n      }\n    },\n    {\n      \"column\": \"difficult_words\",\n      \"properties\": {\n        \"dtype\": \"date\",\n        \"min\": 0.0,\n        \"max\": 143.0,\n        \"num_unique_values\": 113,\n        \"samples\": [\n          96.0,\n          36.0\n        ],\n        \"semantic_type\": \"\",\n        \"description\": \"\"\n      }\n    },\n    {\n      \"column\": \"last_editor_gender\",\n      \"properties\": {\n        \"dtype\": \"number\",\n        \"std\": 1,\n        \"min\": 0,\n        \"max\": 3,\n        \"num_unique_values\": 4,\n        \"samples\": [\n          1,\n          2\n        ],\n        \"semantic_type\": \"\",\n        \"description\": \"\"\n      }\n    },\n    {\n      \"column\": \"category\",\n      \"properties\": {\n        \"dtype\": \"number\",\n        \"std\": 1,\n        \"min\": 0,\n        \"max\": 4,\n        \"num_unique_values\": 5,\n        \"samples\": [\n          0,\n          2\n        ],\n        \"semantic_type\": \"\",\n        \"description\": \"\"\n      }\n    },\n    {\n      \"column\": \"text_clarity\",\n      \"properties\": {\n        \"dtype\": \"category\",\n        \"num_unique_values\": 2,\n        \"samples\": [\n          \"not_clear_enough\",\n          \"clear_enough\"\n        ],\n        \"semantic_type\": \"\",\n        \"description\": \"\"\n      }\n    },\n    {\n      \"column\": \"clean_lemmatized_text\",\n      \"properties\": {\n        \"dtype\": \"string\",\n        \"num_unique_values\": 8944,\n        \"samples\": [\n          \"bbc minute category cheap find world produce good quality bbc go swinge staff cut cut bone divert licence fee money cut quality service lot people want bbc weaken talk terrible tax licence fee good bargain go radio channel god know tv channel piffle\",\n          \"heaviside opponent albert einstein theory relativity mathematician howard eve comment heaviside rate physicist time impugn einstein invective relativity theory border absurd\\\".in late year behavior eccentric accord associate b.a behrend recluse averse meet people deliver manuscript electrician paper grocery store editor pick\"\n        ],\n        \"semantic_type\": \"\",\n        \"description\": \"\"\n      }\n    }\n  ]\n}"
            }
          },
          "metadata": {},
          "execution_count": 175
        }
      ]
    },
    {
      "cell_type": "markdown",
      "source": [
        "## Data Splitting"
      ],
      "metadata": {
        "id": "X2Rrcwnz4ZCD"
      }
    },
    {
      "cell_type": "code",
      "source": [],
      "metadata": {
        "id": "gdGyPQIs-Ezo"
      },
      "execution_count": null,
      "outputs": []
    },
    {
      "cell_type": "code",
      "source": [
        "X = task2_sample.drop(['clarity'], axis=1)\n",
        "y = task2_sample['clarity']"
      ],
      "metadata": {
        "id": "Pskhr4rX4OBt"
      },
      "execution_count": null,
      "outputs": []
    },
    {
      "cell_type": "code",
      "source": [
        "X_train, X_test, y_train, y_test = train_test_split(X, y, test_size=0.2, random_state=42, stratify=y)\n",
        "\n",
        "X_train, X_val, y_train, y_val = train_test_split(X_train, y_train, test_size=0.125, random_state=42, stratify=y_train) # 0.125 x 0.8 = 0.1\n",
        "print(f\"Training Set Size: {len(X_train)}\")\n",
        "print(f\"Validation Set Size: {len(X_val)}\")\n",
        "print(f\"Test Set Size: {len(X_test)}\")"
      ],
      "metadata": {
        "colab": {
          "base_uri": "https://localhost:8080/"
        },
        "id": "vo4xrmK16fjR",
        "outputId": "ec6594aa-39ef-4354-c78a-a34c9d43d43c"
      },
      "execution_count": null,
      "outputs": [
        {
          "output_type": "stream",
          "name": "stdout",
          "text": [
            "Training Set Size: 70\n",
            "Validation Set Size: 10\n",
            "Test Set Size: 20\n"
          ]
        }
      ]
    },
    {
      "cell_type": "markdown",
      "source": [
        "## Tf-idf"
      ],
      "metadata": {
        "id": "g0NSkd3q5lQF"
      }
    },
    {
      "cell_type": "code",
      "source": [
        "task2_sample['clarity'].value_counts()"
      ],
      "metadata": {
        "id": "dG7ns1kD9mQN",
        "colab": {
          "base_uri": "https://localhost:8080/"
        },
        "outputId": "90826fa7-27bd-4e83-817d-1c11cf9ddbf5"
      },
      "execution_count": null,
      "outputs": [
        {
          "output_type": "execute_result",
          "data": {
            "text/plain": [
              "0    64\n",
              "1    36\n",
              "Name: clarity, dtype: int64"
            ]
          },
          "metadata": {},
          "execution_count": 200
        }
      ]
    },
    {
      "cell_type": "code",
      "source": [
        "tfidf_vectorizer = TfidfVectorizer(max_features=5000, stop_words='english')\n",
        "\n",
        "\n",
        "X_train_tfidf = tfidf_vectorizer.fit_transform(X_train['clean_lemmatized_text'])\n",
        "\n",
        "\n",
        "X_val_tfidf = tfidf_vectorizer.transform(X_val['clean_lemmatized_text'])\n",
        "X_test_tfidf = tfidf_vectorizer.transform(X_test['clean_lemmatized_text'])\n"
      ],
      "metadata": {
        "id": "yDft9YFs48GA"
      },
      "execution_count": null,
      "outputs": []
    },
    {
      "cell_type": "code",
      "source": [
        "print(X_train_tfidf)\n"
      ],
      "metadata": {
        "colab": {
          "base_uri": "https://localhost:8080/"
        },
        "id": "crzy2-5T5ofE",
        "outputId": "6a206717-2444-49ea-c9db-a17acbceff8a"
      },
      "execution_count": null,
      "outputs": [
        {
          "output_type": "stream",
          "name": "stdout",
          "text": [
            "  (0, 951)\t0.09412265206359201\n",
            "  (0, 1229)\t0.08577093344611103\n",
            "  (0, 1324)\t0.07984529478481812\n",
            "  (0, 269)\t0.09412265206359201\n",
            "  (0, 713)\t0.07984529478481812\n",
            "  (0, 578)\t0.06556793750604425\n",
            "  (0, 922)\t0.08577093344611103\n",
            "  (0, 447)\t0.09412265206359201\n",
            "  (0, 479)\t0.08577093344611103\n",
            "  (0, 180)\t0.09412265206359201\n",
            "  (0, 1647)\t0.05261993645978139\n",
            "  (0, 1443)\t0.08577093344611103\n",
            "  (0, 1396)\t0.09412265206359201\n",
            "  (0, 981)\t0.07984529478481812\n",
            "  (0, 1086)\t0.08577093344611103\n",
            "  (0, 804)\t0.09412265206359201\n",
            "  (0, 1625)\t0.06831840011182508\n",
            "  (0, 469)\t0.09412265206359201\n",
            "  (0, 271)\t0.09412265206359201\n",
            "  (0, 177)\t0.09412265206359201\n",
            "  (0, 554)\t0.09412265206359201\n",
            "  (0, 689)\t0.09412265206359201\n",
            "  (0, 735)\t0.08577093344611103\n",
            "  (0, 476)\t0.08577093344611103\n",
            "  (0, 167)\t0.07984529478481812\n",
            "  :\t:\n",
            "  (69, 76)\t0.07535764928288381\n",
            "  (69, 594)\t0.07535764928288381\n",
            "  (69, 1406)\t0.06281367850779307\n",
            "  (69, 188)\t0.07535764928288381\n",
            "  (69, 1219)\t0.07015143102136326\n",
            "  (69, 1171)\t0.07015143102136326\n",
            "  (69, 863)\t0.13222634881483109\n",
            "  (69, 751)\t0.06281367850779307\n",
            "  (69, 1422)\t0.06611317440741554\n",
            "  (69, 1648)\t0.05184436344893361\n",
            "  (69, 585)\t0.06611317440741554\n",
            "  (69, 733)\t0.15071529856576762\n",
            "  (69, 565)\t0.22607294784865145\n",
            "  (69, 266)\t0.07015143102136326\n",
            "  (69, 582)\t0.15071529856576762\n",
            "  (69, 1654)\t0.060023994473947\n",
            "  (69, 872)\t0.06281367850779307\n",
            "  (69, 1136)\t0.15071529856576762\n",
            "  (69, 316)\t0.07535764928288381\n",
            "  (69, 821)\t0.07015143102136326\n",
            "  (69, 393)\t0.07015143102136326\n",
            "  (69, 578)\t0.05760746024627251\n",
            "  (69, 1086)\t0.07535764928288381\n",
            "  (69, 1625)\t0.060023994473947\n",
            "  (69, 641)\t0.06281367850779307\n"
          ]
        }
      ]
    },
    {
      "cell_type": "code",
      "source": [
        "scaler = StandardScaler()\n",
        "scaler.set_output(transform=\"pandas\")\n",
        "\n",
        "X_train_scaled = scaler.fit_transform(X_train.drop(columns=['clean_lemmatized_text']))\n",
        "\n",
        "X_val_scaled = scaler.transform(X_val.drop(columns=['clean_lemmatized_text']))\n",
        "X_test_scaled = scaler.transform(X_test.drop(columns=['clean_lemmatized_text']))"
      ],
      "metadata": {
        "id": "AFiu-t6C6xOQ"
      },
      "execution_count": null,
      "outputs": []
    },
    {
      "cell_type": "code",
      "source": [
        "print(X_train_scaled.isna().sum())"
      ],
      "metadata": {
        "colab": {
          "base_uri": "https://localhost:8080/"
        },
        "id": "mA873yHi9Jzn",
        "outputId": "58626e58-3b48-4937-dccf-7f237a7714cd"
      },
      "execution_count": null,
      "outputs": [
        {
          "output_type": "stream",
          "name": "stdout",
          "text": [
            "has_entity_ORGNOPRODUCTNOPERSONNO       0\n",
            "has_entity_ORGNOPRODUCTNOPERSONYES      0\n",
            "has_entity_ORGNOPRODUCTYESPERSONNO      0\n",
            "has_entity_ORGNOPRODUCTYESPERSONYES     0\n",
            "has_entity_ORGYESPRODUCTNOPERSONNO      0\n",
            "has_entity_ORGYESPRODUCTNOPERSONYES     0\n",
            "has_entity_ORGYESPRODUCTYESPERSONNO     0\n",
            "has_entity_ORGYESPRODUCTYESPERSONYES    0\n",
            "lexicon_count                           0\n",
            "difficult_words                         0\n",
            "last_editor_gender                      0\n",
            "category                                0\n",
            "dtype: int64\n"
          ]
        }
      ]
    },
    {
      "cell_type": "code",
      "source": [
        "from sklearn.decomposition import PCA, TruncatedSVD\n",
        "pca = PCA(n_components = .90)\n",
        "pca = pca.fit(X_train_scaled)\n",
        "\n",
        "cumulative_explained_var_ratio = np.cumsum(pca.explained_variance_ratio_)"
      ],
      "metadata": {
        "id": "PayPrqa27yCX"
      },
      "execution_count": null,
      "outputs": []
    },
    {
      "cell_type": "code",
      "source": [
        "ind = range(1,len(cumulative_explained_var_ratio)+1)\n",
        "\n",
        "fig = plt.figure(figsize=(10, 5))\n",
        "ax1 = plt.subplot(111)\n",
        "\n",
        "_ = ax1.set_xticks(ind)\n",
        "_ = ax1.set_xticklabels(ind)\n",
        "_ = ax1.bar(ind, cumulative_explained_var_ratio, width=0.8, color='lightsteelblue',\n",
        "            label = 'cumulative variance')\n",
        "_ = ax1.plot(ind, pca.explained_variance_ratio_, '-o', linewidth= 2, color= 'black',\n",
        "             label = 'individual variance')\n",
        "\n",
        "_ = ax1.set_title('Explained Variance vs number of principal components')\n",
        "_ = ax1.set_xlabel('Nb of components')\n",
        "_ = ax1.set_ylabel('Explained variance (fraction)')\n",
        "ax1.legend()\n",
        "\n",
        "print('Cumulative explained variances: {}'.format(dict(zip(ind, [np.around(t,3) for t in cumulative_explained_var_ratio]))))\n",
        "print()\n",
        "\n"
      ],
      "metadata": {
        "colab": {
          "base_uri": "https://localhost:8080/",
          "height": 468
        },
        "id": "kLrdba9C8HCf",
        "outputId": "b63da80f-1063-4ab4-aba7-b289d7099ccd"
      },
      "execution_count": null,
      "outputs": [
        {
          "output_type": "stream",
          "name": "stdout",
          "text": [
            "Cumulative explained variances: {1: 0.268, 2: 0.413, 3: 0.542, 4: 0.661, 5: 0.77, 6: 0.863, 7: 0.934}\n",
            "\n"
          ]
        },
        {
          "output_type": "display_data",
          "data": {
            "text/plain": [
              "<Figure size 1000x500 with 1 Axes>"
            ],
            "image/png": "[encoded data removed]"
          },
          "metadata": {}
        }
      ]
    },
    {
      "cell_type": "code",
      "source": [
        "from sklearn.decomposition import PCA\n",
        "import matplotlib.pyplot as plt\n",
        "\n",
        "pca = PCA()\n",
        "pca_transform = pca.fit_transform(X_train_scaled)\n",
        "\n",
        "print(f'The total number of components used is {len(pca.explained_variance_ratio_)}')\n",
        "\n",
        "plt.figure(figsize=(10, 5))\n",
        "_ = plt.bar(range(1, len(pca.explained_variance_ratio_) + 1), np.cumsum(pca.explained_variance_ratio_), width=0.8, color='lightsteelblue',\n",
        "            label='cumulative variance')\n",
        "_ = plt.xlabel('Nb of components')\n",
        "_ = plt.ylabel('Cumulative explained variance (fraction)')\n",
        "print('Cumulative variance explained: ', np.cumsum(pca.explained_variance_ratio_))\n"
      ],
      "metadata": {
        "colab": {
          "base_uri": "https://localhost:8080/",
          "height": 467
        },
        "id": "AqpBg6Hk_OTB",
        "outputId": "d94d4085-9ddf-4146-cac8-9219b2f990aa"
      },
      "execution_count": null,
      "outputs": [
        {
          "output_type": "stream",
          "name": "stdout",
          "text": [
            "The total number of components used is 12\n",
            "Cumulative variance explained:  [0.26765961 0.41267292 0.54164306 0.66138488 0.77037036 0.86303614\n",
            " 0.93376093 0.99307573 1.         1.         1.         1.        ]\n"
          ]
        },
        {
          "output_type": "display_data",
          "data": {
            "text/plain": [
              "<Figure size 1000x500 with 1 Axes>"
            ],
            "image/png": "[encoded data removed]"
          },
          "metadata": {}
        }
      ]
    },
    {
      "cell_type": "code",
      "source": [
        "from sklearn.linear_model import SGDClassifier\n",
        "from sklearn.metrics import ConfusionMatrixDisplay\n",
        "comp_num_lst = range(2,13)\n",
        "\n",
        "accuracy_by_component = []\n",
        "\n",
        "for comp_num in comp_num_lst:\n",
        "    pca = PCA(n_components=comp_num)\n",
        "    clf_ = SGDClassifier()\n",
        "\n",
        "    pca.fit(X_train_scaled)\n",
        "\n",
        "    pca_data_training = pca.transform(X_train_scaled)\n",
        "    pca_data_val = pca.transform(X_val_scaled)\n",
        "    print(f'Data dimensionality with {comp_num} components is {pca_data_training.shape[1]}')\n",
        "\n",
        "    clf_.fit(pca_data_training, y_train)\n",
        "    accuracy_by_component.append(clf_.score(pca_data_val, y_val))\n",
        "\n",
        "plt.figure(figsize=(5,5))\n",
        "plt.plot(comp_num_lst, accuracy_by_component, '-o')\n",
        "plt.xlabel('Nb of principal components')\n",
        "plt.ylabel('Validation accuracy')\n",
        "\n",
        "best_accuracy_ind = np.argmax(accuracy_by_component)\n",
        "best_component_nb = comp_num_lst[best_accuracy_ind]\n",
        "print(f'\\n The best number of principal components to use is: {best_component_nb} \\n')\n",
        "\n",
        "\n",
        "best_pca = PCA(n_components=best_component_nb)\n",
        "best_clf_ = SGDClassifier()\n",
        "\n",
        "best_pca.fit(X_train_scaled)\n",
        "\n",
        "pca_data_training = pca.transform(X_train_scaled)\n",
        "pca_data_test = pca.transform(X_test_scaled)\n",
        "\n",
        "\n",
        "best_clf_.fit(pca_data_training, y_train)\n",
        "\n",
        "target_pred = best_clf_.predict(pca_data_test)\n",
        "print(classification_report(y_test, target_pred))\n",
        "print()\n",
        "\n",
        "print()\n",
        "cm= ConfusionMatrixDisplay.from_estimator(best_clf_, pca_data_test, y_test)\n",
        "\n"
      ],
      "metadata": {
        "colab": {
          "base_uri": "https://localhost:8080/",
          "height": 1000
        },
        "id": "KL9iO3mkAdb3",
        "outputId": "27c52335-fe83-4d13-ce11-3a7ae2445a31"
      },
      "execution_count": null,
      "outputs": [
        {
          "output_type": "stream",
          "name": "stdout",
          "text": [
            "Data dimensionality with 2 components is 2\n",
            "Data dimensionality with 3 components is 3\n",
            "Data dimensionality with 4 components is 4\n",
            "Data dimensionality with 5 components is 5\n",
            "Data dimensionality with 6 components is 6\n",
            "Data dimensionality with 7 components is 7\n",
            "Data dimensionality with 8 components is 8\n",
            "Data dimensionality with 9 components is 9\n",
            "Data dimensionality with 10 components is 10\n",
            "Data dimensionality with 11 components is 11\n",
            "Data dimensionality with 12 components is 12\n",
            "\n",
            " The best number of principal components to use is: 9 \n",
            "\n",
            "              precision    recall  f1-score   support\n",
            "\n",
            "           0       0.93      1.00      0.96        13\n",
            "           1       1.00      0.86      0.92         7\n",
            "\n",
            "    accuracy                           0.95        20\n",
            "   macro avg       0.96      0.93      0.94        20\n",
            "weighted avg       0.95      0.95      0.95        20\n",
            "\n",
            "\n",
            "\n"
          ]
        },
        {
          "output_type": "display_data",
          "data": {
            "text/plain": [
              "<Figure size 500x500 with 1 Axes>"
            ],
            "image/png": "[encoded data removed]"
          },
          "metadata": {}
        },
        {
          "output_type": "display_data",
          "data": {
            "text/plain": [
              "<Figure size 640x480 with 2 Axes>"
            ],
            "image/png": "[encoded data removed]"
          },
          "metadata": {}
        }
      ]
    },
    {
      "cell_type": "code",
      "source": [
        "print(\"Classification Report for Validation Set:\")\n",
        "print(classification_report(y_val, best_clf_.predict(pca_data_val)))\n",
        "print(\"\\nClassification Report for Test Set:\")\n",
        "print(classification_report(y_test, target_pred))"
      ],
      "metadata": {
        "colab": {
          "base_uri": "https://localhost:8080/"
        },
        "id": "lvxYuAtyDNd7",
        "outputId": "c064967d-c883-4504-b76f-8b8370a17040"
      },
      "execution_count": null,
      "outputs": [
        {
          "output_type": "stream",
          "name": "stdout",
          "text": [
            "Classification Report for Validation Set:\n",
            "              precision    recall  f1-score   support\n",
            "\n",
            "           0       1.00      0.83      0.91         6\n",
            "           1       0.80      1.00      0.89         4\n",
            "\n",
            "    accuracy                           0.90        10\n",
            "   macro avg       0.90      0.92      0.90        10\n",
            "weighted avg       0.92      0.90      0.90        10\n",
            "\n",
            "\n",
            "Classification Report for Test Set:\n",
            "              precision    recall  f1-score   support\n",
            "\n",
            "           0       0.93      1.00      0.96        13\n",
            "           1       1.00      0.86      0.92         7\n",
            "\n",
            "    accuracy                           0.95        20\n",
            "   macro avg       0.96      0.93      0.94        20\n",
            "weighted avg       0.95      0.95      0.95        20\n",
            "\n"
          ]
        }
      ]
    },
    {
      "cell_type": "code",
      "source": [
        "\n",
        "param_grid = {\n",
        "    'alpha': [0.0001, 0.001, 0.01],\n",
        "    'penalty': ['l1', 'l2']\n",
        "}\n",
        "\n",
        "\n",
        "clf = SGDClassifier()\n",
        "\n",
        "\n",
        "grid_search = GridSearchCV(estimator=clf, param_grid=param_grid, cv=5, scoring='accuracy')\n",
        "grid_search.fit(pca_data_training, y_train)\n",
        "\n",
        "best_params = grid_search.best_params_\n",
        "best_score = grid_search.best_score_\n",
        "\n",
        "print(\"Best Parameters:\", best_params)\n",
        "print(\"Best Score:\", best_score)"
      ],
      "metadata": {
        "colab": {
          "base_uri": "https://localhost:8080/"
        },
        "id": "dG9q7FS4EFMK",
        "outputId": "6111a079-4e3a-4191-fb60-2049bc9c3825"
      },
      "execution_count": null,
      "outputs": [
        {
          "output_type": "stream",
          "name": "stdout",
          "text": [
            "Best Parameters: {'alpha': 0.01, 'penalty': 'l1'}\n",
            "Best Score: 0.9285714285714285\n"
          ]
        }
      ]
    },
    {
      "cell_type": "code",
      "source": [
        "from sklearn.metrics import accuracy_score\n",
        "\n",
        "best_clf = SGDClassifier(alpha=0.0001, penalty='l1')\n",
        "\n",
        "best_clf.fit(pca_data_training, y_train)\n",
        "\n",
        "y_pred = best_clf.predict(pca_data_val)\n",
        "\n",
        "\n",
        "print(\"Classification Report for Validation Set:\")\n",
        "print(classification_report(y_val, best_clf_.predict(pca_data_val)))\n",
        "print(\"\\nClassification Report for Test Set:\")\n",
        "print(classification_report(y_test, target_pred))"
      ],
      "metadata": {
        "colab": {
          "base_uri": "https://localhost:8080/"
        },
        "id": "Eb6qlx6vEHRp",
        "outputId": "a179239d-8ec3-40d3-9df7-49293412bd6e"
      },
      "execution_count": null,
      "outputs": [
        {
          "output_type": "stream",
          "name": "stdout",
          "text": [
            "Classification Report for Validation Set:\n",
            "              precision    recall  f1-score   support\n",
            "\n",
            "           0       1.00      0.83      0.91         6\n",
            "           1       0.80      1.00      0.89         4\n",
            "\n",
            "    accuracy                           0.90        10\n",
            "   macro avg       0.90      0.92      0.90        10\n",
            "weighted avg       0.92      0.90      0.90        10\n",
            "\n",
            "\n",
            "Classification Report for Test Set:\n",
            "              precision    recall  f1-score   support\n",
            "\n",
            "           0       0.93      1.00      0.96        13\n",
            "           1       1.00      0.86      0.92         7\n",
            "\n",
            "    accuracy                           0.95        20\n",
            "   macro avg       0.96      0.93      0.94        20\n",
            "weighted avg       0.95      0.95      0.95        20\n",
            "\n"
          ]
        }
      ]
    },
    {
      "cell_type": "markdown",
      "source": [
        "## Class Weight"
      ],
      "metadata": {
        "id": "znOe4kY8lH70"
      }
    },
    {
      "cell_type": "code",
      "source": [
        "from sklearn.utils.class_weight import compute_class_weight\n",
        "\n",
        "\n",
        "class_weights = compute_class_weight(class_weight='balanced', classes=np.unique(y_train), y=y_train)\n",
        "\n",
        "\n",
        "best_clf_weighted = SGDClassifier(alpha=0.0001, penalty='l2', class_weight={0: class_weights[0], 1: class_weights[1]})\n",
        "\n",
        "best_clf_weighted.fit(pca_data_training, y_train)\n",
        "\n",
        "y_val_pred_weighted = best_clf_weighted.predict(pca_data_val)\n",
        "y_test_pred_weighted = best_clf_weighted.predict(pca_data_test)\n",
        "\n",
        "print(\"Classification Report for Validation Set with Class Weights:\")\n",
        "print(classification_report(y_val, y_val_pred_weighted))\n",
        "\n",
        "print(\"\\nClassification Report for Test Set with Class Weights:\")\n",
        "print(classification_report(y_test, y_test_pred_weighted))\n"
      ],
      "metadata": {
        "colab": {
          "base_uri": "https://localhost:8080/"
        },
        "id": "0HEX1LFLFPd1",
        "outputId": "9c48551d-cb71-4418-b887-dddae5d813f7"
      },
      "execution_count": null,
      "outputs": [
        {
          "output_type": "stream",
          "name": "stdout",
          "text": [
            "Classification Report for Validation Set with Class Weights:\n",
            "              precision    recall  f1-score   support\n",
            "\n",
            "           0       0.86      1.00      0.92         6\n",
            "           1       1.00      0.75      0.86         4\n",
            "\n",
            "    accuracy                           0.90        10\n",
            "   macro avg       0.93      0.88      0.89        10\n",
            "weighted avg       0.91      0.90      0.90        10\n",
            "\n",
            "\n",
            "Classification Report for Test Set with Class Weights:\n",
            "              precision    recall  f1-score   support\n",
            "\n",
            "           0       0.93      1.00      0.96        13\n",
            "           1       1.00      0.86      0.92         7\n",
            "\n",
            "    accuracy                           0.95        20\n",
            "   macro avg       0.96      0.93      0.94        20\n",
            "weighted avg       0.95      0.95      0.95        20\n",
            "\n"
          ]
        }
      ]
    },
    {
      "cell_type": "markdown",
      "source": [
        "## Grid Search on SGDClassifier"
      ],
      "metadata": {
        "id": "OX5UbP45Np_c"
      }
    },
    {
      "cell_type": "code",
      "source": [
        "from sklearn.model_selection import GridSearchCV, RandomizedSearchCV\n",
        "from sklearn.linear_model import SGDClassifier\n",
        "from sklearn.metrics import classification_report\n",
        "\n",
        "\n",
        "param_grid = {\n",
        "    'alpha': [0.0001, 0.001, 0.01, 0.1],\n",
        "    'penalty': ['l1', 'l2'],\n",
        "    'loss': ['hinge', 'log', 'modified_huber'],\n",
        "    'learning_rate': ['constant', 'optimal', 'adaptive'],\n",
        "}\n",
        "\n",
        "sgd_clf = SGDClassifier()\n",
        "\n",
        "grid_search = GridSearchCV(sgd_clf, param_grid, cv=5, scoring='accuracy')\n",
        "grid_search.fit(X_train_tfidf, y_train)\n",
        "\n",
        "best_params_grid = grid_search.best_params_\n",
        "best_score_grid = grid_search.best_score_\n",
        "\n",
        "print(\"Best Parameters (Grid Search):\", best_params_grid)\n",
        "print(\"Best Score (Grid Search):\", best_score_grid)\n",
        "\n",
        "param_dist = {\n",
        "    'alpha': [0.0001, 0.001, 0.01, 0.1],\n",
        "    'penalty': ['l1', 'l2'],\n",
        "    'loss': ['hinge', 'log', 'modified_huber'],\n",
        "    'learning_rate': ['constant', 'optimal', 'adaptive'], rate schedule\n",
        "}\n",
        "\n",
        "\n",
        "random_search = RandomizedSearchCV(sgd_clf, param_dist, n_iter=10, cv=5, scoring='accuracy', random_state=42)\n",
        "random_search.fit(X_train_tfidf, y_train)\n",
        "\n",
        "\n",
        "best_params_random = random_search.best_params_\n",
        "best_score_random = random_search.best_score_\n",
        "print(\"Best Parameters (Randomized Search):\", best_params_random)\n",
        "print(\"Best Score (Randomized Search):\", best_score_random)\n",
        "\n",
        "\n",
        "best_model = random_search.best_estimator_\n",
        "y_pred_test = best_model.predict(X_test_tfidf)\n",
        "print(\"Test Set Classification Report:\")\n",
        "print(classification_report(y_test, y_pred_test))\n"
      ],
      "metadata": {
        "colab": {
          "base_uri": "https://localhost:8080/"
        },
        "id": "fqCMXwl3GpQi",
        "outputId": "7624c6e3-0b6c-4e8b-d430-f38b8b0b3e54"
      },
      "execution_count": null,
      "outputs": [
        {
          "output_type": "stream",
          "name": "stdout",
          "text": [
            "Best Parameters (Grid Search): {'alpha': 0.001, 'learning_rate': 'optimal', 'loss': 'hinge', 'penalty': 'l2'}\n",
            "Best Score (Grid Search): 0.6714285714285715\n",
            "Best Parameters (Randomized Search): {'penalty': 'l1', 'loss': 'log', 'learning_rate': 'optimal', 'alpha': 0.1}\n",
            "Best Score (Randomized Search): 0.6428571428571429\n",
            "Test Set Classification Report:\n",
            "              precision    recall  f1-score   support\n",
            "\n",
            "           0       0.65      1.00      0.79        13\n",
            "           1       0.00      0.00      0.00         7\n",
            "\n",
            "    accuracy                           0.65        20\n",
            "   macro avg       0.33      0.50      0.39        20\n",
            "weighted avg       0.42      0.65      0.51        20\n",
            "\n"
          ]
        }
      ]
    },
    {
      "cell_type": "code",
      "source": [
        "from sklearn.neural_network import MLPClassifier\n",
        "from sklearn.metrics import classification_report\n",
        "\n",
        "mlp_clf = MLPClassifier(random_state=42)\n",
        "\n",
        "\n",
        "mlp_clf.fit(X_train_tfidf, y_train)\n",
        "\n",
        "\n",
        "y_val_pred = mlp_clf.predict(X_val_tfidf)\n",
        "\n",
        "\n",
        "print(\"Classification Report for Validation Set:\")\n",
        "print(classification_report(y_val, y_val_pred))\n",
        "\n",
        "\n",
        "y_test_pred = mlp_clf.predict(X_test_tfidf)\n",
        "\n",
        "\n",
        "print(\"\\nClassification Report for Test Set:\")\n",
        "print(classification_report(y_test, y_test_pred))\n"
      ],
      "metadata": {
        "colab": {
          "base_uri": "https://localhost:8080/"
        },
        "id": "0G3GVogSKtpH",
        "outputId": "0f297c8c-dc2c-489c-fc88-2aa0fbae5c58"
      },
      "execution_count": null,
      "outputs": [
        {
          "output_type": "stream",
          "name": "stdout",
          "text": [
            "Classification Report for Validation Set:\n",
            "              precision    recall  f1-score   support\n",
            "\n",
            "           0       0.67      0.67      0.67         6\n",
            "           1       0.50      0.50      0.50         4\n",
            "\n",
            "    accuracy                           0.60        10\n",
            "   macro avg       0.58      0.58      0.58        10\n",
            "weighted avg       0.60      0.60      0.60        10\n",
            "\n",
            "\n",
            "Classification Report for Test Set:\n",
            "              precision    recall  f1-score   support\n",
            "\n",
            "           0       0.71      0.77      0.74        13\n",
            "           1       0.50      0.43      0.46         7\n",
            "\n",
            "    accuracy                           0.65        20\n",
            "   macro avg       0.61      0.60      0.60        20\n",
            "weighted avg       0.64      0.65      0.64        20\n",
            "\n"
          ]
        }
      ]
    },
    {
      "cell_type": "code",
      "source": [
        "from sklearn.model_selection import GridSearchCV\n",
        "from sklearn.neural_network import MLPClassifier\n",
        "\n",
        "# defining the parameters\n",
        "param_grid = {\n",
        "    'hidden_layer_sizes': [(30,), (20,)],\n",
        "    'activation': ['relu', 'tanh', 'logistic'],\n",
        "    'solver': ['adam', 'sgd'],\n",
        "    'alpha': [0.0001, 0.001, 0.01],\n",
        "}\n",
        "\n",
        "\n",
        "mlp_clf = MLPClassifier(random_state=42)\n",
        "\n",
        "grid_search = GridSearchCV(mlp_clf, param_grid, cv=5, scoring='accuracy')\n",
        "\n",
        "\n",
        "grid_search.fit(X_train_tfidf, y_train)\n",
        "\n",
        "best_params = grid_search.best_params_\n",
        "best_score = grid_search.best_score_\n",
        "\n",
        "best_mlp_clf = MLPClassifier(random_state=42, **best_params)\n",
        "\n",
        "\n",
        "best_mlp_clf.fit(X_train_tfidf, y_train)\n",
        "\n",
        "y_test_pred_best = best_mlp_clf.predict(X_test_tfidf)\n",
        "\n",
        "print(\"\\nClassification Report for Test Set with Best Hyperparameters:\")\n",
        "print(classification_report(y_test, y_test_pred_best))\n"
      ],
      "metadata": {
        "colab": {
          "base_uri": "https://localhost:8080/"
        },
        "id": "LyxUm6ekM3mm",
        "outputId": "3f7be11f-b68b-4690-c6cc-918650f8ab4c"
      },
      "execution_count": null,
      "outputs": [
        {
          "output_type": "stream",
          "name": "stdout",
          "text": [
            "\n",
            "Classification Report for Test Set with Best Hyperparameters:\n",
            "              precision    recall  f1-score   support\n",
            "\n",
            "           0       0.63      0.92      0.75        13\n",
            "           1       0.00      0.00      0.00         7\n",
            "\n",
            "    accuracy                           0.60        20\n",
            "   macro avg       0.32      0.46      0.37        20\n",
            "weighted avg       0.41      0.60      0.49        20\n",
            "\n"
          ]
        }
      ]
    },
    {
      "cell_type": "code",
      "source": [
        "\n",
        "pca_viz = PCA(n_components=2)\n",
        "pca_viz_transform = pca_viz.fit_transform(X_train_scaled)"
      ],
      "metadata": {
        "id": "YhTPzxgyCI2U"
      },
      "execution_count": null,
      "outputs": []
    },
    {
      "cell_type": "code",
      "source": [
        "\n",
        "classes_ = y_train.value_counts().index\n",
        "\n",
        "colors = ['black', 'grey','lightgrey']\n",
        "\n",
        "plt.figure(figsize=(10,10))\n",
        "for target_class,color in zip(classes_, colors):\n",
        "\n",
        "    plt.scatter(pca_viz_transform[y_train==target_class,0],\n",
        "                pca_viz_transform[y_train==target_class,1],\n",
        "                label=target_class,\n",
        "                color=color)\n",
        "plt.legend()"
      ],
      "metadata": {
        "colab": {
          "base_uri": "https://localhost:8080/",
          "height": 738
        },
        "id": "t8WINPmABOsd",
        "outputId": "333a628f-f917-4c8a-dbf4-35c046ae248b"
      },
      "execution_count": null,
      "outputs": [
        {
          "output_type": "execute_result",
          "data": {
            "text/plain": [
              "<matplotlib.legend.Legend at 0x7a9ff3de1de0>"
            ]
          },
          "metadata": {},
          "execution_count": 194
        },
        {
          "output_type": "display_data",
          "data": {
            "text/plain": [
              "<Figure size 1000x1000 with 1 Axes>"
            ],
            "image/png": "[encoded data removed]"
          },
          "metadata": {}
        }
      ]
    }
  ],
  "metadata": {
    "colab": {
      "provenance": []
    },
    "kernelspec": {
      "display_name": "Python 3",
      "name": "python3"
    },
    "language_info": {
      "name": "python"
    }
  },
  "nbformat": 4,
  "nbformat_minor": 0
}